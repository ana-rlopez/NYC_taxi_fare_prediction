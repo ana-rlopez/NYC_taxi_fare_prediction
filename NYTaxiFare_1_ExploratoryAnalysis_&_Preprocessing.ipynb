{
 "cells": [
  {
   "cell_type": "markdown",
   "metadata": {
    "colab_type": "text",
    "id": "view-in-github"
   },
   "source": [
    "<a href=\"https://colab.research.google.com/github/ana-rlopez/ny_taxi_fare_prediction/blob/master/NYTaxiFare_1_ExploratoryAnalysis_%26_Preprocessing.ipynb\" target=\"_parent\"><img src=\"https://colab.research.google.com/assets/colab-badge.svg\" alt=\"Open In Colab\"/></a>"
   ]
  },
  {
   "cell_type": "code",
   "execution_count": 1,
   "metadata": {
    "colab": {},
    "colab_type": "code",
    "id": "of4LCPeltVMG"
   },
   "outputs": [],
   "source": [
    "import numpy as np\n",
    "import pandas as pd\n",
    "import matplotlib.pyplot as plt\n",
    "import seaborn as sns\n",
    "import sys\n",
    "from geopy.distance import vincenty\n",
    "import sklearn.feature_selection\n",
    "from sklearn import linear_model\n",
    "sklearn.preprocessing import RobustScaler"
   ]
  },
  {
   "cell_type": "code",
   "execution_count": 2,
   "metadata": {
    "colab": {
     "base_uri": "https://localhost:8080/",
     "height": 54
    },
    "colab_type": "code",
    "id": "31lNgv3Y2Sjk",
    "outputId": "e3af7b71-5307-42f6-fb8e-1fa6f574cb6b"
   },
   "outputs": [],
   "source": [
    "#from google.colab import drive\n",
    "#drive.mount('/content/drive')\n",
    "#train_path = '/content/drive/My Drive/Colab Notebooks/train.csv'\n",
    "train_path = 'train.csv'"
   ]
  },
  {
   "cell_type": "code",
   "execution_count": 3,
   "metadata": {
    "colab": {
     "base_uri": "https://localhost:8080/",
     "height": 313
    },
    "colab_type": "code",
    "id": "fNS7UyE9FWXh",
    "outputId": "e8809129-ab10-4b95-b377-94d56e3e0bb9"
   },
   "outputs": [
    {
     "ename": "NameError",
     "evalue": "name 'pd' is not defined",
     "output_type": "error",
     "traceback": [
      "\u001b[0;31m---------------------------------------------------------------------------\u001b[0m",
      "\u001b[0;31mNameError\u001b[0m                                 Traceback (most recent call last)",
      "\u001b[0;32m<ipython-input-3-ce96cea67b89>\u001b[0m in \u001b[0;36m<module>\u001b[0;34m\u001b[0m\n\u001b[0;32m----> 1\u001b[0;31m \u001b[0mtrain\u001b[0m \u001b[0;34m=\u001b[0m \u001b[0mpd\u001b[0m\u001b[0;34m.\u001b[0m\u001b[0mread_csv\u001b[0m\u001b[0;34m(\u001b[0m\u001b[0mtrain_path\u001b[0m\u001b[0;34m,\u001b[0m \u001b[0mnrows\u001b[0m\u001b[0;34m=\u001b[0m\u001b[0;36m1_000_000\u001b[0m\u001b[0;34m)\u001b[0m \u001b[0;31m#we don't select all rows, since it is a big dataset\u001b[0m\u001b[0;34m\u001b[0m\u001b[0;34m\u001b[0m\u001b[0m\n\u001b[0m\u001b[1;32m      2\u001b[0m \u001b[0mtrain\u001b[0m\u001b[0;34m.\u001b[0m\u001b[0mhead\u001b[0m\u001b[0;34m(\u001b[0m\u001b[0;34m)\u001b[0m\u001b[0;34m\u001b[0m\u001b[0;34m\u001b[0m\u001b[0m\n",
      "\u001b[0;31mNameError\u001b[0m: name 'pd' is not defined"
     ]
    }
   ],
   "source": [
    "train = pd.read_csv(train_path, nrows=1_000_000) #we don't select all rows, since it is a big dataset\n",
    "train.head()"
   ]
  },
  {
   "cell_type": "code",
   "execution_count": null,
   "metadata": {
    "colab": {
     "base_uri": "https://localhost:8080/",
     "height": 34
    },
    "colab_type": "code",
    "id": "mmChemjEL1Yf",
    "outputId": "65f69b23-40b1-48ff-9c48-27f0eeb89b56"
   },
   "outputs": [],
   "source": [
    "#check if there are some NaN values\n",
    "train.columns[train.isna().any()].tolist()"
   ]
  },
  {
   "cell_type": "code",
   "execution_count": null,
   "metadata": {
    "colab": {
     "base_uri": "https://localhost:8080/",
     "height": 34
    },
    "colab_type": "code",
    "id": "IZ746OzJM2db",
    "outputId": "8fd12eac-13d9-4594-984c-940d61b52be6"
   },
   "outputs": [],
   "source": [
    "#we drop these values given that the data set is quite big\n",
    "#original rows: 1_000_000\n",
    "train.dropna(inplace=True)\n",
    "train.shape[0]"
   ]
  },
  {
   "cell_type": "code",
   "execution_count": null,
   "metadata": {
    "colab": {
     "base_uri": "https://localhost:8080/",
     "height": 34
    },
    "colab_type": "code",
    "id": "RFcZ_C94W47i",
    "outputId": "55e1ee8c-f677-44b8-caad-afce37a07865"
   },
   "outputs": [],
   "source": [
    "#drop duplicates\n",
    "train.drop_duplicates(keep = 'first', inplace = True)\n",
    "train.shape[0]"
   ]
  },
  {
   "cell_type": "code",
   "execution_count": null,
   "metadata": {
    "colab": {
     "base_uri": "https://localhost:8080/",
     "height": 313
    },
    "colab_type": "code",
    "id": "1btPygyu3z7y",
    "outputId": "fa670d30-5020-4b0a-ebe8-1b81c4e06aa6"
   },
   "outputs": [],
   "source": [
    "train.head()"
   ]
  },
  {
   "cell_type": "code",
   "execution_count": null,
   "metadata": {
    "colab": {
     "base_uri": "https://localhost:8080/",
     "height": 173
    },
    "colab_type": "code",
    "id": "8jW_Vb2zN29Q",
    "outputId": "4da9e4cb-d9ef-42c7-e145-14e7925b4c99"
   },
   "outputs": [],
   "source": [
    "train.dtypes"
   ]
  },
  {
   "cell_type": "code",
   "execution_count": null,
   "metadata": {
    "colab": {
     "base_uri": "https://localhost:8080/",
     "height": 173
    },
    "colab_type": "code",
    "id": "lIxWk_vfN7Lw",
    "outputId": "6706b4c9-ad59-4fee-d252-e59747518d89"
   },
   "outputs": [],
   "source": [
    "train['key'] = pd.to_datetime(train['key'])\n",
    "train.dtypes"
   ]
  },
  {
   "cell_type": "code",
   "execution_count": null,
   "metadata": {
    "colab": {},
    "colab_type": "code",
    "id": "eL5ZMp_VO7LQ"
   },
   "outputs": [],
   "source": [
    "#add features related with datetime\n",
    "train['weekday'] = train['key'].dt.dayofweek\n",
    "\n",
    "train['year']=train['key'].dt.year\n",
    "train['month']=train['key'].dt.month\n",
    "train['day']=train['key'].dt.day\n",
    "train['hour']=train['key'].dt.hour\n",
    "#train['minute']=train['key'].dt.minute #needed?\n",
    "#train['second']=train['key'].dt.second"
   ]
  },
  {
   "cell_type": "code",
   "execution_count": null,
   "metadata": {
    "colab": {
     "base_uri": "https://localhost:8080/",
     "height": 320
    },
    "colab_type": "code",
    "id": "yqBMJKJkx_uF",
    "outputId": "385812cb-9f4a-4dd1-b6bf-89645d447735"
   },
   "outputs": [],
   "source": [
    "train.describe()\n",
    "#check the describe to see if their values make sense"
   ]
  },
  {
   "cell_type": "code",
   "execution_count": null,
   "metadata": {
    "colab": {},
    "colab_type": "code",
    "id": "HG_0v9GCTMWU"
   },
   "outputs": [],
   "source": [
    "#based on these descriptors, we can at first sight already remove some outliers:\n",
    "#1) Latitudes range from -90 to 90. Longitudes range from -180 to 180.\n",
    "#2) passengers in a taxi, up to 6 (icnluding suvs) https://ride.guru/lounge/p/how-many-people-can-ride-in-a-cab \n",
    "#leave drives of 0 passengers in case documents are transported?\n",
    "#3) fare has to be positive value, over 2.50$ (that seems to be the initial charge) https://www1.nyc.gov/site/tlc/passengers/taxi-fare.page\n",
    "\n",
    "train = train[ (train.pickup_longitude >= -180) & (train.pickup_longitude <= 180) & \\\n",
    "              (train.dropoff_longitude >= -180) & (train.dropoff_longitude <= 180) & \\\n",
    "              (train.pickup_latitude >= -90) & (train.pickup_latitude <= 90) & \\\n",
    "              (train.dropoff_latitude >= -90) & (train.dropoff_latitude <= 90) & \\\n",
    "              (train.passenger_count<= 6) & \\\n",
    "              (train.fare_amount > 2.50) ]\n"
   ]
  },
  {
   "cell_type": "code",
   "execution_count": null,
   "metadata": {
    "colab": {
     "base_uri": "https://localhost:8080/",
     "height": 320
    },
    "colab_type": "code",
    "id": "3tEWqrM8CSOO",
    "outputId": "fee4f7c8-1ad0-4463-9214-8a2008d0df42"
   },
   "outputs": [],
   "source": [
    "train.describe()"
   ]
  },
  {
   "cell_type": "code",
   "execution_count": null,
   "metadata": {
    "colab": {},
    "colab_type": "code",
    "id": "Pr5wOKBaYIdW"
   },
   "outputs": [],
   "source": [
    "#maybe convert time (hours and minutes) to circular, given that then the correlation may be more easily seen\n",
    "#seconds_in_day = 24*60*60\n",
    "\n",
    "#train['full_time'] = train.hour*60*60 + train.minute*60 + train.second #time of the day in seconds\n",
    "#train['sin_time'] = np.sin(2*np.pi*train.full_time/seconds_in_day)\n",
    "#train['cos_time'] = np.cos(2*np.pi*train.full_time/seconds_in_day)\n",
    "#train.drop('full_time', axis=1, inplace=True)\n",
    "\n",
    "#note: checked that these 2 feats are computed ok (proper ranges)"
   ]
  },
  {
   "cell_type": "code",
   "execution_count": null,
   "metadata": {
    "colab": {},
    "colab_type": "code",
    "id": "hbg0VE6P19xG"
   },
   "outputs": [],
   "source": [
    "#Instead of doing Harvestine distance (that assumes Earth is a sphere), here Vincenty distance is used,\n",
    "#which employs more accurate ellipsoidal models\n",
    "\n",
    "# (latitude, longitude) reminder\n",
    "train ['distance'] = train.apply(lambda x: vincenty((x['pickup_latitude'], x['pickup_longitude']), (x['dropoff_latitude'], x['dropoff_longitude'])).meters, axis = 1)"
   ]
  },
  {
   "cell_type": "code",
   "execution_count": null,
   "metadata": {
    "colab": {
     "base_uri": "https://localhost:8080/",
     "height": 225
    },
    "colab_type": "code",
    "id": "FtPGAy8Q1Fni",
    "outputId": "c9445589-2bf3-4dc7-8693-990ad038127b"
   },
   "outputs": [],
   "source": [
    "train['distance'].describe()"
   ]
  },
  {
   "cell_type": "code",
   "execution_count": null,
   "metadata": {
    "colab": {
     "base_uri": "https://localhost:8080/",
     "height": 132
    },
    "colab_type": "code",
    "id": "-GWQBybsybzm",
    "outputId": "c7f993cb-e9a3-45ea-e506-adc8e0bbae77"
   },
   "outputs": [],
   "source": [
    "train.describe().loc[['min','max']]"
   ]
  },
  {
   "cell_type": "code",
   "execution_count": null,
   "metadata": {},
   "outputs": [],
   "source": [
    "#there shouldn't be any distance equal to 0:\n",
    "train = train[ (train.distance > 0)]"
   ]
  },
  {
   "cell_type": "code",
   "execution_count": null,
   "metadata": {
    "colab": {
     "base_uri": "https://localhost:8080/",
     "height": 1000
    },
    "colab_type": "code",
    "id": "V4TyLFuIiMJm",
    "outputId": "1a6422f4-0cab-4e7d-f928-a27914cdf8e6"
   },
   "outputs": [],
   "source": [
    "#check distributions of all the features\n",
    "fig = plt.figure(figsize = (15,20))\n",
    "ax = fig.gca()\n",
    "train.hist(ax = ax, bins=50)\n"
   ]
  },
  {
   "cell_type": "code",
   "execution_count": null,
   "metadata": {
    "colab": {},
    "colab_type": "code",
    "id": "yIcDTblzqVaM"
   },
   "outputs": [],
   "source": [
    "Q1 = train.quantile(0.25)\n",
    "Q3 = train.quantile(0.75)\n",
    "IQR = Q3 - Q1"
   ]
  },
  {
   "cell_type": "code",
   "execution_count": null,
   "metadata": {
    "colab": {
     "base_uri": "https://localhost:8080/",
     "height": 34
    },
    "colab_type": "code",
    "id": "-L9-PaqeiIzp",
    "outputId": "aa114a9f-3fe4-4079-8818-e3b9819e696d"
   },
   "outputs": [],
   "source": [
    "#automatic outlier removal, to try and get more normal distributions\n",
    "#https://towardsdatascience.com/ways-to-detect-and-remove-the-outliers-404d16608dba?gi=8548f80fce4b\n",
    "train_out = train.drop(['key','pickup_datetime'],axis=1, inplace=False)\n",
    "\n",
    "train_out = train_out[~((train_out < (Q1 - 1.5 * IQR)) |(train_out > (Q3 + 1.5 * IQR))).any(axis=1)]\n",
    "\n",
    "train.shape"
   ]
  },
  {
   "cell_type": "code",
   "execution_count": null,
   "metadata": {
    "colab": {
     "base_uri": "https://localhost:8080/",
     "height": 34
    },
    "colab_type": "code",
    "id": "LMaQaUEzqLnG",
    "outputId": "f6324927-e862-4a1b-f515-07bcf8f2d9ac"
   },
   "outputs": [],
   "source": [
    "train_out.shape"
   ]
  },
  {
   "cell_type": "code",
   "execution_count": null,
   "metadata": {
    "colab": {},
    "colab_type": "code",
    "id": "66LJjfdCrgTH"
   },
   "outputs": [],
   "source": [
    "#this doesn't help (before or after outlier removal)\n",
    "#Also did log for all feats instead of outlier removal, but it doesnt work much\n",
    "#train_out['distance'] = train_out['distance'].transform(lambda x: np.log(x+sys.float_info.epsilon))"
   ]
  },
  {
   "cell_type": "code",
   "execution_count": null,
   "metadata": {
    "colab": {
     "base_uri": "https://localhost:8080/",
     "height": 1000
    },
    "colab_type": "code",
    "id": "_VzPqkwNq_iB",
    "outputId": "79df33a6-281d-476c-a124-239cebb806fe"
   },
   "outputs": [],
   "source": [
    "#check distributions of all the features\n",
    "fig2 = plt.figure(figsize = (15,20))\n",
    "ax2 = fig2.gca()\n",
    "train_out.hist(ax = ax2, bins=50)"
   ]
  },
  {
   "cell_type": "code",
   "execution_count": null,
   "metadata": {
    "colab": {},
    "colab_type": "code",
    "id": "h-RvXNKyv8Db"
   },
   "outputs": [],
   "source": [
    "corr_pearson = train_out.corr(method='pearson')\n",
    "mask = np.zeros_like(corr_pearson, dtype=np.bool)\n",
    "mask[np.triu_indices_from(mask)] = True"
   ]
  },
  {
   "cell_type": "code",
   "execution_count": null,
   "metadata": {
    "colab": {
     "base_uri": "https://localhost:8080/",
     "height": 676
    },
    "colab_type": "code",
    "id": "yZVa4uFLwDbb",
    "outputId": "1cbd6831-a812-47fa-965c-32a1f945c0f8"
   },
   "outputs": [],
   "source": [
    "fig4, ax4 = plt.subplots(figsize=(16, 10))\n",
    "sns.heatmap(corr_pearson, mask=mask, cmap='RdBu_r', vmax=1, center=0,\n",
    "            square=True, linewidths=.5, cbar_kws={\"shrink\": .5},vmin=-1)"
   ]
  },
  {
   "cell_type": "code",
   "execution_count": null,
   "metadata": {
    "colab": {},
    "colab_type": "code",
    "id": "gRzX-1pIznyU"
   },
   "outputs": [],
   "source": [
    "#visualizer = FeatureCorrelation( method='mutual_info-classification', feature_names=train_out.columns, sort=True)\n",
    "X = train_out.drop('fare_amount',axis=1, inplace=False).to_numpy()\n",
    "Y = train_out.fare_amount.to_numpy()\n",
    "#lab_enc = sklearn.preprocessing.LabelEncoder()\n",
    "#Y_encoded = lab_enc.fit_transform(Y)\n",
    "\n",
    "#mutual information has too expensive computationally to run for all data, so we just take \n",
    "X = X[1:100000,:]\n",
    "Y = Y[1:100000]\n",
    "\n",
    "feature_MIscores = sklearn.feature_selection.mutual_info_regression(X, Y)\n",
    "\n",
    "#visualizer.fit(X, Y)        # Fit the data to the visualizer\n",
    "#visualizer.show()              # Finalize and render the figure"
   ]
  },
  {
   "cell_type": "code",
   "execution_count": null,
   "metadata": {
    "colab": {},
    "colab_type": "code",
    "id": "bTCn7xtRxwc2"
   },
   "outputs": [],
   "source": [
    "feature_MIscores.shape\n",
    "\n",
    "#plot also the fare vs the date (year), and maybe check as hypothesis if there is a positive correlation between year and fare"
   ]
  },
  {
   "cell_type": "code",
   "execution_count": null,
   "metadata": {
    "colab": {
     "base_uri": "https://localhost:8080/",
     "height": 34
    },
    "colab_type": "code",
    "id": "wSc1OEsJ1y4I",
    "outputId": "4fd96f7f-1f18-4b7e-a8c0-985d1806cb87"
   },
   "outputs": [],
   "source": [
    "X.shape"
   ]
  },
  {
   "cell_type": "code",
   "execution_count": null,
   "metadata": {},
   "outputs": [],
   "source": [
    "feats_labels = train_out.drop('fare_amount',axis=1, inplace=False).columns\n",
    "#print(feats_labels)\n",
    "index = np.arange(len(feats_labels))\n",
    "plt.figure(figsize=(10,10))\n",
    "plt.barh(index, feature_MIscores)\n",
    "plt.xlabel('mutual information score', fontsize=20)\n",
    "plt.yticks(index, feats_labels, fontsize=10, rotation=30)"
   ]
  },
  {
   "cell_type": "code",
   "execution_count": null,
   "metadata": {
    "colab": {},
    "colab_type": "code",
    "id": "_KbEzhXAzd4S"
   },
   "outputs": [],
   "source": [
    "#TODO: maybe also plot histograms grouping by day, or by hour, to see what times are more common, and see if the fair is similar for "
   ]
  },
  {
   "cell_type": "code",
   "execution_count": null,
   "metadata": {
    "colab": {},
    "colab_type": "code",
    "id": "fUX0PGFRy-OP"
   },
   "outputs": [],
   "source": [
    "#TODO:maybe a heat map of the fares would be interesting, doing a geomap, maybe use plotly?"
   ]
  },
  {
   "cell_type": "code",
   "execution_count": null,
   "metadata": {},
   "outputs": [],
   "source": [
    "#TODO: maybe employ clustering to get some extra information of the data, like outliers? "
   ]
  },
  {
   "cell_type": "markdown",
   "metadata": {},
   "source": [
    "We apply the models. 1) Linear regression"
   ]
  },
  {
   "cell_type": "code",
   "execution_count": null,
   "metadata": {
    "colab": {},
    "colab_type": "code",
    "id": "vmi34QYRYbr6"
   },
   "outputs": [],
   "source": [
    "val = pd.read_csv(train_path, skiprows=[2, 1_000_00], nrows=250_000)\n",
    "val.head()"
   ]
  },
  {
   "cell_type": "code",
   "execution_count": null,
   "metadata": {},
   "outputs": [],
   "source": [
    "val.shape"
   ]
  },
  {
   "cell_type": "code",
   "execution_count": 4,
   "metadata": {},
   "outputs": [
    {
     "ename": "NameError",
     "evalue": "name 'val' is not defined",
     "output_type": "error",
     "traceback": [
      "\u001b[0;31m---------------------------------------------------------------------------\u001b[0m",
      "\u001b[0;31mNameError\u001b[0m                                 Traceback (most recent call last)",
      "\u001b[0;32m<ipython-input-4-7eb10eaee9b8>\u001b[0m in \u001b[0;36m<module>\u001b[0;34m\u001b[0m\n\u001b[0;32m----> 1\u001b[0;31m \u001b[0mval\u001b[0m\u001b[0;34m.\u001b[0m\u001b[0mcolumns\u001b[0m\u001b[0;34m[\u001b[0m\u001b[0mval\u001b[0m\u001b[0;34m.\u001b[0m\u001b[0misna\u001b[0m\u001b[0;34m(\u001b[0m\u001b[0;34m)\u001b[0m\u001b[0;34m.\u001b[0m\u001b[0many\u001b[0m\u001b[0;34m(\u001b[0m\u001b[0;34m)\u001b[0m\u001b[0;34m]\u001b[0m\u001b[0;34m.\u001b[0m\u001b[0mtolist\u001b[0m\u001b[0;34m(\u001b[0m\u001b[0;34m)\u001b[0m\u001b[0;34m\u001b[0m\u001b[0;34m\u001b[0m\u001b[0m\n\u001b[0m",
      "\u001b[0;31mNameError\u001b[0m: name 'val' is not defined"
     ]
    }
   ],
   "source": [
    "val.columns[val.isna().any()].tolist()"
   ]
  },
  {
   "cell_type": "code",
   "execution_count": null,
   "metadata": {},
   "outputs": [],
   "source": [
    "#we don't remove NaN observations in the valiation test, because we want to be able to check how good it is \n",
    "#with all entries\n",
    "#we use median rather than mean since it is more robust against outliers\n",
    "val.dropoff_longitude.fillna(val.dropoff_longitude.median(),inplace=True)\n",
    "val.dropoff_latitude.fillna(val.dropoff_latitude.median(),inplace=True)"
   ]
  },
  {
   "cell_type": "code",
   "execution_count": null,
   "metadata": {},
   "outputs": [],
   "source": [
    "val.columns[val.isna().any()].tolist()"
   ]
  },
  {
   "cell_type": "code",
   "execution_count": null,
   "metadata": {},
   "outputs": [],
   "source": [
    "#now we add the same features that we did previously:\n",
    "val['key'] = pd.to_datetime(train['key'])\n",
    "val['weekday'] = val['key'].dt.dayofweek\n",
    "val['year']=val['key'].dt.year\n",
    "val['month']=val['key'].dt.month\n",
    "val['day']=val['key'].dt.day\n",
    "val['hour']=val['key'].dt.hour\n",
    "\n",
    "#drop other\n",
    "val.drop(['key','pickup_datetime'],axis=1, inplace=True)"
   ]
  },
  {
   "cell_type": "code",
   "execution_count": null,
   "metadata": {},
   "outputs": [],
   "source": [
    "#bounding the wrong coordinates (for distance computation)\n",
    "val.loc[val['pickup_longitude'] > 180, 'pickup_longitude'] = 180\n",
    "val.loc[val['pickup_longitude'] < -180, 'pickup_longitude'] = -180\n",
    "val.loc[val['dropoff_longitude'] > 180, 'dropoff_longitude'] = 180\n",
    "val.loc[val['dropoff_longitude'] < -180, 'dropoff_longitude'] = -180\n",
    "\n",
    "val.loc[val['pickup_latitude'] > 90, 'pickup_latitude'] = 90\n",
    "val.loc[val['pickup_latitude'] < -90, 'pickup_latitude'] = -90\n",
    "val.loc[val['dropoff_latitude'] > 90, 'dropoff_latitude'] = 90\n",
    "val.loc[val['dropoff_latitude'] < -90, 'dropoff_latitude'] = -90\n",
    "\n"
   ]
  },
  {
   "cell_type": "code",
   "execution_count": null,
   "metadata": {},
   "outputs": [],
   "source": [
    "val.describe()"
   ]
  },
  {
   "cell_type": "code",
   "execution_count": null,
   "metadata": {},
   "outputs": [],
   "source": [
    "#Instead of doing Harvestine distance (that assumes Earth is a sphere), here Vincenty distance is used,\n",
    "#which employs more accurate ellipsoidal models\n",
    "\n",
    "# (latitude, longitude) reminder\n",
    "val ['distance'] = val.apply(lambda y: vincenty((y['pickup_latitude'], y['pickup_longitude']), (y['dropoff_latitude'], y['dropoff_longitude'])).meters, axis = 1)"
   ]
  },
  {
   "cell_type": "code",
   "execution_count": null,
   "metadata": {},
   "outputs": [],
   "source": [
    "val.describe()"
   ]
  },
  {
   "cell_type": "code",
   "execution_count": null,
   "metadata": {},
   "outputs": [],
   "source": [
    "#normalize data:\n",
    "#val_norm=(val-val.mean())/val.std()\n",
    "train_norm = (train-train.mean())/train.std()"
   ]
  },
  {
   "cell_type": "code",
   "execution_count": null,
   "metadata": {},
   "outputs": [],
   "source": [
    "#val_norm.describe()"
   ]
  },
  {
   "cell_type": "code",
   "execution_count": null,
   "metadata": {},
   "outputs": [],
   "source": [
    "# create linear regression model\n",
    "linRegr = linear_model.LinearRegression()\n",
    "\n",
    "# train the model with training data\n",
    "regr.fit(train_norm.drop(['key','pickup_datetime'],axis=1, inplace=False), diabetes_y_train)"
   ]
  }
 ],
 "metadata": {
  "colab": {
   "collapsed_sections": [],
   "include_colab_link": true,
   "name": "NYTaxiFare_1_ExploratoryAnalysis_&_Preprocessing.ipynb",
   "provenance": []
  },
  "kernelspec": {
   "display_name": "kernpy3",
   "language": "python",
   "name": "kernpy3"
  },
  "language_info": {
   "codemirror_mode": {
    "name": "ipython",
    "version": 3
   },
   "file_extension": ".py",
   "mimetype": "text/x-python",
   "name": "python",
   "nbconvert_exporter": "python",
   "pygments_lexer": "ipython3",
   "version": "3.6.9"
  }
 },
 "nbformat": 4,
 "nbformat_minor": 1
}
