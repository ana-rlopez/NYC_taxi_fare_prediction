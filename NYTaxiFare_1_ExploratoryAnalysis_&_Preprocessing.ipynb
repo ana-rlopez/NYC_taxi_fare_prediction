{
 "cells": [
  {
   "cell_type": "code",
   "execution_count": 1,
   "metadata": {
    "colab": {},
    "colab_type": "code",
    "id": "of4LCPeltVMG"
   },
   "outputs": [],
   "source": [
    "import numpy as np\n",
    "import pandas as pd\n",
    "import matplotlib.pyplot as plt\n",
    "import seaborn as sns\n",
    "import sys\n",
    "from geopy.distance import geodesic\n",
    "import sklearn.feature_selection\n",
    "from sklearn.model_selection import train_test_split\n",
    "import pickle\n",
    "from sklearn import linear_model\n",
    "from sklearn.dummy import DummyRegressor\n",
    "from sklearn.preprocessing import StandardScaler\n",
    "#from sklearn.preprocessing import RobustScaler\n",
    "from sklearn.metrics import r2_score\n",
    "from sklearn.metrics import mean_squared_error\n",
    "from sklearn.ensemble import RandomForestRegressor\n",
    "import xgboost as xgb\n",
    "from sklearn.model_selection import GridSearchCV\n",
    "from time import time\n",
    "\n",
    "#import warnings\n",
    "#warnings.filterwarnings('ignore')"
   ]
  },
  {
   "cell_type": "code",
   "execution_count": 2,
   "metadata": {
    "colab": {
     "base_uri": "https://localhost:8080/",
     "height": 54
    },
    "colab_type": "code",
    "id": "31lNgv3Y2Sjk",
    "outputId": "e3af7b71-5307-42f6-fb8e-1fa6f574cb6b"
   },
   "outputs": [],
   "source": [
    "#from google.colab import drive\n",
    "#drive.mount('/content/drive')\n",
    "#train_path = '/content/drive/My Drive/Colab Notebooks/train.csv'\n",
    "train_path = 'train_orig.csv'"
   ]
  },
  {
   "cell_type": "code",
   "execution_count": 3,
   "metadata": {
    "colab": {
     "base_uri": "https://localhost:8080/",
     "height": 313
    },
    "colab_type": "code",
    "id": "fNS7UyE9FWXh",
    "outputId": "e8809129-ab10-4b95-b377-94d56e3e0bb9"
   },
   "outputs": [
    {
     "data": {
      "text/html": [
       "<div>\n",
       "<style scoped>\n",
       "    .dataframe tbody tr th:only-of-type {\n",
       "        vertical-align: middle;\n",
       "    }\n",
       "\n",
       "    .dataframe tbody tr th {\n",
       "        vertical-align: top;\n",
       "    }\n",
       "\n",
       "    .dataframe thead th {\n",
       "        text-align: right;\n",
       "    }\n",
       "</style>\n",
       "<table border=\"1\" class=\"dataframe\">\n",
       "  <thead>\n",
       "    <tr style=\"text-align: right;\">\n",
       "      <th></th>\n",
       "      <th>key</th>\n",
       "      <th>fare_amount</th>\n",
       "      <th>pickup_datetime</th>\n",
       "      <th>pickup_longitude</th>\n",
       "      <th>pickup_latitude</th>\n",
       "      <th>dropoff_longitude</th>\n",
       "      <th>dropoff_latitude</th>\n",
       "      <th>passenger_count</th>\n",
       "    </tr>\n",
       "  </thead>\n",
       "  <tbody>\n",
       "    <tr>\n",
       "      <th>0</th>\n",
       "      <td>2009-06-15 17:26:21.0000001</td>\n",
       "      <td>4.5</td>\n",
       "      <td>2009-06-15 17:26:21 UTC</td>\n",
       "      <td>-73.844311</td>\n",
       "      <td>40.721319</td>\n",
       "      <td>-73.841610</td>\n",
       "      <td>40.712278</td>\n",
       "      <td>1</td>\n",
       "    </tr>\n",
       "    <tr>\n",
       "      <th>1</th>\n",
       "      <td>2010-01-05 16:52:16.0000002</td>\n",
       "      <td>16.9</td>\n",
       "      <td>2010-01-05 16:52:16 UTC</td>\n",
       "      <td>-74.016048</td>\n",
       "      <td>40.711303</td>\n",
       "      <td>-73.979268</td>\n",
       "      <td>40.782004</td>\n",
       "      <td>1</td>\n",
       "    </tr>\n",
       "    <tr>\n",
       "      <th>2</th>\n",
       "      <td>2011-08-18 00:35:00.00000049</td>\n",
       "      <td>5.7</td>\n",
       "      <td>2011-08-18 00:35:00 UTC</td>\n",
       "      <td>-73.982738</td>\n",
       "      <td>40.761270</td>\n",
       "      <td>-73.991242</td>\n",
       "      <td>40.750562</td>\n",
       "      <td>2</td>\n",
       "    </tr>\n",
       "    <tr>\n",
       "      <th>3</th>\n",
       "      <td>2012-04-21 04:30:42.0000001</td>\n",
       "      <td>7.7</td>\n",
       "      <td>2012-04-21 04:30:42 UTC</td>\n",
       "      <td>-73.987130</td>\n",
       "      <td>40.733143</td>\n",
       "      <td>-73.991567</td>\n",
       "      <td>40.758092</td>\n",
       "      <td>1</td>\n",
       "    </tr>\n",
       "    <tr>\n",
       "      <th>4</th>\n",
       "      <td>2010-03-09 07:51:00.000000135</td>\n",
       "      <td>5.3</td>\n",
       "      <td>2010-03-09 07:51:00 UTC</td>\n",
       "      <td>-73.968095</td>\n",
       "      <td>40.768008</td>\n",
       "      <td>-73.956655</td>\n",
       "      <td>40.783762</td>\n",
       "      <td>1</td>\n",
       "    </tr>\n",
       "  </tbody>\n",
       "</table>\n",
       "</div>"
      ],
      "text/plain": [
       "                             key  fare_amount          pickup_datetime  \\\n",
       "0    2009-06-15 17:26:21.0000001          4.5  2009-06-15 17:26:21 UTC   \n",
       "1    2010-01-05 16:52:16.0000002         16.9  2010-01-05 16:52:16 UTC   \n",
       "2   2011-08-18 00:35:00.00000049          5.7  2011-08-18 00:35:00 UTC   \n",
       "3    2012-04-21 04:30:42.0000001          7.7  2012-04-21 04:30:42 UTC   \n",
       "4  2010-03-09 07:51:00.000000135          5.3  2010-03-09 07:51:00 UTC   \n",
       "\n",
       "   pickup_longitude  pickup_latitude  dropoff_longitude  dropoff_latitude  \\\n",
       "0        -73.844311        40.721319         -73.841610         40.712278   \n",
       "1        -74.016048        40.711303         -73.979268         40.782004   \n",
       "2        -73.982738        40.761270         -73.991242         40.750562   \n",
       "3        -73.987130        40.733143         -73.991567         40.758092   \n",
       "4        -73.968095        40.768008         -73.956655         40.783762   \n",
       "\n",
       "   passenger_count  \n",
       "0                1  \n",
       "1                1  \n",
       "2                2  \n",
       "3                1  \n",
       "4                1  "
      ]
     },
     "execution_count": 3,
     "metadata": {},
     "output_type": "execute_result"
    }
   ],
   "source": [
    "train = pd.read_csv(train_path, nrows=1_000_000) #we don't select all rows, since it is a big dataset\n",
    "train.head()"
   ]
  },
  {
   "cell_type": "code",
   "execution_count": 4,
   "metadata": {
    "colab": {
     "base_uri": "https://localhost:8080/",
     "height": 313
    },
    "colab_type": "code",
    "id": "1btPygyu3z7y",
    "outputId": "fa670d30-5020-4b0a-ebe8-1b81c4e06aa6"
   },
   "outputs": [
    {
     "data": {
      "text/html": [
       "<div>\n",
       "<style scoped>\n",
       "    .dataframe tbody tr th:only-of-type {\n",
       "        vertical-align: middle;\n",
       "    }\n",
       "\n",
       "    .dataframe tbody tr th {\n",
       "        vertical-align: top;\n",
       "    }\n",
       "\n",
       "    .dataframe thead th {\n",
       "        text-align: right;\n",
       "    }\n",
       "</style>\n",
       "<table border=\"1\" class=\"dataframe\">\n",
       "  <thead>\n",
       "    <tr style=\"text-align: right;\">\n",
       "      <th></th>\n",
       "      <th>key</th>\n",
       "      <th>fare_amount</th>\n",
       "      <th>pickup_datetime</th>\n",
       "      <th>pickup_longitude</th>\n",
       "      <th>pickup_latitude</th>\n",
       "      <th>dropoff_longitude</th>\n",
       "      <th>dropoff_latitude</th>\n",
       "      <th>passenger_count</th>\n",
       "    </tr>\n",
       "  </thead>\n",
       "  <tbody>\n",
       "    <tr>\n",
       "      <th>0</th>\n",
       "      <td>2009-06-15 17:26:21.0000001</td>\n",
       "      <td>4.5</td>\n",
       "      <td>2009-06-15 17:26:21 UTC</td>\n",
       "      <td>-73.844311</td>\n",
       "      <td>40.721319</td>\n",
       "      <td>-73.841610</td>\n",
       "      <td>40.712278</td>\n",
       "      <td>1</td>\n",
       "    </tr>\n",
       "    <tr>\n",
       "      <th>1</th>\n",
       "      <td>2010-01-05 16:52:16.0000002</td>\n",
       "      <td>16.9</td>\n",
       "      <td>2010-01-05 16:52:16 UTC</td>\n",
       "      <td>-74.016048</td>\n",
       "      <td>40.711303</td>\n",
       "      <td>-73.979268</td>\n",
       "      <td>40.782004</td>\n",
       "      <td>1</td>\n",
       "    </tr>\n",
       "    <tr>\n",
       "      <th>2</th>\n",
       "      <td>2011-08-18 00:35:00.00000049</td>\n",
       "      <td>5.7</td>\n",
       "      <td>2011-08-18 00:35:00 UTC</td>\n",
       "      <td>-73.982738</td>\n",
       "      <td>40.761270</td>\n",
       "      <td>-73.991242</td>\n",
       "      <td>40.750562</td>\n",
       "      <td>2</td>\n",
       "    </tr>\n",
       "    <tr>\n",
       "      <th>3</th>\n",
       "      <td>2012-04-21 04:30:42.0000001</td>\n",
       "      <td>7.7</td>\n",
       "      <td>2012-04-21 04:30:42 UTC</td>\n",
       "      <td>-73.987130</td>\n",
       "      <td>40.733143</td>\n",
       "      <td>-73.991567</td>\n",
       "      <td>40.758092</td>\n",
       "      <td>1</td>\n",
       "    </tr>\n",
       "    <tr>\n",
       "      <th>4</th>\n",
       "      <td>2010-03-09 07:51:00.000000135</td>\n",
       "      <td>5.3</td>\n",
       "      <td>2010-03-09 07:51:00 UTC</td>\n",
       "      <td>-73.968095</td>\n",
       "      <td>40.768008</td>\n",
       "      <td>-73.956655</td>\n",
       "      <td>40.783762</td>\n",
       "      <td>1</td>\n",
       "    </tr>\n",
       "  </tbody>\n",
       "</table>\n",
       "</div>"
      ],
      "text/plain": [
       "                             key  fare_amount          pickup_datetime  \\\n",
       "0    2009-06-15 17:26:21.0000001          4.5  2009-06-15 17:26:21 UTC   \n",
       "1    2010-01-05 16:52:16.0000002         16.9  2010-01-05 16:52:16 UTC   \n",
       "2   2011-08-18 00:35:00.00000049          5.7  2011-08-18 00:35:00 UTC   \n",
       "3    2012-04-21 04:30:42.0000001          7.7  2012-04-21 04:30:42 UTC   \n",
       "4  2010-03-09 07:51:00.000000135          5.3  2010-03-09 07:51:00 UTC   \n",
       "\n",
       "   pickup_longitude  pickup_latitude  dropoff_longitude  dropoff_latitude  \\\n",
       "0        -73.844311        40.721319         -73.841610         40.712278   \n",
       "1        -74.016048        40.711303         -73.979268         40.782004   \n",
       "2        -73.982738        40.761270         -73.991242         40.750562   \n",
       "3        -73.987130        40.733143         -73.991567         40.758092   \n",
       "4        -73.968095        40.768008         -73.956655         40.783762   \n",
       "\n",
       "   passenger_count  \n",
       "0                1  \n",
       "1                1  \n",
       "2                2  \n",
       "3                1  \n",
       "4                1  "
      ]
     },
     "execution_count": 4,
     "metadata": {},
     "output_type": "execute_result"
    }
   ],
   "source": [
    "train.head()"
   ]
  },
  {
   "cell_type": "code",
   "execution_count": 5,
   "metadata": {
    "colab": {
     "base_uri": "https://localhost:8080/",
     "height": 173
    },
    "colab_type": "code",
    "id": "8jW_Vb2zN29Q",
    "outputId": "4da9e4cb-d9ef-42c7-e145-14e7925b4c99"
   },
   "outputs": [
    {
     "data": {
      "text/plain": [
       "key                   object\n",
       "fare_amount          float64\n",
       "pickup_datetime       object\n",
       "pickup_longitude     float64\n",
       "pickup_latitude      float64\n",
       "dropoff_longitude    float64\n",
       "dropoff_latitude     float64\n",
       "passenger_count        int64\n",
       "dtype: object"
      ]
     },
     "execution_count": 5,
     "metadata": {},
     "output_type": "execute_result"
    }
   ],
   "source": [
    "train.dtypes"
   ]
  },
  {
   "cell_type": "markdown",
   "metadata": {},
   "source": [
    "## Pre-processing (denoising data) and feature engineering"
   ]
  },
  {
   "cell_type": "markdown",
   "metadata": {},
   "source": [
    "### Adding features"
   ]
  },
  {
   "cell_type": "code",
   "execution_count": 6,
   "metadata": {
    "colab": {
     "base_uri": "https://localhost:8080/",
     "height": 173
    },
    "colab_type": "code",
    "id": "lIxWk_vfN7Lw",
    "outputId": "6706b4c9-ad59-4fee-d252-e59747518d89"
   },
   "outputs": [
    {
     "data": {
      "text/plain": [
       "key                  datetime64[ns]\n",
       "fare_amount                 float64\n",
       "pickup_datetime              object\n",
       "pickup_longitude            float64\n",
       "pickup_latitude             float64\n",
       "dropoff_longitude           float64\n",
       "dropoff_latitude            float64\n",
       "passenger_count               int64\n",
       "dtype: object"
      ]
     },
     "execution_count": 6,
     "metadata": {},
     "output_type": "execute_result"
    }
   ],
   "source": [
    "train['key'] = pd.to_datetime(train['key'])\n",
    "train.dtypes"
   ]
  },
  {
   "cell_type": "code",
   "execution_count": 7,
   "metadata": {
    "colab": {},
    "colab_type": "code",
    "id": "eL5ZMp_VO7LQ"
   },
   "outputs": [],
   "source": [
    "#add features related with datetime\n",
    "train['weekday'] = train['key'].dt.dayofweek\n",
    "\n",
    "train['year']=train['key'].dt.year\n",
    "train['month']=train['key'].dt.month\n",
    "train['day']=train['key'].dt.day\n",
    "train['hour']=train['key'].dt.hour\n",
    "#train['minute']=train['key'].dt.minute #needed?\n",
    "#train['second']=train['key'].dt.second"
   ]
  },
  {
   "cell_type": "markdown",
   "metadata": {},
   "source": [
    "### Drop outliers"
   ]
  },
  {
   "cell_type": "code",
   "execution_count": 8,
   "metadata": {
    "colab": {
     "base_uri": "https://localhost:8080/",
     "height": 34
    },
    "colab_type": "code",
    "id": "mmChemjEL1Yf",
    "outputId": "65f69b23-40b1-48ff-9c48-27f0eeb89b56"
   },
   "outputs": [
    {
     "data": {
      "text/plain": [
       "['dropoff_longitude', 'dropoff_latitude']"
      ]
     },
     "execution_count": 8,
     "metadata": {},
     "output_type": "execute_result"
    }
   ],
   "source": [
    "#we drop already some clear errors in data set (NaN rows, and duplicates)\n",
    "\n",
    "#check if there are some NaN values\n",
    "train.columns[train.isna().any()].tolist()"
   ]
  },
  {
   "cell_type": "code",
   "execution_count": 9,
   "metadata": {
    "colab": {
     "base_uri": "https://localhost:8080/",
     "height": 34
    },
    "colab_type": "code",
    "id": "RFcZ_C94W47i",
    "outputId": "55e1ee8c-f677-44b8-caad-afce37a07865"
   },
   "outputs": [
    {
     "data": {
      "text/plain": [
       "1000000"
      ]
     },
     "execution_count": 9,
     "metadata": {},
     "output_type": "execute_result"
    }
   ],
   "source": [
    "#drop duplicates\n",
    "train.drop_duplicates(keep = 'first', inplace = True)\n",
    "train.shape[0]"
   ]
  },
  {
   "cell_type": "code",
   "execution_count": 10,
   "metadata": {},
   "outputs": [
    {
     "data": {
      "text/plain": [
       "999990"
      ]
     },
     "execution_count": 10,
     "metadata": {},
     "output_type": "execute_result"
    }
   ],
   "source": [
    "#we drop these values given that the data set is quite big\n",
    "#original rows: 1_000_000\n",
    "train.dropna(inplace=True)\n",
    "train.shape[0]"
   ]
  },
  {
   "cell_type": "code",
   "execution_count": 11,
   "metadata": {
    "colab": {
     "base_uri": "https://localhost:8080/",
     "height": 320
    },
    "colab_type": "code",
    "id": "yqBMJKJkx_uF",
    "outputId": "385812cb-9f4a-4dd1-b6bf-89645d447735"
   },
   "outputs": [
    {
     "data": {
      "text/html": [
       "<div>\n",
       "<style scoped>\n",
       "    .dataframe tbody tr th:only-of-type {\n",
       "        vertical-align: middle;\n",
       "    }\n",
       "\n",
       "    .dataframe tbody tr th {\n",
       "        vertical-align: top;\n",
       "    }\n",
       "\n",
       "    .dataframe thead th {\n",
       "        text-align: right;\n",
       "    }\n",
       "</style>\n",
       "<table border=\"1\" class=\"dataframe\">\n",
       "  <thead>\n",
       "    <tr style=\"text-align: right;\">\n",
       "      <th></th>\n",
       "      <th>fare_amount</th>\n",
       "      <th>pickup_longitude</th>\n",
       "      <th>pickup_latitude</th>\n",
       "      <th>dropoff_longitude</th>\n",
       "      <th>dropoff_latitude</th>\n",
       "      <th>passenger_count</th>\n",
       "      <th>weekday</th>\n",
       "      <th>year</th>\n",
       "      <th>month</th>\n",
       "      <th>day</th>\n",
       "      <th>hour</th>\n",
       "    </tr>\n",
       "  </thead>\n",
       "  <tbody>\n",
       "    <tr>\n",
       "      <th>count</th>\n",
       "      <td>999990.000000</td>\n",
       "      <td>999990.000000</td>\n",
       "      <td>999990.000000</td>\n",
       "      <td>999990.000000</td>\n",
       "      <td>999990.000000</td>\n",
       "      <td>999990.000000</td>\n",
       "      <td>999990.000000</td>\n",
       "      <td>999990.000000</td>\n",
       "      <td>999990.000000</td>\n",
       "      <td>999990.000000</td>\n",
       "      <td>999990.000000</td>\n",
       "    </tr>\n",
       "    <tr>\n",
       "      <th>mean</th>\n",
       "      <td>11.347953</td>\n",
       "      <td>-72.526699</td>\n",
       "      <td>39.929040</td>\n",
       "      <td>-72.527860</td>\n",
       "      <td>39.919954</td>\n",
       "      <td>1.684941</td>\n",
       "      <td>3.039870</td>\n",
       "      <td>2011.741103</td>\n",
       "      <td>6.267841</td>\n",
       "      <td>15.697996</td>\n",
       "      <td>13.509463</td>\n",
       "    </tr>\n",
       "    <tr>\n",
       "      <th>std</th>\n",
       "      <td>9.821790</td>\n",
       "      <td>12.057778</td>\n",
       "      <td>7.626087</td>\n",
       "      <td>11.324494</td>\n",
       "      <td>8.201418</td>\n",
       "      <td>1.323907</td>\n",
       "      <td>1.949966</td>\n",
       "      <td>1.860761</td>\n",
       "      <td>3.436230</td>\n",
       "      <td>8.682472</td>\n",
       "      <td>6.513855</td>\n",
       "    </tr>\n",
       "    <tr>\n",
       "      <th>min</th>\n",
       "      <td>-44.900000</td>\n",
       "      <td>-3377.680935</td>\n",
       "      <td>-3116.285383</td>\n",
       "      <td>-3383.296608</td>\n",
       "      <td>-3114.338567</td>\n",
       "      <td>0.000000</td>\n",
       "      <td>0.000000</td>\n",
       "      <td>2009.000000</td>\n",
       "      <td>1.000000</td>\n",
       "      <td>1.000000</td>\n",
       "      <td>0.000000</td>\n",
       "    </tr>\n",
       "    <tr>\n",
       "      <th>25%</th>\n",
       "      <td>6.000000</td>\n",
       "      <td>-73.992060</td>\n",
       "      <td>40.734965</td>\n",
       "      <td>-73.991385</td>\n",
       "      <td>40.734046</td>\n",
       "      <td>1.000000</td>\n",
       "      <td>1.000000</td>\n",
       "      <td>2010.000000</td>\n",
       "      <td>3.000000</td>\n",
       "      <td>8.000000</td>\n",
       "      <td>9.000000</td>\n",
       "    </tr>\n",
       "    <tr>\n",
       "      <th>50%</th>\n",
       "      <td>8.500000</td>\n",
       "      <td>-73.981792</td>\n",
       "      <td>40.752695</td>\n",
       "      <td>-73.980135</td>\n",
       "      <td>40.753166</td>\n",
       "      <td>1.000000</td>\n",
       "      <td>3.000000</td>\n",
       "      <td>2012.000000</td>\n",
       "      <td>6.000000</td>\n",
       "      <td>16.000000</td>\n",
       "      <td>14.000000</td>\n",
       "    </tr>\n",
       "    <tr>\n",
       "      <th>75%</th>\n",
       "      <td>12.500000</td>\n",
       "      <td>-73.967094</td>\n",
       "      <td>40.767154</td>\n",
       "      <td>-73.963654</td>\n",
       "      <td>40.768129</td>\n",
       "      <td>2.000000</td>\n",
       "      <td>5.000000</td>\n",
       "      <td>2013.000000</td>\n",
       "      <td>9.000000</td>\n",
       "      <td>23.000000</td>\n",
       "      <td>19.000000</td>\n",
       "    </tr>\n",
       "    <tr>\n",
       "      <th>max</th>\n",
       "      <td>500.000000</td>\n",
       "      <td>2522.271325</td>\n",
       "      <td>2621.628430</td>\n",
       "      <td>45.581619</td>\n",
       "      <td>1651.553433</td>\n",
       "      <td>208.000000</td>\n",
       "      <td>6.000000</td>\n",
       "      <td>2015.000000</td>\n",
       "      <td>12.000000</td>\n",
       "      <td>31.000000</td>\n",
       "      <td>23.000000</td>\n",
       "    </tr>\n",
       "  </tbody>\n",
       "</table>\n",
       "</div>"
      ],
      "text/plain": [
       "         fare_amount  pickup_longitude  pickup_latitude  dropoff_longitude  \\\n",
       "count  999990.000000     999990.000000    999990.000000      999990.000000   \n",
       "mean       11.347953        -72.526699        39.929040         -72.527860   \n",
       "std         9.821790         12.057778         7.626087          11.324494   \n",
       "min       -44.900000      -3377.680935     -3116.285383       -3383.296608   \n",
       "25%         6.000000        -73.992060        40.734965         -73.991385   \n",
       "50%         8.500000        -73.981792        40.752695         -73.980135   \n",
       "75%        12.500000        -73.967094        40.767154         -73.963654   \n",
       "max       500.000000       2522.271325      2621.628430          45.581619   \n",
       "\n",
       "       dropoff_latitude  passenger_count        weekday           year  \\\n",
       "count     999990.000000    999990.000000  999990.000000  999990.000000   \n",
       "mean          39.919954         1.684941       3.039870    2011.741103   \n",
       "std            8.201418         1.323907       1.949966       1.860761   \n",
       "min        -3114.338567         0.000000       0.000000    2009.000000   \n",
       "25%           40.734046         1.000000       1.000000    2010.000000   \n",
       "50%           40.753166         1.000000       3.000000    2012.000000   \n",
       "75%           40.768129         2.000000       5.000000    2013.000000   \n",
       "max         1651.553433       208.000000       6.000000    2015.000000   \n",
       "\n",
       "               month            day           hour  \n",
       "count  999990.000000  999990.000000  999990.000000  \n",
       "mean        6.267841      15.697996      13.509463  \n",
       "std         3.436230       8.682472       6.513855  \n",
       "min         1.000000       1.000000       0.000000  \n",
       "25%         3.000000       8.000000       9.000000  \n",
       "50%         6.000000      16.000000      14.000000  \n",
       "75%         9.000000      23.000000      19.000000  \n",
       "max        12.000000      31.000000      23.000000  "
      ]
     },
     "execution_count": 11,
     "metadata": {},
     "output_type": "execute_result"
    }
   ],
   "source": [
    "train.describe()\n",
    "#check the describe to see if their values make sense"
   ]
  },
  {
   "cell_type": "code",
   "execution_count": 12,
   "metadata": {},
   "outputs": [],
   "source": [
    "#we limit the coordinates to proper ranges to compute distances\n",
    "\n",
    "#Latitudes range from -90 to 90. Longitudes range from -180 to 180.\n",
    "train = train[ (train.pickup_longitude >= -180) & (train.pickup_longitude <= 180) & \\\n",
    "              (train.dropoff_longitude >= -180) & (train.dropoff_longitude <= 180) & \\\n",
    "              (train.pickup_latitude >= -90) & (train.pickup_latitude <= 90) & \\\n",
    "              (train.dropoff_latitude >= -90) & (train.dropoff_latitude <= 90) ]"
   ]
  },
  {
   "cell_type": "code",
   "execution_count": 13,
   "metadata": {
    "colab": {},
    "colab_type": "code",
    "id": "HG_0v9GCTMWU"
   },
   "outputs": [],
   "source": [
    "#based on these descriptors, we can at first sight already remove some other outliers:\n",
    "#2) passengers in a taxi, up to 6 (icnluding suvs) https://ride.guru/lounge/p/how-many-people-can-ride-in-a-cab \n",
    "#leave drives of 0 passengers in case documents are transported?\n",
    "#3) fare has to be positive value, over 2.50$? (that seems to be the initial charge) https://www1.nyc.gov/site/tlc/passengers/taxi-fare.page\n",
    "#also fare now seems too high (500) and the variance is pretty hight too. so we cut the max fare now\n",
    "\n",
    "#4) new york city actually has the following bounding box of coordinates (https://boundingbox.klokantech.com/)\n",
    "#eastlimit_longitude=-73.700181\n",
    "#southlimit_latitude =40.47739894\n",
    "#westlimit_longitude=-74.25909\n",
    "#northlimit_latitude=40.916178\n",
    "\n",
    "\n",
    "#trying to use a bounding box slightly larger than the actual NY, so there is more flexibility for trips around airport\n",
    "eastlimit_longitude=-73.664465\n",
    "southlimit_latitude=40.477399\n",
    "westlimit_longitude=-74.307165\n",
    "northlimit_latitude=40.935154\n",
    "                                                                                                               \n",
    "train = train[ (train.pickup_longitude >= westlimit_longitude) & (train.pickup_longitude <= eastlimit_longitude) & \\\n",
    "              (train.dropoff_longitude >= westlimit_longitude) & (train.dropoff_longitude <= eastlimit_longitude) & \\\n",
    "              (train.pickup_latitude >= southlimit_latitude ) & (train.pickup_latitude <= northlimit_latitude) & \\\n",
    "              (train.dropoff_latitude >= southlimit_latitude) & (train.dropoff_latitude <= northlimit_latitude) ]                                                                              \n",
    "\n",
    "train = train[(train.passenger_count<= 6) & \\\n",
    "              (train.fare_amount > 2.50)  ]\n",
    "   \n"
   ]
  },
  {
   "cell_type": "code",
   "execution_count": 14,
   "metadata": {},
   "outputs": [],
   "source": [
    "#there are some flat rates on trips from/to some of the airports in NY (JFK, LaGuardia, Newark) so we add features of\n",
    "#distances from/to these airports\n",
    "# coordinates from https://get-direction.com\n",
    "jfk_latitude = 40.644538879\n",
    "jfk_longitude = -73.795356750\n",
    "laguardia_latitude = 40.774009705\n",
    "laguardia_longitude =-73.872497559\n",
    "newark_latitude = 40.692878723\n",
    "newark_longitude = -74.185447693"
   ]
  },
  {
   "cell_type": "code",
   "execution_count": 15,
   "metadata": {},
   "outputs": [
    {
     "data": {
      "text/plain": [
       "<matplotlib.axes._subplots.AxesSubplot at 0x7fe23e03a4a8>"
      ]
     },
     "execution_count": 15,
     "metadata": {},
     "output_type": "execute_result"
    },
    {
     "data": {
      "image/png": "[encoded data removed]",
      "text/plain": [
       "<Figure size 432x288 with 1 Axes>"
      ]
     },
     "metadata": {
      "needs_background": "light"
     },
     "output_type": "display_data"
    }
   ],
   "source": [
    "train.fare_amount.hist(bins=50)"
   ]
  },
  {
   "cell_type": "code",
   "execution_count": 16,
   "metadata": {},
   "outputs": [],
   "source": [
    "train = train[ (train.fare_amount < 100)]"
   ]
  },
  {
   "cell_type": "markdown",
   "metadata": {},
   "source": [
    "### Adding more features"
   ]
  },
  {
   "cell_type": "code",
   "execution_count": 17,
   "metadata": {},
   "outputs": [],
   "source": [
    "#Absolute differences between longitudes and between latitudes\n",
    "train ['abs_diff_longitude']=np.abs(train.pickup_longitude-train.dropoff_longitude)\n",
    "train ['abs_diff_latitude']=np.abs(train.pickup_latitude-train.dropoff_latitude)"
   ]
  },
  {
   "cell_type": "code",
   "execution_count": 18,
   "metadata": {
    "colab": {},
    "colab_type": "code",
    "id": "hbg0VE6P19xG"
   },
   "outputs": [],
   "source": [
    "#add distance\n",
    "\n",
    "#Instead of doing Harvestine distance (that assumes Earth is a sphere), here Vincenty distance is used,\n",
    "#which employs more accurate ellipsoidal models\n",
    "\n",
    "# (latitude, longitude) reminder\n",
    "#train ['distance'] = train.apply(lambda x: geodesic((x['pickup_latitude'], x['pickup_longitude']), (x['dropoff_latitude'], x['dropoff_longitude'])).kilometers, axis = 1)\n",
    "#train ['distance'] = train.drop(['key'],axis=1, inplace=False).apply(lambda x: mpu.haversine_distance((x['pickup_latitude'], x['pickup_longitude']), (x['dropoff_latitude'], x['dropoff_longitude'])))\n",
    "\n",
    "def haversine_distance(df_pickup_lat, df_pickup_long,df_dropoff_lat,df_dropoff_long):\n",
    "\n",
    "    #6367 earth radius\n",
    "    distance_col = 6367 * 2 * np.arcsin(np.sqrt(np.sin((np.radians(df_pickup_lat) /\n",
    "                                                        - np.radians(df_dropoff_lat))/2)**2 /\n",
    "                                                + np.cos(np.radians(df_dropoff_lat))*np.cos(np.radians(df_pickup_lat))*np.sin((np.radians(df_pickup_long) - np.radians(df_dropoff_long))/2)**2))\n",
    "    return distance_col\n",
    " \n",
    "    \n"
   ]
  },
  {
   "cell_type": "code",
   "execution_count": 19,
   "metadata": {},
   "outputs": [],
   "source": [
    "train ['distance'] = haversine_distance(train['pickup_latitude'],train['pickup_longitude'],train['dropoff_latitude'],train['dropoff_longitude'])"
   ]
  },
  {
   "cell_type": "code",
   "execution_count": 20,
   "metadata": {},
   "outputs": [
    {
     "data": {
      "text/plain": [
       "key                   0\n",
       "fare_amount           0\n",
       "pickup_datetime       0\n",
       "pickup_longitude      0\n",
       "pickup_latitude       0\n",
       "dropoff_longitude     0\n",
       "dropoff_latitude      0\n",
       "passenger_count       0\n",
       "weekday               0\n",
       "year                  0\n",
       "month                 0\n",
       "day                   0\n",
       "hour                  0\n",
       "abs_diff_longitude    0\n",
       "abs_diff_latitude     0\n",
       "distance              0\n",
       "dtype: int64"
      ]
     },
     "execution_count": 20,
     "metadata": {},
     "output_type": "execute_result"
    }
   ],
   "source": [
    "train.isna().sum()"
   ]
  },
  {
   "cell_type": "code",
   "execution_count": 21,
   "metadata": {},
   "outputs": [
    {
     "data": {
      "text/plain": [
       "974388"
      ]
     },
     "execution_count": 21,
     "metadata": {},
     "output_type": "execute_result"
    }
   ],
   "source": [
    "train.dropna(inplace=True)\n",
    "train.shape[0]"
   ]
  },
  {
   "cell_type": "code",
   "execution_count": 22,
   "metadata": {},
   "outputs": [
    {
     "data": {
      "text/plain": [
       "0         0.143919\n",
       "1         1.957430\n",
       "2         0.453133\n",
       "3         0.236298\n",
       "4         0.609337\n",
       "            ...   \n",
       "999995    0.931414\n",
       "999996    0.000000\n",
       "999997    0.797626\n",
       "999998    0.185713\n",
       "999999    0.382766\n",
       "Name: distance, Length: 974388, dtype: float64"
      ]
     },
     "execution_count": 22,
     "metadata": {},
     "output_type": "execute_result"
    }
   ],
   "source": [
    "train['distance']"
   ]
  },
  {
   "cell_type": "code",
   "execution_count": 23,
   "metadata": {},
   "outputs": [],
   "source": [
    "train ['pickup_distance_jfk'] = haversine_distance(train['pickup_latitude'],train['pickup_longitude'],jfk_latitude, jfk_longitude)"
   ]
  },
  {
   "cell_type": "code",
   "execution_count": 24,
   "metadata": {},
   "outputs": [],
   "source": [
    "train ['pickup_distance_laguardia'] = haversine_distance(train['pickup_latitude'],train['pickup_longitude'],laguardia_latitude, laguardia_longitude)"
   ]
  },
  {
   "cell_type": "code",
   "execution_count": 25,
   "metadata": {},
   "outputs": [],
   "source": [
    "train ['pickup_distance_newark'] = haversine_distance(train['pickup_latitude'],train['pickup_longitude'],newark_latitude, newark_longitude)\n"
   ]
  },
  {
   "cell_type": "code",
   "execution_count": 26,
   "metadata": {},
   "outputs": [],
   "source": [
    "train ['dropoff_distance_jfk'] = haversine_distance(train['dropoff_latitude'],train['dropoff_longitude'],jfk_latitude, jfk_longitude)\n"
   ]
  },
  {
   "cell_type": "code",
   "execution_count": 27,
   "metadata": {},
   "outputs": [],
   "source": [
    "train ['dropoff_distance_laguardia'] = haversine_distance(train['dropoff_latitude'],train['dropoff_longitude'],laguardia_latitude, laguardia_longitude)\n"
   ]
  },
  {
   "cell_type": "code",
   "execution_count": 28,
   "metadata": {},
   "outputs": [],
   "source": [
    "train ['dropoff_distance_newark'] = haversine_distance(train['dropoff_latitude'],train['dropoff_longitude'],newark_latitude, newark_longitude)\n"
   ]
  },
  {
   "cell_type": "code",
   "execution_count": 29,
   "metadata": {},
   "outputs": [
    {
     "data": {
      "text/plain": [
       "key                           0\n",
       "fare_amount                   0\n",
       "pickup_datetime               0\n",
       "pickup_longitude              0\n",
       "pickup_latitude               0\n",
       "dropoff_longitude             0\n",
       "dropoff_latitude              0\n",
       "passenger_count               0\n",
       "weekday                       0\n",
       "year                          0\n",
       "month                         0\n",
       "day                           0\n",
       "hour                          0\n",
       "abs_diff_longitude            0\n",
       "abs_diff_latitude             0\n",
       "distance                      0\n",
       "pickup_distance_jfk           0\n",
       "pickup_distance_laguardia     0\n",
       "pickup_distance_newark        0\n",
       "dropoff_distance_jfk          0\n",
       "dropoff_distance_laguardia    0\n",
       "dropoff_distance_newark       0\n",
       "dtype: int64"
      ]
     },
     "execution_count": 29,
     "metadata": {},
     "output_type": "execute_result"
    }
   ],
   "source": [
    "train.isna().sum()"
   ]
  },
  {
   "cell_type": "code",
   "execution_count": 30,
   "metadata": {
    "colab": {
     "base_uri": "https://localhost:8080/",
     "height": 320
    },
    "colab_type": "code",
    "id": "3tEWqrM8CSOO",
    "outputId": "fee4f7c8-1ad0-4463-9214-8a2008d0df42"
   },
   "outputs": [
    {
     "data": {
      "text/html": [
       "<div>\n",
       "<style scoped>\n",
       "    .dataframe tbody tr th:only-of-type {\n",
       "        vertical-align: middle;\n",
       "    }\n",
       "\n",
       "    .dataframe tbody tr th {\n",
       "        vertical-align: top;\n",
       "    }\n",
       "\n",
       "    .dataframe thead th {\n",
       "        text-align: right;\n",
       "    }\n",
       "</style>\n",
       "<table border=\"1\" class=\"dataframe\">\n",
       "  <thead>\n",
       "    <tr style=\"text-align: right;\">\n",
       "      <th></th>\n",
       "      <th>fare_amount</th>\n",
       "      <th>pickup_longitude</th>\n",
       "      <th>pickup_latitude</th>\n",
       "      <th>dropoff_longitude</th>\n",
       "      <th>dropoff_latitude</th>\n",
       "      <th>passenger_count</th>\n",
       "      <th>weekday</th>\n",
       "      <th>year</th>\n",
       "      <th>month</th>\n",
       "      <th>day</th>\n",
       "      <th>hour</th>\n",
       "      <th>abs_diff_longitude</th>\n",
       "      <th>abs_diff_latitude</th>\n",
       "      <th>distance</th>\n",
       "      <th>pickup_distance_jfk</th>\n",
       "      <th>pickup_distance_laguardia</th>\n",
       "      <th>pickup_distance_newark</th>\n",
       "      <th>dropoff_distance_jfk</th>\n",
       "      <th>dropoff_distance_laguardia</th>\n",
       "      <th>dropoff_distance_newark</th>\n",
       "    </tr>\n",
       "  </thead>\n",
       "  <tbody>\n",
       "    <tr>\n",
       "      <th>count</th>\n",
       "      <td>974388.000000</td>\n",
       "      <td>974388.000000</td>\n",
       "      <td>974388.000000</td>\n",
       "      <td>974388.000000</td>\n",
       "      <td>974388.000000</td>\n",
       "      <td>974388.000000</td>\n",
       "      <td>974388.000000</td>\n",
       "      <td>974388.000000</td>\n",
       "      <td>974388.000000</td>\n",
       "      <td>974388.000000</td>\n",
       "      <td>974388.000000</td>\n",
       "      <td>974388.000000</td>\n",
       "      <td>974388.000000</td>\n",
       "      <td>974388.000000</td>\n",
       "      <td>974388.000000</td>\n",
       "      <td>974388.000000</td>\n",
       "      <td>974388.000000</td>\n",
       "      <td>974388.000000</td>\n",
       "      <td>974388.000000</td>\n",
       "      <td>974388.000000</td>\n",
       "    </tr>\n",
       "    <tr>\n",
       "      <th>mean</th>\n",
       "      <td>11.302589</td>\n",
       "      <td>-73.975547</td>\n",
       "      <td>40.750897</td>\n",
       "      <td>-73.974596</td>\n",
       "      <td>40.751250</td>\n",
       "      <td>1.686087</td>\n",
       "      <td>3.039591</td>\n",
       "      <td>2011.740771</td>\n",
       "      <td>6.269020</td>\n",
       "      <td>15.691382</td>\n",
       "      <td>13.512700</td>\n",
       "      <td>0.022652</td>\n",
       "      <td>0.021243</td>\n",
       "      <td>1.206739</td>\n",
       "      <td>9.633673</td>\n",
       "      <td>5.648909</td>\n",
       "      <td>11.192924</td>\n",
       "      <td>9.579942</td>\n",
       "      <td>5.562777</td>\n",
       "      <td>11.243857</td>\n",
       "    </tr>\n",
       "    <tr>\n",
       "      <th>std</th>\n",
       "      <td>9.309636</td>\n",
       "      <td>0.034337</td>\n",
       "      <td>0.026812</td>\n",
       "      <td>0.033876</td>\n",
       "      <td>0.030721</td>\n",
       "      <td>1.308440</td>\n",
       "      <td>1.949780</td>\n",
       "      <td>1.862689</td>\n",
       "      <td>3.438059</td>\n",
       "      <td>8.683095</td>\n",
       "      <td>6.510658</td>\n",
       "      <td>0.033406</td>\n",
       "      <td>0.022709</td>\n",
       "      <td>1.779557</td>\n",
       "      <td>1.731019</td>\n",
       "      <td>1.244893</td>\n",
       "      <td>1.826411</td>\n",
       "      <td>1.721616</td>\n",
       "      <td>1.368310</td>\n",
       "      <td>1.802738</td>\n",
       "    </tr>\n",
       "    <tr>\n",
       "      <th>min</th>\n",
       "      <td>2.510000</td>\n",
       "      <td>-74.299640</td>\n",
       "      <td>40.481047</td>\n",
       "      <td>-74.300537</td>\n",
       "      <td>40.479537</td>\n",
       "      <td>0.000000</td>\n",
       "      <td>0.000000</td>\n",
       "      <td>2009.000000</td>\n",
       "      <td>1.000000</td>\n",
       "      <td>1.000000</td>\n",
       "      <td>0.000000</td>\n",
       "      <td>0.000000</td>\n",
       "      <td>0.000000</td>\n",
       "      <td>0.000000</td>\n",
       "      <td>0.001585</td>\n",
       "      <td>0.000077</td>\n",
       "      <td>0.006963</td>\n",
       "      <td>0.000280</td>\n",
       "      <td>0.000023</td>\n",
       "      <td>0.009872</td>\n",
       "    </tr>\n",
       "    <tr>\n",
       "      <th>25%</th>\n",
       "      <td>6.000000</td>\n",
       "      <td>-73.992279</td>\n",
       "      <td>40.736600</td>\n",
       "      <td>-73.991573</td>\n",
       "      <td>40.735617</td>\n",
       "      <td>1.000000</td>\n",
       "      <td>1.000000</td>\n",
       "      <td>2010.000000</td>\n",
       "      <td>3.000000</td>\n",
       "      <td>8.000000</td>\n",
       "      <td>9.000000</td>\n",
       "      <td>0.006186</td>\n",
       "      <td>0.006995</td>\n",
       "      <td>0.329575</td>\n",
       "      <td>9.235921</td>\n",
       "      <td>5.110038</td>\n",
       "      <td>10.298683</td>\n",
       "      <td>9.077374</td>\n",
       "      <td>4.965867</td>\n",
       "      <td>10.336614</td>\n",
       "    </tr>\n",
       "    <tr>\n",
       "      <th>50%</th>\n",
       "      <td>8.500000</td>\n",
       "      <td>-73.982097</td>\n",
       "      <td>40.753415</td>\n",
       "      <td>-73.980610</td>\n",
       "      <td>40.753873</td>\n",
       "      <td>1.000000</td>\n",
       "      <td>3.000000</td>\n",
       "      <td>2012.000000</td>\n",
       "      <td>6.000000</td>\n",
       "      <td>16.000000</td>\n",
       "      <td>14.000000</td>\n",
       "      <td>0.012740</td>\n",
       "      <td>0.014210</td>\n",
       "      <td>0.678752</td>\n",
       "      <td>9.966250</td>\n",
       "      <td>5.838177</td>\n",
       "      <td>10.845001</td>\n",
       "      <td>9.885530</td>\n",
       "      <td>5.760235</td>\n",
       "      <td>10.923105</td>\n",
       "    </tr>\n",
       "    <tr>\n",
       "      <th>75%</th>\n",
       "      <td>12.500000</td>\n",
       "      <td>-73.968400</td>\n",
       "      <td>40.767557</td>\n",
       "      <td>-73.965427</td>\n",
       "      <td>40.768405</td>\n",
       "      <td>2.000000</td>\n",
       "      <td>5.000000</td>\n",
       "      <td>2013.000000</td>\n",
       "      <td>9.000000</td>\n",
       "      <td>23.000000</td>\n",
       "      <td>19.000000</td>\n",
       "      <td>0.023942</td>\n",
       "      <td>0.027212</td>\n",
       "      <td>1.275547</td>\n",
       "      <td>10.506294</td>\n",
       "      <td>6.378518</td>\n",
       "      <td>11.576394</td>\n",
       "      <td>10.469044</td>\n",
       "      <td>6.342576</td>\n",
       "      <td>11.734702</td>\n",
       "    </tr>\n",
       "    <tr>\n",
       "      <th>max</th>\n",
       "      <td>99.750000</td>\n",
       "      <td>-73.665171</td>\n",
       "      <td>40.932743</td>\n",
       "      <td>-73.664619</td>\n",
       "      <td>40.935133</td>\n",
       "      <td>6.000000</td>\n",
       "      <td>6.000000</td>\n",
       "      <td>2015.000000</td>\n",
       "      <td>12.000000</td>\n",
       "      <td>31.000000</td>\n",
       "      <td>23.000000</td>\n",
       "      <td>0.515475</td>\n",
       "      <td>0.312945</td>\n",
       "      <td>27.452157</td>\n",
       "      <td>26.815742</td>\n",
       "      <td>22.669672</td>\n",
       "      <td>27.795514</td>\n",
       "      <td>26.863091</td>\n",
       "      <td>22.716982</td>\n",
       "      <td>27.781329</td>\n",
       "    </tr>\n",
       "  </tbody>\n",
       "</table>\n",
       "</div>"
      ],
      "text/plain": [
       "         fare_amount  pickup_longitude  pickup_latitude  dropoff_longitude  \\\n",
       "count  974388.000000     974388.000000    974388.000000      974388.000000   \n",
       "mean       11.302589        -73.975547        40.750897         -73.974596   \n",
       "std         9.309636          0.034337         0.026812           0.033876   \n",
       "min         2.510000        -74.299640        40.481047         -74.300537   \n",
       "25%         6.000000        -73.992279        40.736600         -73.991573   \n",
       "50%         8.500000        -73.982097        40.753415         -73.980610   \n",
       "75%        12.500000        -73.968400        40.767557         -73.965427   \n",
       "max        99.750000        -73.665171        40.932743         -73.664619   \n",
       "\n",
       "       dropoff_latitude  passenger_count        weekday           year  \\\n",
       "count     974388.000000    974388.000000  974388.000000  974388.000000   \n",
       "mean          40.751250         1.686087       3.039591    2011.740771   \n",
       "std            0.030721         1.308440       1.949780       1.862689   \n",
       "min           40.479537         0.000000       0.000000    2009.000000   \n",
       "25%           40.735617         1.000000       1.000000    2010.000000   \n",
       "50%           40.753873         1.000000       3.000000    2012.000000   \n",
       "75%           40.768405         2.000000       5.000000    2013.000000   \n",
       "max           40.935133         6.000000       6.000000    2015.000000   \n",
       "\n",
       "               month            day           hour  abs_diff_longitude  \\\n",
       "count  974388.000000  974388.000000  974388.000000       974388.000000   \n",
       "mean        6.269020      15.691382      13.512700            0.022652   \n",
       "std         3.438059       8.683095       6.510658            0.033406   \n",
       "min         1.000000       1.000000       0.000000            0.000000   \n",
       "25%         3.000000       8.000000       9.000000            0.006186   \n",
       "50%         6.000000      16.000000      14.000000            0.012740   \n",
       "75%         9.000000      23.000000      19.000000            0.023942   \n",
       "max        12.000000      31.000000      23.000000            0.515475   \n",
       "\n",
       "       abs_diff_latitude       distance  pickup_distance_jfk  \\\n",
       "count      974388.000000  974388.000000        974388.000000   \n",
       "mean            0.021243       1.206739             9.633673   \n",
       "std             0.022709       1.779557             1.731019   \n",
       "min             0.000000       0.000000             0.001585   \n",
       "25%             0.006995       0.329575             9.235921   \n",
       "50%             0.014210       0.678752             9.966250   \n",
       "75%             0.027212       1.275547            10.506294   \n",
       "max             0.312945      27.452157            26.815742   \n",
       "\n",
       "       pickup_distance_laguardia  pickup_distance_newark  \\\n",
       "count              974388.000000           974388.000000   \n",
       "mean                    5.648909               11.192924   \n",
       "std                     1.244893                1.826411   \n",
       "min                     0.000077                0.006963   \n",
       "25%                     5.110038               10.298683   \n",
       "50%                     5.838177               10.845001   \n",
       "75%                     6.378518               11.576394   \n",
       "max                    22.669672               27.795514   \n",
       "\n",
       "       dropoff_distance_jfk  dropoff_distance_laguardia  \\\n",
       "count         974388.000000               974388.000000   \n",
       "mean               9.579942                    5.562777   \n",
       "std                1.721616                    1.368310   \n",
       "min                0.000280                    0.000023   \n",
       "25%                9.077374                    4.965867   \n",
       "50%                9.885530                    5.760235   \n",
       "75%               10.469044                    6.342576   \n",
       "max               26.863091                   22.716982   \n",
       "\n",
       "       dropoff_distance_newark  \n",
       "count            974388.000000  \n",
       "mean                 11.243857  \n",
       "std                   1.802738  \n",
       "min                   0.009872  \n",
       "25%                  10.336614  \n",
       "50%                  10.923105  \n",
       "75%                  11.734702  \n",
       "max                  27.781329  "
      ]
     },
     "execution_count": 30,
     "metadata": {},
     "output_type": "execute_result"
    }
   ],
   "source": [
    "train.describe()"
   ]
  },
  {
   "cell_type": "code",
   "execution_count": 31,
   "metadata": {
    "colab": {
     "base_uri": "https://localhost:8080/",
     "height": 132
    },
    "colab_type": "code",
    "id": "-GWQBybsybzm",
    "outputId": "c7f993cb-e9a3-45ea-e506-adc8e0bbae77"
   },
   "outputs": [
    {
     "data": {
      "text/html": [
       "<div>\n",
       "<style scoped>\n",
       "    .dataframe tbody tr th:only-of-type {\n",
       "        vertical-align: middle;\n",
       "    }\n",
       "\n",
       "    .dataframe tbody tr th {\n",
       "        vertical-align: top;\n",
       "    }\n",
       "\n",
       "    .dataframe thead th {\n",
       "        text-align: right;\n",
       "    }\n",
       "</style>\n",
       "<table border=\"1\" class=\"dataframe\">\n",
       "  <thead>\n",
       "    <tr style=\"text-align: right;\">\n",
       "      <th></th>\n",
       "      <th>fare_amount</th>\n",
       "      <th>pickup_longitude</th>\n",
       "      <th>pickup_latitude</th>\n",
       "      <th>dropoff_longitude</th>\n",
       "      <th>dropoff_latitude</th>\n",
       "      <th>passenger_count</th>\n",
       "      <th>weekday</th>\n",
       "      <th>year</th>\n",
       "      <th>month</th>\n",
       "      <th>day</th>\n",
       "      <th>hour</th>\n",
       "      <th>abs_diff_longitude</th>\n",
       "      <th>abs_diff_latitude</th>\n",
       "      <th>distance</th>\n",
       "      <th>pickup_distance_jfk</th>\n",
       "      <th>pickup_distance_laguardia</th>\n",
       "      <th>pickup_distance_newark</th>\n",
       "      <th>dropoff_distance_jfk</th>\n",
       "      <th>dropoff_distance_laguardia</th>\n",
       "      <th>dropoff_distance_newark</th>\n",
       "    </tr>\n",
       "  </thead>\n",
       "  <tbody>\n",
       "    <tr>\n",
       "      <th>min</th>\n",
       "      <td>2.51</td>\n",
       "      <td>-74.299640</td>\n",
       "      <td>40.481047</td>\n",
       "      <td>-74.300537</td>\n",
       "      <td>40.479537</td>\n",
       "      <td>0.0</td>\n",
       "      <td>0.0</td>\n",
       "      <td>2009.0</td>\n",
       "      <td>1.0</td>\n",
       "      <td>1.0</td>\n",
       "      <td>0.0</td>\n",
       "      <td>0.000000</td>\n",
       "      <td>0.000000</td>\n",
       "      <td>0.000000</td>\n",
       "      <td>0.001585</td>\n",
       "      <td>0.000077</td>\n",
       "      <td>0.006963</td>\n",
       "      <td>0.000280</td>\n",
       "      <td>0.000023</td>\n",
       "      <td>0.009872</td>\n",
       "    </tr>\n",
       "    <tr>\n",
       "      <th>max</th>\n",
       "      <td>99.75</td>\n",
       "      <td>-73.665171</td>\n",
       "      <td>40.932743</td>\n",
       "      <td>-73.664619</td>\n",
       "      <td>40.935133</td>\n",
       "      <td>6.0</td>\n",
       "      <td>6.0</td>\n",
       "      <td>2015.0</td>\n",
       "      <td>12.0</td>\n",
       "      <td>31.0</td>\n",
       "      <td>23.0</td>\n",
       "      <td>0.515475</td>\n",
       "      <td>0.312945</td>\n",
       "      <td>27.452157</td>\n",
       "      <td>26.815742</td>\n",
       "      <td>22.669672</td>\n",
       "      <td>27.795514</td>\n",
       "      <td>26.863091</td>\n",
       "      <td>22.716982</td>\n",
       "      <td>27.781329</td>\n",
       "    </tr>\n",
       "  </tbody>\n",
       "</table>\n",
       "</div>"
      ],
      "text/plain": [
       "     fare_amount  pickup_longitude  pickup_latitude  dropoff_longitude  \\\n",
       "min         2.51        -74.299640        40.481047         -74.300537   \n",
       "max        99.75        -73.665171        40.932743         -73.664619   \n",
       "\n",
       "     dropoff_latitude  passenger_count  weekday    year  month   day  hour  \\\n",
       "min         40.479537              0.0      0.0  2009.0    1.0   1.0   0.0   \n",
       "max         40.935133              6.0      6.0  2015.0   12.0  31.0  23.0   \n",
       "\n",
       "     abs_diff_longitude  abs_diff_latitude   distance  pickup_distance_jfk  \\\n",
       "min            0.000000           0.000000   0.000000             0.001585   \n",
       "max            0.515475           0.312945  27.452157            26.815742   \n",
       "\n",
       "     pickup_distance_laguardia  pickup_distance_newark  dropoff_distance_jfk  \\\n",
       "min                   0.000077                0.006963              0.000280   \n",
       "max                  22.669672               27.795514             26.863091   \n",
       "\n",
       "     dropoff_distance_laguardia  dropoff_distance_newark  \n",
       "min                    0.000023                 0.009872  \n",
       "max                   22.716982                27.781329  "
      ]
     },
     "execution_count": 31,
     "metadata": {},
     "output_type": "execute_result"
    }
   ],
   "source": [
    "train.describe().loc[['min','max']]"
   ]
  },
  {
   "cell_type": "code",
   "execution_count": 32,
   "metadata": {},
   "outputs": [],
   "source": [
    "#related with distances, we remove the following cases:\n",
    "#A) distance is 0, and the coordinates of pick up and dropoff are different (so no possible then for round trip\n",
    "# or for the taxi waiting the customer)\n",
    "#B) distance is not 0, but coordinates of pick up and dropoff are same\n",
    "idx_distCaseA = train.index[ (train.distance == 0) &  ( (train.pickup_latitude != train.dropoff_latitude ) | \\\n",
    "                                                         (train.pickup_longitude != train.dropoff_longitude)) ]\n",
    "\n",
    "idx_distCaseB = train.index[ (train.distance != 0) &  ( (train.pickup_latitude == train.dropoff_latitude ) & \\\n",
    "                                                         (train.pickup_longitude == train.dropoff_longitude)) ]\n"
   ]
  },
  {
   "cell_type": "code",
   "execution_count": 33,
   "metadata": {},
   "outputs": [
    {
     "data": {
      "text/plain": [
       "Int64Index([], dtype='int64')"
      ]
     },
     "execution_count": 33,
     "metadata": {},
     "output_type": "execute_result"
    }
   ],
   "source": [
    "#idx_distCaseB and idx_distCaseA seems empty, but there are distances of 0 (10156 rows) \n",
    "#so those have same pickup and dropoff coordinates \n",
    "idx_distCaseB"
   ]
  },
  {
   "cell_type": "code",
   "execution_count": 34,
   "metadata": {},
   "outputs": [],
   "source": [
    "#actually keeping the other cases of distances = 0 seem to decrease the performance, so they are removed\n",
    "\n",
    "#removed any row with distance equal to 0:\n",
    "train = train[ (train.distance > 0)]"
   ]
  },
  {
   "cell_type": "code",
   "execution_count": 35,
   "metadata": {},
   "outputs": [
    {
     "data": {
      "text/plain": [
       "(964806, 25)"
      ]
     },
     "execution_count": 35,
     "metadata": {},
     "output_type": "execute_result"
    }
   ],
   "source": [
    "#log transform for distance helps\n",
    "train['distance_log'] = train['distance'].transform(lambda x: np.log(x+sys.float_info.epsilon))\n",
    "train['abs_diff_latitude_log'] = train['abs_diff_latitude'].transform(lambda x: np.log(x+sys.float_info.epsilon))\n",
    "train['abs_diff_longitude_log'] = train['abs_diff_longitude'].transform(lambda x: np.log(x+sys.float_info.epsilon))\n",
    "\n",
    "train.shape"
   ]
  },
  {
   "cell_type": "markdown",
   "metadata": {},
   "source": [
    "## Data visualization (exploratory analysis)"
   ]
  },
  {
   "cell_type": "code",
   "execution_count": null,
   "metadata": {
    "colab": {
     "base_uri": "https://localhost:8080/",
     "height": 1000
    },
    "colab_type": "code",
    "id": "V4TyLFuIiMJm",
    "outputId": "1a6422f4-0cab-4e7d-f928-a27914cdf8e6"
   },
   "outputs": [],
   "source": [
    "#check distributions of all the features\n",
    "fig = plt.figure(figsize = (15,20))\n",
    "ax = fig.gca()\n",
    "train.hist(ax = ax, bins=50)\n"
   ]
  },
  {
   "cell_type": "code",
   "execution_count": null,
   "metadata": {
    "colab": {},
    "colab_type": "code",
    "id": "h-RvXNKyv8Db"
   },
   "outputs": [],
   "source": [
    "corr_pearson = train.corr(method='pearson')\n",
    "mask = np.zeros_like(corr_pearson, dtype=np.bool)\n",
    "mask[np.triu_indices_from(mask)] = True"
   ]
  },
  {
   "cell_type": "code",
   "execution_count": null,
   "metadata": {
    "colab": {
     "base_uri": "https://localhost:8080/",
     "height": 676
    },
    "colab_type": "code",
    "id": "yZVa4uFLwDbb",
    "outputId": "1cbd6831-a812-47fa-965c-32a1f945c0f8"
   },
   "outputs": [],
   "source": [
    "fig4, ax4 = plt.subplots(figsize=(16, 10))\n",
    "sns.heatmap(corr_pearson, mask=mask, cmap='RdBu_r', vmax=1, center=0,\n",
    "            square=True, linewidths=.5, cbar_kws={\"shrink\": .5},vmin=-1)"
   ]
  },
  {
   "cell_type": "code",
   "execution_count": null,
   "metadata": {
    "colab": {},
    "colab_type": "code",
    "id": "gRzX-1pIznyU"
   },
   "outputs": [],
   "source": [
    "#visualizer = FeatureCorrelation( method='mutual_info-classification', feature_names=train_out.columns, sort=True)\n",
    "X = train.drop(['fare_amount','key','pickup_datetime'],axis=1, inplace=False).to_numpy()\n",
    "Y = train.fare_amount.to_numpy()\n",
    "#lab_enc = sklearn.preprocessing.LabelEncoder()\n",
    "#Y_encoded = lab_enc.fit_transform(Y)\n",
    "\n",
    "#mutual information has too expensive computationally to run for all data, so we just take \n",
    "X = X[1:100000,:]\n",
    "Y = Y[1:100000]\n",
    "\n",
    "feature_MIscores = sklearn.feature_selection.mutual_info_regression(X, Y)"
   ]
  },
  {
   "cell_type": "code",
   "execution_count": null,
   "metadata": {
    "colab": {},
    "colab_type": "code",
    "id": "bTCn7xtRxwc2"
   },
   "outputs": [],
   "source": [
    "feature_MIscores.shape\n",
    "\n",
    "#plot also the fare vs the date (year), and maybe check as hypothesis if there is a positive correlation between year and fare"
   ]
  },
  {
   "cell_type": "code",
   "execution_count": null,
   "metadata": {},
   "outputs": [],
   "source": [
    "feats_labels = train.drop(['fare_amount','key','pickup_datetime'],axis=1, inplace=False).columns\n",
    "#print(feats_labels)\n",
    "index = np.arange(len(feats_labels))\n",
    "plt.figure(figsize=(10,10))\n",
    "plt.barh(index, feature_MIscores)\n",
    "plt.xlabel('mutual information score', fontsize=20)\n",
    "plt.yticks(index, feats_labels, fontsize=10, rotation=30)"
   ]
  },
  {
   "cell_type": "code",
   "execution_count": null,
   "metadata": {},
   "outputs": [],
   "source": [
    "#sns.pairplot(train, y_vars=['fare_amount'], x_vars=['distance', 'distance_log', 'hour','day','month','year','weekday','passenger_count','dropoff_latitude','dropoff_longitude','pickup_latitude','pickup_longitude'])"
   ]
  },
  {
   "cell_type": "code",
   "execution_count": null,
   "metadata": {},
   "outputs": [],
   "source": [
    "sns.scatterplot(x=\"distance\", y=\"fare_amount\", data=train)"
   ]
  },
  {
   "cell_type": "code",
   "execution_count": null,
   "metadata": {},
   "outputs": [],
   "source": [
    "#there is also a kind of straight line, that can be explained by the flat rates used for taxi rides from airport\n",
    " #\"Taxis at JFK Airport charge a flat fare of $52 for trips between the airport and Manhattan.\" \n",
    "#https://www.jfkairport.com/to-from-airport/taxi-car-and-van-service\n",
    "sns.scatterplot(x=\"distance_log\", y=\"fare_amount\", data=train)"
   ]
  },
  {
   "cell_type": "code",
   "execution_count": null,
   "metadata": {},
   "outputs": [],
   "source": [
    "#using hex bins because regular scatter plot does not work (too many points)\n",
    "sns.jointplot(x=\"distance\", y=\"fare_amount\", data=train, kind='reg',joint_kws={'line_kws':{'color':'cyan'}})"
   ]
  },
  {
   "cell_type": "code",
   "execution_count": null,
   "metadata": {},
   "outputs": [],
   "source": [
    "#using hex bins because regular scatter plot does not work (too many points)\n",
    "#easier to see with dostance_log since the scale is shrunk\n",
    "sns.jointplot(x=\"distance\", y=\"fare_amount\", data=train, kind='hex')"
   ]
  },
  {
   "cell_type": "code",
   "execution_count": null,
   "metadata": {
    "colab": {},
    "colab_type": "code",
    "id": "_KbEzhXAzd4S"
   },
   "outputs": [],
   "source": [
    "#TODO: maybe also plot histograms grouping by day, or by hour, to see what times are more common, and see if the fair is similar for "
   ]
  },
  {
   "cell_type": "code",
   "execution_count": null,
   "metadata": {
    "colab": {},
    "colab_type": "code",
    "id": "fUX0PGFRy-OP"
   },
   "outputs": [],
   "source": [
    "#TODO:maybe a heat map of the fares would be interesting, doing a geomap, maybe use plotly?"
   ]
  },
  {
   "cell_type": "code",
   "execution_count": null,
   "metadata": {},
   "outputs": [],
   "source": [
    "#TODO: maybe employ clustering to get some extra information of the data, like outliers? "
   ]
  },
  {
   "cell_type": "markdown",
   "metadata": {},
   "source": [
    "## Split of training data (train + validation)"
   ]
  },
  {
   "cell_type": "code",
   "execution_count": 36,
   "metadata": {},
   "outputs": [],
   "source": [
    "train2, val = train_test_split(train, test_size=0.3)"
   ]
  },
  {
   "cell_type": "code",
   "execution_count": 37,
   "metadata": {},
   "outputs": [
    {
     "data": {
      "text/plain": [
       "(964806, 25)"
      ]
     },
     "execution_count": 37,
     "metadata": {},
     "output_type": "execute_result"
    }
   ],
   "source": [
    "train.shape"
   ]
  },
  {
   "cell_type": "code",
   "execution_count": 38,
   "metadata": {},
   "outputs": [
    {
     "data": {
      "text/plain": [
       "(675364, 25)"
      ]
     },
     "execution_count": 38,
     "metadata": {},
     "output_type": "execute_result"
    }
   ],
   "source": [
    "train2.shape"
   ]
  },
  {
   "cell_type": "code",
   "execution_count": 39,
   "metadata": {},
   "outputs": [
    {
     "data": {
      "text/plain": [
       "Index(['key', 'fare_amount', 'pickup_datetime', 'pickup_longitude',\n",
       "       'pickup_latitude', 'dropoff_longitude', 'dropoff_latitude',\n",
       "       'passenger_count', 'weekday', 'year', 'month', 'day', 'hour',\n",
       "       'abs_diff_longitude', 'abs_diff_latitude', 'distance',\n",
       "       'pickup_distance_jfk', 'pickup_distance_laguardia',\n",
       "       'pickup_distance_newark', 'dropoff_distance_jfk',\n",
       "       'dropoff_distance_laguardia', 'dropoff_distance_newark', 'distance_log',\n",
       "       'abs_diff_latitude_log', 'abs_diff_longitude_log'],\n",
       "      dtype='object')"
      ]
     },
     "execution_count": 39,
     "metadata": {},
     "output_type": "execute_result"
    }
   ],
   "source": [
    "train.columns"
   ]
  },
  {
   "cell_type": "code",
   "execution_count": 40,
   "metadata": {},
   "outputs": [
    {
     "data": {
      "text/plain": [
       "(289442, 25)"
      ]
     },
     "execution_count": 40,
     "metadata": {},
     "output_type": "execute_result"
    }
   ],
   "source": [
    "val.shape"
   ]
  },
  {
   "cell_type": "markdown",
   "metadata": {},
   "source": [
    "## Modeling \n",
    "### (Comparison of several regression models, plus a dummy model as baseline)"
   ]
  },
  {
   "cell_type": "code",
   "execution_count": 41,
   "metadata": {},
   "outputs": [],
   "source": [
    "features_set1=['year','distance','pickup_distance_jfk','pickup_distance_laguardia',\\\n",
    "                  'dropoff_distance_jfk','dropoff_distance_laguardia','abs_diff_latitude','abs_diff_longitude','dropoff_distance_newark','pickup_distance_newark']\n",
    "\n",
    "X_train = train2[features_set1]\n",
    "y_train = train2[['fare_amount']]\n",
    "\n",
    "X_val = val[features_set1]\n",
    "y_val = val[['fare_amount']]"
   ]
  },
  {
   "cell_type": "markdown",
   "metadata": {},
   "source": [
    "### Dummy model"
   ]
  },
  {
   "cell_type": "code",
   "execution_count": 42,
   "metadata": {},
   "outputs": [
    {
     "name": "stdout",
     "output_type": "stream",
     "text": [
      "Dummy model regression, training time:0.003s\n",
      "DummyRegressor(constant=None, quantile=None, strategy='mean')\n"
     ]
    }
   ],
   "source": [
    "dummy_regr = DummyRegressor(strategy=\"mean\")\n",
    "t0_dummy=time()\n",
    "dummy_regr.fit(X_train, y_train)\n",
    "print(\"Dummy model regression, training time:\" + str(round(time()-t0_dummy, 3)) + \"s\")\n",
    "print(dummy_regr)\n"
   ]
  },
  {
   "cell_type": "code",
   "execution_count": 43,
   "metadata": {},
   "outputs": [],
   "source": [
    "y_valPred_dummy = dummy_regr.predict(X_val)\n",
    "y_trainPred_dummy = dummy_regr.predict(X_train)"
   ]
  },
  {
   "cell_type": "code",
   "execution_count": 44,
   "metadata": {},
   "outputs": [
    {
     "name": "stdout",
     "output_type": "stream",
     "text": [
      "Dummy model- training, R2:0.0\n",
      "Dummy model- validation, R2:-5.565194197032497e-06\n"
     ]
    }
   ],
   "source": [
    "#R2 is the proportion of the variance in the dependent variable that is predictable from the independent\n",
    "#variable(s).\n",
    "\n",
    "r2_val_dummy = r2_score(y_val, y_valPred_dummy)\n",
    "r2_train_dummy = r2_score(y_train, y_trainPred_dummy)\n",
    "\n",
    "print('Dummy model- training, R2:' + str(r2_train_dummy))\n",
    "print('Dummy model- validation, R2:' + str(r2_val_dummy))\n"
   ]
  },
  {
   "cell_type": "code",
   "execution_count": 45,
   "metadata": {},
   "outputs": [
    {
     "name": "stdout",
     "output_type": "stream",
     "text": [
      "Dummy model - training, MSE:86.10450422385198\n",
      "Dummy model - validation, MSE:85.90208518453798\n"
     ]
    }
   ],
   "source": [
    "mse_val_dummy = mean_squared_error(y_val, y_valPred_dummy)\n",
    "mse_train_dummy = mean_squared_error(y_train, y_trainPred_dummy)\n",
    "\n",
    "print('Dummy model - training, MSE:' + str(mse_train_dummy))\n",
    "print('Dummy model - validation, MSE:' + str(mse_val_dummy))"
   ]
  },
  {
   "cell_type": "markdown",
   "metadata": {},
   "source": [
    "### Linear regression"
   ]
  },
  {
   "cell_type": "code",
   "execution_count": 46,
   "metadata": {},
   "outputs": [],
   "source": [
    "scaler = StandardScaler()\n",
    "scaler.fit(X_train)\n",
    "\n",
    "#use same scaler for both, based on X_train data\n",
    "X_trainNorm = scaler.transform(X_train)\n",
    "X_valNorm = scaler.transform(X_val)"
   ]
  },
  {
   "cell_type": "code",
   "execution_count": 47,
   "metadata": {},
   "outputs": [
    {
     "name": "stdout",
     "output_type": "stream",
     "text": [
      "LinearRegression(copy_X=True, fit_intercept=True, n_jobs=None, normalize=False)\n"
     ]
    }
   ],
   "source": [
    "# create linear regression model\n",
    "linRegr = linear_model.LinearRegression()\n",
    "print(linRegr)"
   ]
  },
  {
   "cell_type": "code",
   "execution_count": 48,
   "metadata": {},
   "outputs": [
    {
     "name": "stdout",
     "output_type": "stream",
     "text": [
      "Linear regression, training time:0.197s\n",
      "LinearRegression(copy_X=True, fit_intercept=True, n_jobs=None, normalize=False)\n"
     ]
    }
   ],
   "source": [
    "# train the model with training data\n",
    "\n",
    "t0_linR=time()\n",
    "linRegr.fit(X_trainNorm, y_train)\n",
    "print(\"Linear regression, training time:\" + str(round(time()-t0_linR, 3)) + \"s\")\n",
    "print(linRegr)"
   ]
  },
  {
   "cell_type": "code",
   "execution_count": 49,
   "metadata": {},
   "outputs": [],
   "source": [
    "y_valPred_linReg = linRegr.predict(X_valNorm) #to check validation error measures\n",
    "y_trainPred_linReg = linRegr.predict(X_trainNorm) #to check training error measures"
   ]
  },
  {
   "cell_type": "code",
   "execution_count": 50,
   "metadata": {},
   "outputs": [
    {
     "name": "stdout",
     "output_type": "stream",
     "text": [
      "Linear regression - training, R2:0.791628526092792\n",
      "Linear regression - validation, R2:0.7911864687215577\n"
     ]
    }
   ],
   "source": [
    "r2_val_linReg = r2_score(y_val, y_valPred_linReg)\n",
    "r2_train_linReg = r2_score(y_train, y_trainPred_linReg)\n",
    "\n",
    "print('Linear regression - training, R2:' + str(r2_train_linReg))\n",
    "print('Linear regression - validation, R2:' + str(r2_val_linReg))\n"
   ]
  },
  {
   "cell_type": "code",
   "execution_count": 51,
   "metadata": {
    "scrolled": true
   },
   "outputs": [
    {
     "name": "stdout",
     "output_type": "stream",
     "text": [
      "Linear regression - training, MSE:17.941722455173455\n",
      "Linear regression - validation, MSE:17.93741792635078\n"
     ]
    }
   ],
   "source": [
    "mse_val_linReg = mean_squared_error(y_val, y_valPred_linReg)\n",
    "mse_train_linReg = mean_squared_error(y_train, y_trainPred_linReg)\n",
    "\n",
    "print('Linear regression - training, MSE:' + str(mse_train_linReg))\n",
    "print('Linear regression - validation, MSE:' + str(mse_val_linReg))\n"
   ]
  },
  {
   "cell_type": "markdown",
   "metadata": {},
   "source": [
    "### Linear regression with Lasso regularization (i.e. feature selection)"
   ]
  },
  {
   "cell_type": "code",
   "execution_count": 52,
   "metadata": {},
   "outputs": [
    {
     "data": {
      "text/plain": [
       "Index(['key', 'fare_amount', 'pickup_datetime', 'pickup_longitude',\n",
       "       'pickup_latitude', 'dropoff_longitude', 'dropoff_latitude',\n",
       "       'passenger_count', 'weekday', 'year', 'month', 'day', 'hour',\n",
       "       'abs_diff_longitude', 'abs_diff_latitude', 'distance',\n",
       "       'pickup_distance_jfk', 'pickup_distance_laguardia',\n",
       "       'pickup_distance_newark', 'dropoff_distance_jfk',\n",
       "       'dropoff_distance_laguardia', 'dropoff_distance_newark', 'distance_log',\n",
       "       'abs_diff_latitude_log', 'abs_diff_longitude_log'],\n",
       "      dtype='object')"
      ]
     },
     "execution_count": 52,
     "metadata": {},
     "output_type": "execute_result"
    }
   ],
   "source": [
    "train2.columns"
   ]
  },
  {
   "cell_type": "code",
   "execution_count": 53,
   "metadata": {},
   "outputs": [],
   "source": [
    "X_train_lasso = train2.drop(['fare_amount','key','pickup_datetime','distance_log','abs_diff_latitude_log','abs_diff_longitude_log'],axis=1, inplace=False)\n",
    "y_train_lasso = train2[['fare_amount']]\n",
    "\n",
    "X_val_lasso = val.drop(['fare_amount','key','pickup_datetime','distance_log','abs_diff_latitude_log','abs_diff_longitude_log'],axis=1, inplace=False)\n",
    "y_val_lasso = val[['fare_amount']]"
   ]
  },
  {
   "cell_type": "code",
   "execution_count": 54,
   "metadata": {},
   "outputs": [
    {
     "data": {
      "text/plain": [
       "(675364, 19)"
      ]
     },
     "execution_count": 54,
     "metadata": {},
     "output_type": "execute_result"
    }
   ],
   "source": [
    "X_train_lasso.shape"
   ]
  },
  {
   "cell_type": "code",
   "execution_count": 55,
   "metadata": {},
   "outputs": [
    {
     "data": {
      "text/plain": [
       "(675364, 1)"
      ]
     },
     "execution_count": 55,
     "metadata": {},
     "output_type": "execute_result"
    }
   ],
   "source": [
    "y_train_lasso.shape"
   ]
  },
  {
   "cell_type": "code",
   "execution_count": 56,
   "metadata": {},
   "outputs": [],
   "source": [
    "scaler_lasso = StandardScaler()\n",
    "scaler_lasso.fit(X_train_lasso)\n",
    "\n",
    "#use same scaler for both, based on X_train_lasso data\n",
    "X_trainLassoNorm = scaler_lasso.transform(X_train_lasso)\n",
    "X_valLassoNorm = scaler_lasso.transform(X_val_lasso)"
   ]
  },
  {
   "cell_type": "code",
   "execution_count": 57,
   "metadata": {},
   "outputs": [
    {
     "name": "stdout",
     "output_type": "stream",
     "text": [
      "Linear regression with Lasso reg., training time:14.872s\n",
      "LassoCV(alphas=None, copy_X=True, cv=5, eps=0.001, fit_intercept=True,\n",
      "        max_iter=1000, n_alphas=100, n_jobs=None, normalize=False,\n",
      "        positive=False, precompute='auto', random_state=None,\n",
      "        selection='cyclic', tol=0.0001, verbose=False)\n"
     ]
    }
   ],
   "source": [
    "lassoReg = linear_model.LassoCV(cv=5)\n",
    "t0_linRLasso=time()\n",
    "lassoReg.fit(X_trainLassoNorm, y_train_lasso.values.ravel())\n",
    "print(\"Linear regression with Lasso reg., training time:\" + str(round(time()-t0_linRLasso, 3)) + \"s\")\n",
    "print(lassoReg)"
   ]
  },
  {
   "cell_type": "code",
   "execution_count": 58,
   "metadata": {},
   "outputs": [],
   "source": [
    "y_valPred_lassoReg = lassoReg.predict(X_valLassoNorm)\n",
    "y_trainPred_lassoReg = lassoReg.predict(X_trainLassoNorm)"
   ]
  },
  {
   "cell_type": "code",
   "execution_count": 59,
   "metadata": {},
   "outputs": [
    {
     "name": "stdout",
     "output_type": "stream",
     "text": [
      "Linear regression with Lasso reg. - training, R2:0.7936787493537408\n",
      "Linear regression with Lasso reg. - validation, R2:0.79293902111166\n"
     ]
    }
   ],
   "source": [
    "r2_val_lassoReg = r2_score(y_val_lasso, y_valPred_lassoReg)\n",
    "r2_train_lassoReg = r2_score(y_train_lasso, y_trainPred_lassoReg)\n",
    "\n",
    "print('Linear regression with Lasso reg. - training, R2:' + str(r2_train_lassoReg))\n",
    "print('Linear regression with Lasso reg. - validation, R2:' + str(r2_val_lassoReg))"
   ]
  },
  {
   "cell_type": "code",
   "execution_count": 60,
   "metadata": {},
   "outputs": [
    {
     "name": "stdout",
     "output_type": "stream",
     "text": [
      "Linear regression with Lasso reg. - training, MSE:17.765188997741248\n",
      "Linear regression with Lasso reg. - validation, MSE:17.786870859469506\n"
     ]
    }
   ],
   "source": [
    "mse_val_lassoReg = mean_squared_error(y_val_lasso, y_valPred_lassoReg)\n",
    "mse_train_lassoReg = mean_squared_error(y_train_lasso, y_trainPred_lassoReg)\n",
    "\n",
    "print('Linear regression with Lasso reg. - training, MSE:' + str(mse_train_lassoReg))\n",
    "print('Linear regression with Lasso reg. - validation, MSE:' + str(mse_val_lassoReg))"
   ]
  },
  {
   "cell_type": "code",
   "execution_count": 61,
   "metadata": {},
   "outputs": [],
   "source": [
    "#TODO: include a plotbar showing the weights obtained"
   ]
  },
  {
   "cell_type": "markdown",
   "metadata": {},
   "source": [
    "### Random forest regression\n",
    "\n",
    "Decision trees can deal with non-linearity relationships between independent variables and the dependent variable (fare_amount), unlike linear regressors."
   ]
  },
  {
   "cell_type": "code",
   "execution_count": 62,
   "metadata": {},
   "outputs": [
    {
     "name": "stdout",
     "output_type": "stream",
     "text": [
      "Random forest regression, training time:160.652s\n",
      "RandomForestRegressor(bootstrap=True, criterion='mse', max_depth=None,\n",
      "                      max_features='auto', max_leaf_nodes=None,\n",
      "                      min_impurity_decrease=0.0, min_impurity_split=None,\n",
      "                      min_samples_leaf=1, min_samples_split=2,\n",
      "                      min_weight_fraction_leaf=0.0, n_estimators=10,\n",
      "                      n_jobs=None, oob_score=False, random_state=None,\n",
      "                      verbose=0, warm_start=False)\n"
     ]
    }
   ],
   "source": [
    "randFor = RandomForestRegressor(n_estimators=10) #current default, future is 100, but it is too much computation\n",
    "\n",
    "#decisions trees don't need normalized data since they don't assume any distribution\n",
    "\n",
    "t0_randFor=time()\n",
    "randFor.fit(X_train_lasso, y_train_lasso.values.ravel())\n",
    "print(\"Random forest regression, training time:\" + str(round(time()-t0_randFor, 3)) + \"s\")\n",
    "print(randFor)"
   ]
  },
  {
   "cell_type": "code",
   "execution_count": 63,
   "metadata": {},
   "outputs": [
    {
     "data": {
      "image/png": "[encoded data removed]",
      "text/plain": [
       "<Figure size 432x288 with 1 Axes>"
      ]
     },
     "metadata": {
      "needs_background": "light"
     },
     "output_type": "display_data"
    }
   ],
   "source": [
    "importances = randFor.feature_importances_\n",
    "\n",
    "indices = np.argsort(importances)\n",
    "\n",
    "features =  X_train_lasso.columns\n",
    "\n",
    "plt.title('Feature Importances')\n",
    "plt.barh(range(len(indices)), importances[indices], color='b', align='center')\n",
    "plt.yticks(range(len(indices)), [features[i] for i in indices])\n",
    "plt.xlabel('Relative Importance')\n",
    "plt.show()\n",
    "\n",
    "\n",
    "#Avenues generally run north and south in NY.\n",
    "# all streets run east and west\n",
    "#https://becomeanewyorker.com/streets-and-avenues-there-is-a-differenc/\n",
    "#it may be that taxis go mainly through avenues, and that is why longitude affects so much"
   ]
  },
  {
   "cell_type": "code",
   "execution_count": 64,
   "metadata": {},
   "outputs": [],
   "source": [
    "y_valPred_randFor = randFor.predict(X_val_lasso)\n",
    "y_trainPred_randFor = randFor.predict(X_train_lasso)"
   ]
  },
  {
   "cell_type": "code",
   "execution_count": 65,
   "metadata": {},
   "outputs": [
    {
     "name": "stdout",
     "output_type": "stream",
     "text": [
      "Random forest regression - training, R2:0.9770583576564876\n",
      "Random forest regression - validation, R2:0.8726307115366575\n"
     ]
    }
   ],
   "source": [
    "r2_val_randFor = r2_score(y_val_lasso, y_valPred_randFor)\n",
    "r2_train_randFor = r2_score(y_train_lasso, y_trainPred_randFor)\n",
    "\n",
    "print('Random forest regression - training, R2:' + str(r2_train_randFor))\n",
    "print('Random forest regression - validation, R2:' + str(r2_val_randFor))"
   ]
  },
  {
   "cell_type": "code",
   "execution_count": 66,
   "metadata": {},
   "outputs": [
    {
     "name": "stdout",
     "output_type": "stream",
     "text": [
      "Random forest regression - training, MSE:1.9753787400690597\n",
      "Random forest regression - validation, MSE:10.941226577421384\n"
     ]
    }
   ],
   "source": [
    "mse_val_randFor = mean_squared_error(y_val_lasso, y_valPred_randFor)\n",
    "mse_train_randFor = mean_squared_error(y_train_lasso, y_trainPred_randFor)\n",
    "\n",
    "print('Random forest regression - training, MSE:' + str(mse_train_randFor))\n",
    "print('Random forest regression - validation, MSE:' + str(mse_val_randFor))"
   ]
  },
  {
   "cell_type": "markdown",
   "metadata": {},
   "source": [
    "### XGBoost regression\n",
    "\n",
    "With this approach with reduce not only variance (as in random forests) but also the bias.\n",
    "It has also regularization to avoid overfitting."
   ]
  },
  {
   "cell_type": "code",
   "execution_count": null,
   "metadata": {},
   "outputs": [],
   "source": [
    "# https://datascience.stackexchange.com/questions/23789/why-do-we-need-xgboost-and-random-forest\n",
    "#xgbr = xgb.XGBRegressor(objective ='reg:squarederror')  #objective changed based on warning: \"reg:linear is now deprecated in favor of reg:squarederror.\"\n",
    "#print(xgbr)"
   ]
  },
  {
   "cell_type": "code",
   "execution_count": null,
   "metadata": {},
   "outputs": [],
   "source": [
    "#again here, using decision trees, so no need \n",
    "\n",
    "#t0_xgbr=time()\n",
    "#xgbr.fit(X_train_lasso, y_train_lasso.values.ravel())\n",
    "#print(\"XGBoost regression, training time:\" + str(round(time()-t0_xgbr, 3)) + \"s\")\n",
    "#print(xgbr)\n",
    "\n",
    "#filename = 'XGBoost_model.sav'\n",
    "#pickle.dump(xgbr, open(filename, 'wb'))"
   ]
  },
  {
   "cell_type": "code",
   "execution_count": null,
   "metadata": {},
   "outputs": [],
   "source": [
    "#y_valPred_xgbr = xgbr.predict(X_val_lasso)\n",
    "#y_trainPred_xgbr = xgbr.predict(X_train_lasso)"
   ]
  },
  {
   "cell_type": "code",
   "execution_count": null,
   "metadata": {},
   "outputs": [],
   "source": [
    "#r2_val_xgbr = r2_score(y_val_lasso, y_valPred_xgbr)\n",
    "#r2_train_xgbr = r2_score(y_train_lasso, y_trainPred_xgbr)\n",
    "\n",
    "#print('XGBoost regression - training, R2:' + str(r2_train_xgbr))\n",
    "#print('XGBoost regression - validation, R2:' + str(r2_val_xgbr))"
   ]
  },
  {
   "cell_type": "code",
   "execution_count": null,
   "metadata": {},
   "outputs": [],
   "source": [
    "#mse_val_xgbr = mean_squared_error(y_val_lasso, y_valPred_xgbr)\n",
    "#mse_train_xgbr = mean_squared_error(y_train_lasso, y_trainPred_xgbr)\n",
    "\n",
    "#print('XGBoost regression - training, MSE:' + str(mse_train_xgbr))\n",
    "#print('XGBoost forest regression - validation, MSE:' + str(mse_val_xgbr))"
   ]
  },
  {
   "cell_type": "markdown",
   "metadata": {},
   "source": [
    "- #### XGBoost with parameter tuning"
   ]
  },
  {
   "cell_type": "code",
   "execution_count": null,
   "metadata": {},
   "outputs": [],
   "source": [
    "#https://www.kaggle.com/omarito/gridsearchcv-xgbregressor-0-556-lb\n",
    "#https://www.analyticsvidhya.com/blog/2016/03/complete-guide-parameter-tuning-xgboost-with-codes-python/\n",
    "#https://blog.cambridgespark.com/hyperparameter-tuning-in-xgboost-4ff9100a3b2f"
   ]
  },
  {
   "cell_type": "code",
   "execution_count": null,
   "metadata": {},
   "outputs": [],
   "source": [
    "# Parameters that are going to be tuned are those given by an :\n",
    "params ={}\n",
    "params = {\n",
    "    'max_depth': [3,5,7,9],\n",
    "    'min_child_weight': [1,3,5],\n",
    "    'learning_rate': [0.05,0.1,0.3],\n",
    "    'subsample': [1],\n",
    "    'colsample_bytree': [1],\n",
    "    # Other parameters\n",
    "    'objective': ['reg:squarederror'],\n",
    "}\n",
    "#num_boost_round = 999"
   ]
  },
  {
   "cell_type": "code",
   "execution_count": null,
   "metadata": {},
   "outputs": [],
   "source": [
    "# initializing XGBoost and GridSearchCV\n",
    "\n",
    "#k=10 #10-folding\n",
    "#xgb_regr_tuning = xgb.XGBRegressor() \n",
    "#xgbr_grid = GridSearchCV(xgb_regr_tuning, params, cv=k, scoring='neg_mean_squared_error')"
   ]
  },
  {
   "cell_type": "code",
   "execution_count": null,
   "metadata": {},
   "outputs": [],
   "source": [
    "##we use just a subset of the values, otherwise it takes too much time \n",
    "##(also, batches will be smaller, which may be better for results in the end)\n",
    "#X_train_grid = X_train_lasso.head(300_000)\n",
    "#y_train_grid = y_train_lasso.head(300_000)\n",
    "\n",
    "#t0_xgbrGrid=time()\n",
    "#grid_result = xgbr_grid.fit(X_train_grid, y_train_grid.values.ravel())\n",
    "#print(\"XGBoost grid search tuning, time:\" + str(round(time()-t0_xgbrGrid, 3)) + \"s\")\n",
    "#print(xgbr_grid)\n",
    "\n",
    "#filename = 'XGBoostGrid_model.sav'\n",
    "#pickle.dump(grid_result, open(filename, 'wb'))"
   ]
  },
  {
   "cell_type": "code",
   "execution_count": null,
   "metadata": {},
   "outputs": [],
   "source": [
    "#best_params = grid_result.best_params_\n",
    "#params['max_depth']=[best_params['max_depth']]\n",
    "#params['min_child_weight']=[best_params['min_child_weight']]\n",
    "#params['learning_rate']=[best_params['learning_rate']]\n",
    "\n",
    "#params"
   ]
  },
  {
   "cell_type": "code",
   "execution_count": 67,
   "metadata": {},
   "outputs": [
    {
     "name": "stdout",
     "output_type": "stream",
     "text": [
      "XGBoost regression with tuning, training time:319.535s\n"
     ]
    }
   ],
   "source": [
    "tuned_xgbr = xgb.XGBRegressor(max_depth=9,min_child_weight=1,learning_rate= 0.1,objective ='reg:squarederror')\n",
    "t0_xgbrTune=time()\n",
    "tuned_xgbr.fit(X_train_lasso, y_train_lasso.values.ravel())\n",
    "print(\"XGBoost regression with tuning, training time:\" + str(round(time()-t0_xgbrTune, 3)) + \"s\")\n",
    "#print(xgbr_grid)\n",
    "\n",
    "filename = 'XGBoostTuned_model.sav'\n",
    "pickle.dump(tuned_xgbr, open(filename, 'wb'))"
   ]
  },
  {
   "cell_type": "code",
   "execution_count": 68,
   "metadata": {},
   "outputs": [],
   "source": [
    "#y_valPred_xgbrGrid = xgbr_grid.predict(X_val_lasso)\n",
    "#y_trainPred_xgbrGrid = xgbr_grid.predict(X_train_lasso)\n",
    "\n",
    "y_valPred_tuned_xgbr = tuned_xgbr.predict(X_val_lasso)\n",
    "y_trainPred_tuned_xgbr = tuned_xgbr.predict(X_train_lasso)"
   ]
  },
  {
   "cell_type": "code",
   "execution_count": 69,
   "metadata": {},
   "outputs": [
    {
     "name": "stdout",
     "output_type": "stream",
     "text": [
      "XGBoost regression, with tuning - training, R2:0.9192195448467397\n",
      "XGBoost regression, with tuning - validation, R2:0.8913527670495901\n"
     ]
    }
   ],
   "source": [
    "#r2_val_xgbrGrid = r2_score(y_val_lasso, y_valPred_xgbrGrid)\n",
    "#r2_train_xgbrGrid = r2_score(y_train_lasso, y_trainPred_xgbrGrid)\n",
    "r2_val_tuned_xgbr = r2_score(y_val_lasso, y_valPred_tuned_xgbr)\n",
    "r2_train_tuned_xgbr = r2_score(y_train_lasso, y_trainPred_tuned_xgbr)\n",
    "\n",
    "\n",
    "#print('XGBoost regression, with tuning - training, R2:' + str(r2_train_xgbrGrid))\n",
    "#print('XGBoost regression, with tuning - validation, R2:' + str(r2_val_xgbrGrid))\n",
    "\n",
    "print('XGBoost regression, with tuning - training, R2:' + str(r2_train_tuned_xgbr))\n",
    "print('XGBoost regression, with tuning - validation, R2:' + str(r2_val_tuned_xgbr))"
   ]
  },
  {
   "cell_type": "code",
   "execution_count": 70,
   "metadata": {},
   "outputs": [
    {
     "name": "stdout",
     "output_type": "stream",
     "text": [
      "XGBoost regression - training, MSE:6.955561041948586\n",
      "XGBoost forest regression - validation, MSE:9.33297192016928\n"
     ]
    }
   ],
   "source": [
    "#mse_val_xgbrGrid = mean_squared_error(y_val_lasso, y_valPred_xgbrGrid)\n",
    "#mse_train_xgbrGrid = mean_squared_error(y_train_lasso, y_trainPred_xgbrGrid)\n",
    "\n",
    "mse_val_tuned_xgbr = mean_squared_error(y_val_lasso, y_valPred_tuned_xgbr)\n",
    "mse_train_tuned_xgbr = mean_squared_error(y_train_lasso, y_trainPred_tuned_xgbr)\n",
    "\n",
    "print('XGBoost regression - training, MSE:' + str(mse_train_tuned_xgbr))\n",
    "print('XGBoost forest regression - validation, MSE:' + str(mse_val_tuned_xgbr))"
   ]
  },
  {
   "cell_type": "code",
   "execution_count": null,
   "metadata": {},
   "outputs": [],
   "source": [
    "#been on end of notebook running\n",
    "import os\n",
    "duration = 1  # seconds\n",
    "freq = 400  # Hz\n",
    "os.system('play -nq -t alsa synth {} sine {}'.format(duration, freq))"
   ]
  },
  {
   "cell_type": "code",
   "execution_count": null,
   "metadata": {},
   "outputs": [],
   "source": []
  },
  {
   "cell_type": "code",
   "execution_count": null,
   "metadata": {},
   "outputs": [],
   "source": []
  }
 ],
 "metadata": {
  "colab": {
   "collapsed_sections": [],
   "include_colab_link": true,
   "name": "NYTaxiFare_1_ExploratoryAnalysis_&_Preprocessing.ipynb",
   "provenance": []
  },
  "kernelspec": {
   "display_name": "kernpy3",
   "language": "python",
   "name": "kernpy3"
  },
  "language_info": {
   "codemirror_mode": {
    "name": "ipython",
    "version": 3
   },
   "file_extension": ".py",
   "mimetype": "text/x-python",
   "name": "python",
   "nbconvert_exporter": "python",
   "pygments_lexer": "ipython3",
   "version": "3.6.9"
  }
 },
 "nbformat": 4,
 "nbformat_minor": 1
}
