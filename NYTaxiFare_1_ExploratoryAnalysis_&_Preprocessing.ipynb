{
 "cells": [
  {
   "cell_type": "code",
   "execution_count": 1,
   "metadata": {
    "colab": {},
    "colab_type": "code",
    "id": "of4LCPeltVMG"
   },
   "outputs": [],
   "source": [
    "import numpy as np\n",
    "import pandas as pd\n",
    "import matplotlib.pyplot as plt\n",
    "import seaborn as sns\n",
    "import sys\n",
    "#from geopy.distance import geodesic # too expensive computationally for the amount of data at hand\n",
    "import sklearn.feature_selection\n",
    "from sklearn.model_selection import train_test_split\n",
    "import pickle\n",
    "from sklearn import linear_model\n",
    "from sklearn.dummy import DummyRegressor\n",
    "from sklearn.preprocessing import StandardScaler\n",
    "from sklearn.metrics import r2_score\n",
    "from sklearn.metrics import mean_squared_error\n",
    "from sklearn.ensemble import RandomForestRegressor\n",
    "import xgboost as xgb\n",
    "from sklearn.model_selection import GridSearchCV\n",
    "from time import time"
   ]
  },
  {
   "cell_type": "markdown",
   "metadata": {},
   "source": [
    "### Functions:"
   ]
  },
  {
   "cell_type": "code",
   "execution_count": 2,
   "metadata": {
    "colab": {},
    "colab_type": "code",
    "id": "hbg0VE6P19xG"
   },
   "outputs": [],
   "source": [
    "#add new features to df:\n",
    "def add_newFeats(df):\n",
    "    \n",
    "    #compute distance function\n",
    "    def haversine_distance(df_pickup_lat, df_pickup_long,df_dropoff_lat,df_dropoff_long):\n",
    "\n",
    "    #6367 earth radius\n",
    "        distance_col = 6367 * 2 * np.arcsin(np.sqrt(np.sin((np.radians(df_pickup_lat) /\n",
    "                                                - np.radians(df_dropoff_lat))/2)**2 /\n",
    "                                                + np.cos(np.radians(df_dropoff_lat))*np.cos(np.radians(df_pickup_lat))*np.sin((np.radians(df_pickup_long) - np.radians(df_dropoff_long))/2)**2))\n",
    "        return distance_col\n",
    "    \n",
    "    \n",
    "    #add features related with datetime\n",
    "    df['key'] = pd.to_datetime(df['key'])\n",
    "    df['weekday'] = df['key'].dt.dayofweek\n",
    "    df['year']=df['key'].dt.year\n",
    "    df['month']=df['key'].dt.month\n",
    "    df['day']=df['key'].dt.day\n",
    "    df['hour']=df['key'].dt.hour\n",
    "\n",
    "    #Absolute differences between longitudes and between latitudes\n",
    "    df ['abs_diff_longitude']=np.abs(df.pickup_longitude-df.dropoff_longitude)\n",
    "    df ['abs_diff_latitude']=np.abs(df.pickup_latitude-df.dropoff_latitude)\n",
    "    \n",
    "    #there are some flat rates on trips from/to some of the airports in NY (JFK, LaGuardia, Newark) so we add features of\n",
    "    #distances from/to these airports\n",
    "    # coordinates from https://get-direction.com\n",
    "    jfk_latitude = 40.644538879\n",
    "    jfk_longitude = -73.795356750\n",
    "    laguardia_latitude = 40.774009705\n",
    "    laguardia_longitude =-73.872497559\n",
    "    newark_latitude = 40.692878723\n",
    "    newark_longitude = -74.185447693 \n",
    "        \n",
    "    #distances: between pickup and dropoffs, and distances to the main 3 airports in NYC\n",
    "    #note: Newark is actually New Jersey, that's also why the bounding box was also larger\n",
    "    df['distance'] = haversine_distance(df['pickup_latitude'],df['pickup_longitude'],df['dropoff_latitude'],df['dropoff_longitude'])\n",
    "    df['pickup_distance_jfk'] = haversine_distance(df['pickup_latitude'],df['pickup_longitude'],jfk_latitude, jfk_longitude)\n",
    "    df['pickup_distance_laguardia'] = haversine_distance(df['pickup_latitude'],df['pickup_longitude'],laguardia_latitude, laguardia_longitude)\n",
    "    df['pickup_distance_newark'] = haversine_distance(df['pickup_latitude'],df['pickup_longitude'],newark_latitude, newark_longitude)\n",
    "    df['dropoff_distance_jfk'] = haversine_distance(df['dropoff_latitude'],df['dropoff_longitude'],jfk_latitude, jfk_longitude)\n",
    "    df['dropoff_distance_newark'] = haversine_distance(df['dropoff_latitude'],df['dropoff_longitude'],newark_latitude, newark_longitude)\n",
    "\n",
    "    df['dropoff_distance_laguardia'] = haversine_distance(df['dropoff_latitude'],df['dropoff_longitude'],laguardia_latitude, laguardia_longitude)\n",
    "    \n",
    "    #log transform for distance feats\n",
    "    df['distance_log'] = df['distance'].transform(lambda x: np.log(x+sys.float_info.epsilon))\n",
    "    df['abs_diff_latitude_log'] = df['abs_diff_latitude'].transform(lambda x: np.log(x+sys.float_info.epsilon))\n",
    "    df['abs_diff_longitude_log'] = df['abs_diff_longitude'].transform(lambda x: np.log(x+sys.float_info.epsilon))\n",
    "    \n",
    "    return df\n"
   ]
  },
  {
   "cell_type": "markdown",
   "metadata": {},
   "source": [
    "## Read training data"
   ]
  },
  {
   "cell_type": "code",
   "execution_count": 3,
   "metadata": {
    "colab": {
     "base_uri": "https://localhost:8080/",
     "height": 54
    },
    "colab_type": "code",
    "id": "31lNgv3Y2Sjk",
    "outputId": "e3af7b71-5307-42f6-fb8e-1fa6f574cb6b"
   },
   "outputs": [],
   "source": [
    "#from google.colab import drive\n",
    "#drive.mount('/content/drive')\n",
    "#train_path = '/content/drive/My Drive/Colab Notebooks/train_orig.csv'\n",
    "train_path = 'train_orig.csv'"
   ]
  },
  {
   "cell_type": "code",
   "execution_count": 4,
   "metadata": {
    "colab": {
     "base_uri": "https://localhost:8080/",
     "height": 313
    },
    "colab_type": "code",
    "id": "fNS7UyE9FWXh",
    "outputId": "e8809129-ab10-4b95-b377-94d56e3e0bb9"
   },
   "outputs": [
    {
     "data": {
      "text/html": [
       "<div>\n",
       "<style scoped>\n",
       "    .dataframe tbody tr th:only-of-type {\n",
       "        vertical-align: middle;\n",
       "    }\n",
       "\n",
       "    .dataframe tbody tr th {\n",
       "        vertical-align: top;\n",
       "    }\n",
       "\n",
       "    .dataframe thead th {\n",
       "        text-align: right;\n",
       "    }\n",
       "</style>\n",
       "<table border=\"1\" class=\"dataframe\">\n",
       "  <thead>\n",
       "    <tr style=\"text-align: right;\">\n",
       "      <th></th>\n",
       "      <th>key</th>\n",
       "      <th>fare_amount</th>\n",
       "      <th>pickup_datetime</th>\n",
       "      <th>pickup_longitude</th>\n",
       "      <th>pickup_latitude</th>\n",
       "      <th>dropoff_longitude</th>\n",
       "      <th>dropoff_latitude</th>\n",
       "      <th>passenger_count</th>\n",
       "    </tr>\n",
       "  </thead>\n",
       "  <tbody>\n",
       "    <tr>\n",
       "      <th>0</th>\n",
       "      <td>2009-06-15 17:26:21.0000001</td>\n",
       "      <td>4.5</td>\n",
       "      <td>2009-06-15 17:26:21 UTC</td>\n",
       "      <td>-73.844311</td>\n",
       "      <td>40.721319</td>\n",
       "      <td>-73.841610</td>\n",
       "      <td>40.712278</td>\n",
       "      <td>1</td>\n",
       "    </tr>\n",
       "    <tr>\n",
       "      <th>1</th>\n",
       "      <td>2010-01-05 16:52:16.0000002</td>\n",
       "      <td>16.9</td>\n",
       "      <td>2010-01-05 16:52:16 UTC</td>\n",
       "      <td>-74.016048</td>\n",
       "      <td>40.711303</td>\n",
       "      <td>-73.979268</td>\n",
       "      <td>40.782004</td>\n",
       "      <td>1</td>\n",
       "    </tr>\n",
       "    <tr>\n",
       "      <th>2</th>\n",
       "      <td>2011-08-18 00:35:00.00000049</td>\n",
       "      <td>5.7</td>\n",
       "      <td>2011-08-18 00:35:00 UTC</td>\n",
       "      <td>-73.982738</td>\n",
       "      <td>40.761270</td>\n",
       "      <td>-73.991242</td>\n",
       "      <td>40.750562</td>\n",
       "      <td>2</td>\n",
       "    </tr>\n",
       "    <tr>\n",
       "      <th>3</th>\n",
       "      <td>2012-04-21 04:30:42.0000001</td>\n",
       "      <td>7.7</td>\n",
       "      <td>2012-04-21 04:30:42 UTC</td>\n",
       "      <td>-73.987130</td>\n",
       "      <td>40.733143</td>\n",
       "      <td>-73.991567</td>\n",
       "      <td>40.758092</td>\n",
       "      <td>1</td>\n",
       "    </tr>\n",
       "    <tr>\n",
       "      <th>4</th>\n",
       "      <td>2010-03-09 07:51:00.000000135</td>\n",
       "      <td>5.3</td>\n",
       "      <td>2010-03-09 07:51:00 UTC</td>\n",
       "      <td>-73.968095</td>\n",
       "      <td>40.768008</td>\n",
       "      <td>-73.956655</td>\n",
       "      <td>40.783762</td>\n",
       "      <td>1</td>\n",
       "    </tr>\n",
       "  </tbody>\n",
       "</table>\n",
       "</div>"
      ],
      "text/plain": [
       "                             key  fare_amount          pickup_datetime  \\\n",
       "0    2009-06-15 17:26:21.0000001          4.5  2009-06-15 17:26:21 UTC   \n",
       "1    2010-01-05 16:52:16.0000002         16.9  2010-01-05 16:52:16 UTC   \n",
       "2   2011-08-18 00:35:00.00000049          5.7  2011-08-18 00:35:00 UTC   \n",
       "3    2012-04-21 04:30:42.0000001          7.7  2012-04-21 04:30:42 UTC   \n",
       "4  2010-03-09 07:51:00.000000135          5.3  2010-03-09 07:51:00 UTC   \n",
       "\n",
       "   pickup_longitude  pickup_latitude  dropoff_longitude  dropoff_latitude  \\\n",
       "0        -73.844311        40.721319         -73.841610         40.712278   \n",
       "1        -74.016048        40.711303         -73.979268         40.782004   \n",
       "2        -73.982738        40.761270         -73.991242         40.750562   \n",
       "3        -73.987130        40.733143         -73.991567         40.758092   \n",
       "4        -73.968095        40.768008         -73.956655         40.783762   \n",
       "\n",
       "   passenger_count  \n",
       "0                1  \n",
       "1                1  \n",
       "2                2  \n",
       "3                1  \n",
       "4                1  "
      ]
     },
     "execution_count": 4,
     "metadata": {},
     "output_type": "execute_result"
    }
   ],
   "source": [
    "train = pd.read_csv(train_path, nrows=1_000_000) #only a portion of observations are selected, \n",
    "                                                #since it is a big dataset\n",
    "train.head()"
   ]
  },
  {
   "cell_type": "code",
   "execution_count": 5,
   "metadata": {
    "colab": {
     "base_uri": "https://localhost:8080/",
     "height": 173
    },
    "colab_type": "code",
    "id": "8jW_Vb2zN29Q",
    "outputId": "4da9e4cb-d9ef-42c7-e145-14e7925b4c99"
   },
   "outputs": [
    {
     "data": {
      "text/plain": [
       "key                   object\n",
       "fare_amount          float64\n",
       "pickup_datetime       object\n",
       "pickup_longitude     float64\n",
       "pickup_latitude      float64\n",
       "dropoff_longitude    float64\n",
       "dropoff_latitude     float64\n",
       "passenger_count        int64\n",
       "dtype: object"
      ]
     },
     "execution_count": 5,
     "metadata": {},
     "output_type": "execute_result"
    }
   ],
   "source": [
    "train.dtypes"
   ]
  },
  {
   "cell_type": "code",
   "execution_count": 44,
   "metadata": {},
   "outputs": [
    {
     "data": {
      "text/html": [
       "<div>\n",
       "<style scoped>\n",
       "    .dataframe tbody tr th:only-of-type {\n",
       "        vertical-align: middle;\n",
       "    }\n",
       "\n",
       "    .dataframe tbody tr th {\n",
       "        vertical-align: top;\n",
       "    }\n",
       "\n",
       "    .dataframe thead th {\n",
       "        text-align: right;\n",
       "    }\n",
       "</style>\n",
       "<table border=\"1\" class=\"dataframe\">\n",
       "  <thead>\n",
       "    <tr style=\"text-align: right;\">\n",
       "      <th></th>\n",
       "      <th>fare_amount</th>\n",
       "      <th>pickup_longitude</th>\n",
       "      <th>pickup_latitude</th>\n",
       "      <th>dropoff_longitude</th>\n",
       "      <th>dropoff_latitude</th>\n",
       "      <th>passenger_count</th>\n",
       "      <th>weekday</th>\n",
       "      <th>year</th>\n",
       "      <th>month</th>\n",
       "      <th>day</th>\n",
       "      <th>...</th>\n",
       "      <th>distance</th>\n",
       "      <th>pickup_distance_jfk</th>\n",
       "      <th>pickup_distance_laguardia</th>\n",
       "      <th>pickup_distance_newark</th>\n",
       "      <th>dropoff_distance_jfk</th>\n",
       "      <th>dropoff_distance_newark</th>\n",
       "      <th>dropoff_distance_laguardia</th>\n",
       "      <th>distance_log</th>\n",
       "      <th>abs_diff_latitude_log</th>\n",
       "      <th>abs_diff_longitude_log</th>\n",
       "    </tr>\n",
       "  </thead>\n",
       "  <tbody>\n",
       "    <tr>\n",
       "      <th>count</th>\n",
       "      <td>964806.000000</td>\n",
       "      <td>964806.000000</td>\n",
       "      <td>964806.000000</td>\n",
       "      <td>964806.000000</td>\n",
       "      <td>964806.000000</td>\n",
       "      <td>964806.000000</td>\n",
       "      <td>964806.000000</td>\n",
       "      <td>964806.000000</td>\n",
       "      <td>964806.000000</td>\n",
       "      <td>964806.000000</td>\n",
       "      <td>...</td>\n",
       "      <td>964806.000000</td>\n",
       "      <td>964806.000000</td>\n",
       "      <td>964806.000000</td>\n",
       "      <td>964806.000000</td>\n",
       "      <td>964806.000000</td>\n",
       "      <td>964806.000000</td>\n",
       "      <td>964806.000000</td>\n",
       "      <td>964806.000000</td>\n",
       "      <td>964806.000000</td>\n",
       "      <td>964806.000000</td>\n",
       "    </tr>\n",
       "    <tr>\n",
       "      <th>mean</th>\n",
       "      <td>11.303632</td>\n",
       "      <td>-73.975659</td>\n",
       "      <td>40.750931</td>\n",
       "      <td>-73.974699</td>\n",
       "      <td>40.751287</td>\n",
       "      <td>1.685859</td>\n",
       "      <td>3.039564</td>\n",
       "      <td>2011.744713</td>\n",
       "      <td>6.269303</td>\n",
       "      <td>15.690320</td>\n",
       "      <td>...</td>\n",
       "      <td>1.218724</td>\n",
       "      <td>9.639402</td>\n",
       "      <td>5.652228</td>\n",
       "      <td>11.186814</td>\n",
       "      <td>9.585138</td>\n",
       "      <td>11.238253</td>\n",
       "      <td>5.565241</td>\n",
       "      <td>-0.477128</td>\n",
       "      <td>-4.365710</td>\n",
       "      <td>-4.452612</td>\n",
       "    </tr>\n",
       "    <tr>\n",
       "      <th>std</th>\n",
       "      <td>9.275981</td>\n",
       "      <td>0.034068</td>\n",
       "      <td>0.026678</td>\n",
       "      <td>0.033602</td>\n",
       "      <td>0.030640</td>\n",
       "      <td>1.308195</td>\n",
       "      <td>1.949653</td>\n",
       "      <td>1.864067</td>\n",
       "      <td>3.438287</td>\n",
       "      <td>8.683656</td>\n",
       "      <td>...</td>\n",
       "      <td>1.784284</td>\n",
       "      <td>1.717359</td>\n",
       "      <td>1.235309</td>\n",
       "      <td>1.812732</td>\n",
       "      <td>1.707960</td>\n",
       "      <td>1.788809</td>\n",
       "      <td>1.360958</td>\n",
       "      <td>1.267312</td>\n",
       "      <td>1.235087</td>\n",
       "      <td>1.267330</td>\n",
       "    </tr>\n",
       "    <tr>\n",
       "      <th>min</th>\n",
       "      <td>2.510000</td>\n",
       "      <td>-74.299640</td>\n",
       "      <td>40.482543</td>\n",
       "      <td>-74.300537</td>\n",
       "      <td>40.479537</td>\n",
       "      <td>0.000000</td>\n",
       "      <td>0.000000</td>\n",
       "      <td>2009.000000</td>\n",
       "      <td>1.000000</td>\n",
       "      <td>1.000000</td>\n",
       "      <td>...</td>\n",
       "      <td>0.000053</td>\n",
       "      <td>0.001585</td>\n",
       "      <td>0.000077</td>\n",
       "      <td>0.006963</td>\n",
       "      <td>0.000280</td>\n",
       "      <td>0.009872</td>\n",
       "      <td>0.000023</td>\n",
       "      <td>-9.840462</td>\n",
       "      <td>-36.043653</td>\n",
       "      <td>-13.815511</td>\n",
       "    </tr>\n",
       "    <tr>\n",
       "      <th>25%</th>\n",
       "      <td>6.000000</td>\n",
       "      <td>-73.992287</td>\n",
       "      <td>40.736620</td>\n",
       "      <td>-73.991577</td>\n",
       "      <td>40.735635</td>\n",
       "      <td>1.000000</td>\n",
       "      <td>1.000000</td>\n",
       "      <td>2010.000000</td>\n",
       "      <td>3.000000</td>\n",
       "      <td>8.000000</td>\n",
       "      <td>...</td>\n",
       "      <td>0.339033</td>\n",
       "      <td>9.242169</td>\n",
       "      <td>5.115704</td>\n",
       "      <td>10.298205</td>\n",
       "      <td>9.084407</td>\n",
       "      <td>10.336405</td>\n",
       "      <td>4.971377</td>\n",
       "      <td>-1.081659</td>\n",
       "      <td>-4.936177</td>\n",
       "      <td>-5.057255</td>\n",
       "    </tr>\n",
       "    <tr>\n",
       "      <th>50%</th>\n",
       "      <td>8.500000</td>\n",
       "      <td>-73.982117</td>\n",
       "      <td>40.753435</td>\n",
       "      <td>-73.980632</td>\n",
       "      <td>40.753897</td>\n",
       "      <td>1.000000</td>\n",
       "      <td>3.000000</td>\n",
       "      <td>2012.000000</td>\n",
       "      <td>6.000000</td>\n",
       "      <td>16.000000</td>\n",
       "      <td>...</td>\n",
       "      <td>0.686695</td>\n",
       "      <td>9.967292</td>\n",
       "      <td>5.839096</td>\n",
       "      <td>10.843999</td>\n",
       "      <td>9.886846</td>\n",
       "      <td>10.921758</td>\n",
       "      <td>5.761343</td>\n",
       "      <td>-0.375865</td>\n",
       "      <td>-4.241569</td>\n",
       "      <td>-4.351303</td>\n",
       "    </tr>\n",
       "    <tr>\n",
       "      <th>75%</th>\n",
       "      <td>12.500000</td>\n",
       "      <td>-73.968515</td>\n",
       "      <td>40.767573</td>\n",
       "      <td>-73.965562</td>\n",
       "      <td>40.768418</td>\n",
       "      <td>2.000000</td>\n",
       "      <td>5.000000</td>\n",
       "      <td>2013.000000</td>\n",
       "      <td>9.000000</td>\n",
       "      <td>23.000000</td>\n",
       "      <td>...</td>\n",
       "      <td>1.284844</td>\n",
       "      <td>10.506734</td>\n",
       "      <td>6.378929</td>\n",
       "      <td>11.570217</td>\n",
       "      <td>10.469262</td>\n",
       "      <td>11.727728</td>\n",
       "      <td>6.342719</td>\n",
       "      <td>0.250637</td>\n",
       "      <td>-3.596847</td>\n",
       "      <td>-3.724880</td>\n",
       "    </tr>\n",
       "    <tr>\n",
       "      <th>max</th>\n",
       "      <td>99.750000</td>\n",
       "      <td>-73.665171</td>\n",
       "      <td>40.932743</td>\n",
       "      <td>-73.664619</td>\n",
       "      <td>40.935133</td>\n",
       "      <td>6.000000</td>\n",
       "      <td>6.000000</td>\n",
       "      <td>2015.000000</td>\n",
       "      <td>12.000000</td>\n",
       "      <td>31.000000</td>\n",
       "      <td>...</td>\n",
       "      <td>27.452157</td>\n",
       "      <td>26.815742</td>\n",
       "      <td>22.669672</td>\n",
       "      <td>27.795514</td>\n",
       "      <td>26.863091</td>\n",
       "      <td>27.781329</td>\n",
       "      <td>22.716982</td>\n",
       "      <td>3.312445</td>\n",
       "      <td>-1.161728</td>\n",
       "      <td>-0.662666</td>\n",
       "    </tr>\n",
       "  </tbody>\n",
       "</table>\n",
       "<p>8 rows × 23 columns</p>\n",
       "</div>"
      ],
      "text/plain": [
       "         fare_amount  pickup_longitude  pickup_latitude  dropoff_longitude  \\\n",
       "count  964806.000000     964806.000000    964806.000000      964806.000000   \n",
       "mean       11.303632        -73.975659        40.750931         -73.974699   \n",
       "std         9.275981          0.034068         0.026678           0.033602   \n",
       "min         2.510000        -74.299640        40.482543         -74.300537   \n",
       "25%         6.000000        -73.992287        40.736620         -73.991577   \n",
       "50%         8.500000        -73.982117        40.753435         -73.980632   \n",
       "75%        12.500000        -73.968515        40.767573         -73.965562   \n",
       "max        99.750000        -73.665171        40.932743         -73.664619   \n",
       "\n",
       "       dropoff_latitude  passenger_count        weekday           year  \\\n",
       "count     964806.000000    964806.000000  964806.000000  964806.000000   \n",
       "mean          40.751287         1.685859       3.039564    2011.744713   \n",
       "std            0.030640         1.308195       1.949653       1.864067   \n",
       "min           40.479537         0.000000       0.000000    2009.000000   \n",
       "25%           40.735635         1.000000       1.000000    2010.000000   \n",
       "50%           40.753897         1.000000       3.000000    2012.000000   \n",
       "75%           40.768418         2.000000       5.000000    2013.000000   \n",
       "max           40.935133         6.000000       6.000000    2015.000000   \n",
       "\n",
       "               month            day  ...       distance  pickup_distance_jfk  \\\n",
       "count  964806.000000  964806.000000  ...  964806.000000        964806.000000   \n",
       "mean        6.269303      15.690320  ...       1.218724             9.639402   \n",
       "std         3.438287       8.683656  ...       1.784284             1.717359   \n",
       "min         1.000000       1.000000  ...       0.000053             0.001585   \n",
       "25%         3.000000       8.000000  ...       0.339033             9.242169   \n",
       "50%         6.000000      16.000000  ...       0.686695             9.967292   \n",
       "75%         9.000000      23.000000  ...       1.284844            10.506734   \n",
       "max        12.000000      31.000000  ...      27.452157            26.815742   \n",
       "\n",
       "       pickup_distance_laguardia  pickup_distance_newark  \\\n",
       "count              964806.000000           964806.000000   \n",
       "mean                    5.652228               11.186814   \n",
       "std                     1.235309                1.812732   \n",
       "min                     0.000077                0.006963   \n",
       "25%                     5.115704               10.298205   \n",
       "50%                     5.839096               10.843999   \n",
       "75%                     6.378929               11.570217   \n",
       "max                    22.669672               27.795514   \n",
       "\n",
       "       dropoff_distance_jfk  dropoff_distance_newark  \\\n",
       "count         964806.000000            964806.000000   \n",
       "mean               9.585138                11.238253   \n",
       "std                1.707960                 1.788809   \n",
       "min                0.000280                 0.009872   \n",
       "25%                9.084407                10.336405   \n",
       "50%                9.886846                10.921758   \n",
       "75%               10.469262                11.727728   \n",
       "max               26.863091                27.781329   \n",
       "\n",
       "       dropoff_distance_laguardia   distance_log  abs_diff_latitude_log  \\\n",
       "count               964806.000000  964806.000000          964806.000000   \n",
       "mean                     5.565241      -0.477128              -4.365710   \n",
       "std                      1.360958       1.267312               1.235087   \n",
       "min                      0.000023      -9.840462             -36.043653   \n",
       "25%                      4.971377      -1.081659              -4.936177   \n",
       "50%                      5.761343      -0.375865              -4.241569   \n",
       "75%                      6.342719       0.250637              -3.596847   \n",
       "max                     22.716982       3.312445              -1.161728   \n",
       "\n",
       "       abs_diff_longitude_log  \n",
       "count           964806.000000  \n",
       "mean                -4.452612  \n",
       "std                  1.267330  \n",
       "min                -13.815511  \n",
       "25%                 -5.057255  \n",
       "50%                 -4.351303  \n",
       "75%                 -3.724880  \n",
       "max                 -0.662666  \n",
       "\n",
       "[8 rows x 23 columns]"
      ]
     },
     "execution_count": 44,
     "metadata": {},
     "output_type": "execute_result"
    }
   ],
   "source": [
    "train.describe()"
   ]
  },
  {
   "cell_type": "markdown",
   "metadata": {},
   "source": [
    "## Pre-processing (denoising data + feature engineering)"
   ]
  },
  {
   "cell_type": "markdown",
   "metadata": {},
   "source": [
    "### Drop outliers "
   ]
  },
  {
   "cell_type": "markdown",
   "metadata": {},
   "source": [
    "Training data set is large, so it can be afforded to drop all errouneous observations (rather than imputing them)"
   ]
  },
  {
   "cell_type": "code",
   "execution_count": 6,
   "metadata": {
    "colab": {
     "base_uri": "https://localhost:8080/",
     "height": 34
    },
    "colab_type": "code",
    "id": "RFcZ_C94W47i",
    "outputId": "55e1ee8c-f677-44b8-caad-afce37a07865"
   },
   "outputs": [
    {
     "data": {
      "text/plain": [
       "1000000"
      ]
     },
     "execution_count": 6,
     "metadata": {},
     "output_type": "execute_result"
    }
   ],
   "source": [
    "#drop duplicates\n",
    "train.drop_duplicates(keep = 'first', inplace = True)\n",
    "train.shape[0] #no duplicates found"
   ]
  },
  {
   "cell_type": "code",
   "execution_count": 7,
   "metadata": {
    "colab": {
     "base_uri": "https://localhost:8080/",
     "height": 34
    },
    "colab_type": "code",
    "id": "mmChemjEL1Yf",
    "outputId": "65f69b23-40b1-48ff-9c48-27f0eeb89b56"
   },
   "outputs": [
    {
     "data": {
      "text/plain": [
       "key                   0\n",
       "fare_amount           0\n",
       "pickup_datetime       0\n",
       "pickup_longitude      0\n",
       "pickup_latitude       0\n",
       "dropoff_longitude    10\n",
       "dropoff_latitude     10\n",
       "passenger_count       0\n",
       "dtype: int64"
      ]
     },
     "execution_count": 7,
     "metadata": {},
     "output_type": "execute_result"
    }
   ],
   "source": [
    "#check if there are some NaN values\n",
    "train.isna().sum()"
   ]
  },
  {
   "cell_type": "code",
   "execution_count": 8,
   "metadata": {},
   "outputs": [],
   "source": [
    "#drop NaN values\n",
    "train.dropna(inplace=True)"
   ]
  },
  {
   "cell_type": "code",
   "execution_count": 9,
   "metadata": {},
   "outputs": [
    {
     "data": {
      "text/plain": [
       "999950"
      ]
     },
     "execution_count": 9,
     "metadata": {},
     "output_type": "execute_result"
    }
   ],
   "source": [
    "#limit the coordinates to proper ranges, to compute distances\n",
    "\n",
    "#Latitudes range from -90 to 90. Longitudes range from -180 to 180.\n",
    "train = train[ (train.pickup_longitude >= -180) & (train.pickup_longitude <= 180) & \\\n",
    "              (train.dropoff_longitude >= -180) & (train.dropoff_longitude <= 180) & \\\n",
    "              (train.pickup_latitude >= -90) & (train.pickup_latitude <= 90) & \\\n",
    "              (train.dropoff_latitude >= -90) & (train.dropoff_latitude <= 90) ]\n",
    "\n",
    "train.shape[0]"
   ]
  },
  {
   "cell_type": "code",
   "execution_count": 10,
   "metadata": {},
   "outputs": [
    {
     "data": {
      "text/plain": [
       "978105"
      ]
     },
     "execution_count": 10,
     "metadata": {},
     "output_type": "execute_result"
    }
   ],
   "source": [
    "#based on these descriptors, another outliers can be removed:\n",
    "#1) new york city actually has the following bounding box of coordinates (https://boundingbox.klokantech.com/)\n",
    "    #eastlimit_longitude=-73.700181\n",
    "    #southlimit_latitude =40.47739894\n",
    "    #westlimit_longitude=-74.25909\n",
    "    #northlimit_latitude=40.916178\n",
    "\n",
    "#here it is used a bounding box slightly larger than the actual NY, so there is more flexibility for trips \n",
    "#around airport (specially Newark airport, that is New Jersey actually)\n",
    "eastlimit_longitude=-73.664465\n",
    "southlimit_latitude=40.477399\n",
    "westlimit_longitude=-74.307165\n",
    "northlimit_latitude=40.935154\n",
    "\n",
    "train = train[ (train.pickup_longitude >= westlimit_longitude) & (train.pickup_longitude <= eastlimit_longitude) & \\\n",
    "              (train.dropoff_longitude >= westlimit_longitude) & (train.dropoff_longitude <= eastlimit_longitude) & \\\n",
    "              (train.pickup_latitude >= southlimit_latitude ) & (train.pickup_latitude <= northlimit_latitude) & \\\n",
    "              (train.dropoff_latitude >= southlimit_latitude) & (train.dropoff_latitude <= northlimit_latitude) ]\n",
    "\n",
    "train.shape[0]"
   ]
  },
  {
   "cell_type": "code",
   "execution_count": 11,
   "metadata": {
    "colab": {},
    "colab_type": "code",
    "id": "HG_0v9GCTMWU"
   },
   "outputs": [
    {
     "data": {
      "text/plain": [
       "974575"
      ]
     },
     "execution_count": 11,
     "metadata": {},
     "output_type": "execute_result"
    }
   ],
   "source": [
    "#2) passengers in a taxi, up to 6 (icnluding SUVs) https://ride.guru/lounge/p/how-many-people-can-ride-in-a-cab \n",
    "    #0-passenger-cases are kept, in case documents are transported\n",
    "#3) fare has to be positive value, over or equal to 2.50$ (that seems to be the initial charge)\n",
    "    #https://www1.nyc.gov/site/tlc/passengers/taxi-fare.page\n",
    "                                                                                                               \n",
    "train = train[(train.passenger_count<= 6) & \\\n",
    "              (train.fare_amount > 2.50)  ]\n",
    "\n",
    "train.shape[0]"
   ]
  },
  {
   "cell_type": "code",
   "execution_count": 12,
   "metadata": {},
   "outputs": [
    {
     "data": {
      "text/plain": [
       "<matplotlib.axes._subplots.AxesSubplot at 0x7f82dd5580f0>"
      ]
     },
     "execution_count": 12,
     "metadata": {},
     "output_type": "execute_result"
    },
    {
     "data": {
      "image/png": "[encoded data removed]",
      "text/plain": [
       "<Figure size 432x288 with 1 Axes>"
      ]
     },
     "metadata": {
      "needs_background": "light"
     },
     "output_type": "display_data"
    }
   ],
   "source": [
    "train.fare_amount.hist(bins=50)"
   ]
  },
  {
   "cell_type": "code",
   "execution_count": 13,
   "metadata": {},
   "outputs": [
    {
     "data": {
      "text/plain": [
       "974388"
      ]
     },
     "execution_count": 13,
     "metadata": {},
     "output_type": "execute_result"
    }
   ],
   "source": [
    "#fare now seems too high (500) and the variance is pretty high too. so the max fare_amount value is limited\n",
    "#limit fare_amount based on histogram\n",
    "train = train[ (train.fare_amount < 100)]\n",
    "train.shape[0]"
   ]
  },
  {
   "cell_type": "markdown",
   "metadata": {},
   "source": [
    "### Adding features"
   ]
  },
  {
   "cell_type": "code",
   "execution_count": 14,
   "metadata": {},
   "outputs": [],
   "source": [
    "train = add_newFeats(train)"
   ]
  },
  {
   "cell_type": "code",
   "execution_count": 15,
   "metadata": {
    "colab": {
     "base_uri": "https://localhost:8080/",
     "height": 320
    },
    "colab_type": "code",
    "id": "yqBMJKJkx_uF",
    "outputId": "385812cb-9f4a-4dd1-b6bf-89645d447735"
   },
   "outputs": [
    {
     "data": {
      "text/html": [
       "<div>\n",
       "<style scoped>\n",
       "    .dataframe tbody tr th:only-of-type {\n",
       "        vertical-align: middle;\n",
       "    }\n",
       "\n",
       "    .dataframe tbody tr th {\n",
       "        vertical-align: top;\n",
       "    }\n",
       "\n",
       "    .dataframe thead th {\n",
       "        text-align: right;\n",
       "    }\n",
       "</style>\n",
       "<table border=\"1\" class=\"dataframe\">\n",
       "  <thead>\n",
       "    <tr style=\"text-align: right;\">\n",
       "      <th></th>\n",
       "      <th>fare_amount</th>\n",
       "      <th>pickup_longitude</th>\n",
       "      <th>pickup_latitude</th>\n",
       "      <th>dropoff_longitude</th>\n",
       "      <th>dropoff_latitude</th>\n",
       "      <th>passenger_count</th>\n",
       "      <th>weekday</th>\n",
       "      <th>year</th>\n",
       "      <th>month</th>\n",
       "      <th>day</th>\n",
       "      <th>...</th>\n",
       "      <th>distance</th>\n",
       "      <th>pickup_distance_jfk</th>\n",
       "      <th>pickup_distance_laguardia</th>\n",
       "      <th>pickup_distance_newark</th>\n",
       "      <th>dropoff_distance_jfk</th>\n",
       "      <th>dropoff_distance_newark</th>\n",
       "      <th>dropoff_distance_laguardia</th>\n",
       "      <th>distance_log</th>\n",
       "      <th>abs_diff_latitude_log</th>\n",
       "      <th>abs_diff_longitude_log</th>\n",
       "    </tr>\n",
       "  </thead>\n",
       "  <tbody>\n",
       "    <tr>\n",
       "      <th>count</th>\n",
       "      <td>974388.000000</td>\n",
       "      <td>974388.000000</td>\n",
       "      <td>974388.000000</td>\n",
       "      <td>974388.000000</td>\n",
       "      <td>974388.000000</td>\n",
       "      <td>974388.000000</td>\n",
       "      <td>974388.000000</td>\n",
       "      <td>974388.000000</td>\n",
       "      <td>974388.000000</td>\n",
       "      <td>974388.000000</td>\n",
       "      <td>...</td>\n",
       "      <td>974388.000000</td>\n",
       "      <td>974388.000000</td>\n",
       "      <td>974388.000000</td>\n",
       "      <td>974388.000000</td>\n",
       "      <td>974388.000000</td>\n",
       "      <td>974388.000000</td>\n",
       "      <td>974388.000000</td>\n",
       "      <td>974388.000000</td>\n",
       "      <td>974388.000000</td>\n",
       "      <td>974388.000000</td>\n",
       "    </tr>\n",
       "    <tr>\n",
       "      <th>mean</th>\n",
       "      <td>11.302589</td>\n",
       "      <td>-73.975547</td>\n",
       "      <td>40.750897</td>\n",
       "      <td>-73.974596</td>\n",
       "      <td>40.751250</td>\n",
       "      <td>1.686087</td>\n",
       "      <td>3.039591</td>\n",
       "      <td>2011.740771</td>\n",
       "      <td>6.269020</td>\n",
       "      <td>15.691382</td>\n",
       "      <td>...</td>\n",
       "      <td>1.206739</td>\n",
       "      <td>9.633673</td>\n",
       "      <td>5.648909</td>\n",
       "      <td>11.192924</td>\n",
       "      <td>9.579942</td>\n",
       "      <td>11.243857</td>\n",
       "      <td>5.562777</td>\n",
       "      <td>-0.826884</td>\n",
       "      <td>-4.673671</td>\n",
       "      <td>-4.763274</td>\n",
       "    </tr>\n",
       "    <tr>\n",
       "      <th>std</th>\n",
       "      <td>9.309636</td>\n",
       "      <td>0.034337</td>\n",
       "      <td>0.026812</td>\n",
       "      <td>0.033876</td>\n",
       "      <td>0.030721</td>\n",
       "      <td>1.308440</td>\n",
       "      <td>1.949780</td>\n",
       "      <td>1.862689</td>\n",
       "      <td>3.438059</td>\n",
       "      <td>8.683095</td>\n",
       "      <td>...</td>\n",
       "      <td>1.779557</td>\n",
       "      <td>1.731019</td>\n",
       "      <td>1.244893</td>\n",
       "      <td>1.826411</td>\n",
       "      <td>1.721616</td>\n",
       "      <td>1.802738</td>\n",
       "      <td>1.368310</td>\n",
       "      <td>3.729288</td>\n",
       "      <td>3.340048</td>\n",
       "      <td>3.362732</td>\n",
       "    </tr>\n",
       "    <tr>\n",
       "      <th>min</th>\n",
       "      <td>2.510000</td>\n",
       "      <td>-74.299640</td>\n",
       "      <td>40.481047</td>\n",
       "      <td>-74.300537</td>\n",
       "      <td>40.479537</td>\n",
       "      <td>0.000000</td>\n",
       "      <td>0.000000</td>\n",
       "      <td>2009.000000</td>\n",
       "      <td>1.000000</td>\n",
       "      <td>1.000000</td>\n",
       "      <td>...</td>\n",
       "      <td>0.000000</td>\n",
       "      <td>0.001585</td>\n",
       "      <td>0.000077</td>\n",
       "      <td>0.006963</td>\n",
       "      <td>0.000280</td>\n",
       "      <td>0.009872</td>\n",
       "      <td>0.000023</td>\n",
       "      <td>-36.043653</td>\n",
       "      <td>-36.043653</td>\n",
       "      <td>-36.043653</td>\n",
       "    </tr>\n",
       "    <tr>\n",
       "      <th>25%</th>\n",
       "      <td>6.000000</td>\n",
       "      <td>-73.992279</td>\n",
       "      <td>40.736600</td>\n",
       "      <td>-73.991573</td>\n",
       "      <td>40.735617</td>\n",
       "      <td>1.000000</td>\n",
       "      <td>1.000000</td>\n",
       "      <td>2010.000000</td>\n",
       "      <td>3.000000</td>\n",
       "      <td>8.000000</td>\n",
       "      <td>...</td>\n",
       "      <td>0.329575</td>\n",
       "      <td>9.235921</td>\n",
       "      <td>5.110038</td>\n",
       "      <td>10.298683</td>\n",
       "      <td>9.077374</td>\n",
       "      <td>10.336614</td>\n",
       "      <td>4.965867</td>\n",
       "      <td>-1.109951</td>\n",
       "      <td>-4.962560</td>\n",
       "      <td>-5.085467</td>\n",
       "    </tr>\n",
       "    <tr>\n",
       "      <th>50%</th>\n",
       "      <td>8.500000</td>\n",
       "      <td>-73.982097</td>\n",
       "      <td>40.753415</td>\n",
       "      <td>-73.980610</td>\n",
       "      <td>40.753873</td>\n",
       "      <td>1.000000</td>\n",
       "      <td>3.000000</td>\n",
       "      <td>2012.000000</td>\n",
       "      <td>6.000000</td>\n",
       "      <td>16.000000</td>\n",
       "      <td>...</td>\n",
       "      <td>0.678752</td>\n",
       "      <td>9.966250</td>\n",
       "      <td>5.838177</td>\n",
       "      <td>10.845001</td>\n",
       "      <td>9.885530</td>\n",
       "      <td>10.923105</td>\n",
       "      <td>5.760235</td>\n",
       "      <td>-0.387499</td>\n",
       "      <td>-4.253809</td>\n",
       "      <td>-4.363009</td>\n",
       "    </tr>\n",
       "    <tr>\n",
       "      <th>75%</th>\n",
       "      <td>12.500000</td>\n",
       "      <td>-73.968400</td>\n",
       "      <td>40.767557</td>\n",
       "      <td>-73.965427</td>\n",
       "      <td>40.768405</td>\n",
       "      <td>2.000000</td>\n",
       "      <td>5.000000</td>\n",
       "      <td>2013.000000</td>\n",
       "      <td>9.000000</td>\n",
       "      <td>23.000000</td>\n",
       "      <td>...</td>\n",
       "      <td>1.275547</td>\n",
       "      <td>10.506294</td>\n",
       "      <td>6.378518</td>\n",
       "      <td>11.576394</td>\n",
       "      <td>10.469044</td>\n",
       "      <td>11.734702</td>\n",
       "      <td>6.342576</td>\n",
       "      <td>0.243375</td>\n",
       "      <td>-3.604097</td>\n",
       "      <td>-3.732121</td>\n",
       "    </tr>\n",
       "    <tr>\n",
       "      <th>max</th>\n",
       "      <td>99.750000</td>\n",
       "      <td>-73.665171</td>\n",
       "      <td>40.932743</td>\n",
       "      <td>-73.664619</td>\n",
       "      <td>40.935133</td>\n",
       "      <td>6.000000</td>\n",
       "      <td>6.000000</td>\n",
       "      <td>2015.000000</td>\n",
       "      <td>12.000000</td>\n",
       "      <td>31.000000</td>\n",
       "      <td>...</td>\n",
       "      <td>27.452157</td>\n",
       "      <td>26.815742</td>\n",
       "      <td>22.669672</td>\n",
       "      <td>27.795514</td>\n",
       "      <td>26.863091</td>\n",
       "      <td>27.781329</td>\n",
       "      <td>22.716982</td>\n",
       "      <td>3.312445</td>\n",
       "      <td>-1.161728</td>\n",
       "      <td>-0.662666</td>\n",
       "    </tr>\n",
       "  </tbody>\n",
       "</table>\n",
       "<p>8 rows × 23 columns</p>\n",
       "</div>"
      ],
      "text/plain": [
       "         fare_amount  pickup_longitude  pickup_latitude  dropoff_longitude  \\\n",
       "count  974388.000000     974388.000000    974388.000000      974388.000000   \n",
       "mean       11.302589        -73.975547        40.750897         -73.974596   \n",
       "std         9.309636          0.034337         0.026812           0.033876   \n",
       "min         2.510000        -74.299640        40.481047         -74.300537   \n",
       "25%         6.000000        -73.992279        40.736600         -73.991573   \n",
       "50%         8.500000        -73.982097        40.753415         -73.980610   \n",
       "75%        12.500000        -73.968400        40.767557         -73.965427   \n",
       "max        99.750000        -73.665171        40.932743         -73.664619   \n",
       "\n",
       "       dropoff_latitude  passenger_count        weekday           year  \\\n",
       "count     974388.000000    974388.000000  974388.000000  974388.000000   \n",
       "mean          40.751250         1.686087       3.039591    2011.740771   \n",
       "std            0.030721         1.308440       1.949780       1.862689   \n",
       "min           40.479537         0.000000       0.000000    2009.000000   \n",
       "25%           40.735617         1.000000       1.000000    2010.000000   \n",
       "50%           40.753873         1.000000       3.000000    2012.000000   \n",
       "75%           40.768405         2.000000       5.000000    2013.000000   \n",
       "max           40.935133         6.000000       6.000000    2015.000000   \n",
       "\n",
       "               month            day  ...       distance  pickup_distance_jfk  \\\n",
       "count  974388.000000  974388.000000  ...  974388.000000        974388.000000   \n",
       "mean        6.269020      15.691382  ...       1.206739             9.633673   \n",
       "std         3.438059       8.683095  ...       1.779557             1.731019   \n",
       "min         1.000000       1.000000  ...       0.000000             0.001585   \n",
       "25%         3.000000       8.000000  ...       0.329575             9.235921   \n",
       "50%         6.000000      16.000000  ...       0.678752             9.966250   \n",
       "75%         9.000000      23.000000  ...       1.275547            10.506294   \n",
       "max        12.000000      31.000000  ...      27.452157            26.815742   \n",
       "\n",
       "       pickup_distance_laguardia  pickup_distance_newark  \\\n",
       "count              974388.000000           974388.000000   \n",
       "mean                    5.648909               11.192924   \n",
       "std                     1.244893                1.826411   \n",
       "min                     0.000077                0.006963   \n",
       "25%                     5.110038               10.298683   \n",
       "50%                     5.838177               10.845001   \n",
       "75%                     6.378518               11.576394   \n",
       "max                    22.669672               27.795514   \n",
       "\n",
       "       dropoff_distance_jfk  dropoff_distance_newark  \\\n",
       "count         974388.000000            974388.000000   \n",
       "mean               9.579942                11.243857   \n",
       "std                1.721616                 1.802738   \n",
       "min                0.000280                 0.009872   \n",
       "25%                9.077374                10.336614   \n",
       "50%                9.885530                10.923105   \n",
       "75%               10.469044                11.734702   \n",
       "max               26.863091                27.781329   \n",
       "\n",
       "       dropoff_distance_laguardia   distance_log  abs_diff_latitude_log  \\\n",
       "count               974388.000000  974388.000000          974388.000000   \n",
       "mean                     5.562777      -0.826884              -4.673671   \n",
       "std                      1.368310       3.729288               3.340048   \n",
       "min                      0.000023     -36.043653             -36.043653   \n",
       "25%                      4.965867      -1.109951              -4.962560   \n",
       "50%                      5.760235      -0.387499              -4.253809   \n",
       "75%                      6.342576       0.243375              -3.604097   \n",
       "max                     22.716982       3.312445              -1.161728   \n",
       "\n",
       "       abs_diff_longitude_log  \n",
       "count           974388.000000  \n",
       "mean                -4.763274  \n",
       "std                  3.362732  \n",
       "min                -36.043653  \n",
       "25%                 -5.085467  \n",
       "50%                 -4.363009  \n",
       "75%                 -3.732121  \n",
       "max                 -0.662666  \n",
       "\n",
       "[8 rows x 23 columns]"
      ]
     },
     "execution_count": 15,
     "metadata": {},
     "output_type": "execute_result"
    }
   ],
   "source": [
    "train.describe()"
   ]
  },
  {
   "cell_type": "markdown",
   "metadata": {},
   "source": [
    "Now there is some outlier removal again based on these new features."
   ]
  },
  {
   "cell_type": "code",
   "execution_count": 16,
   "metadata": {},
   "outputs": [],
   "source": [
    "#removed any row with distance equal to 0:\n",
    "train = train[ (train.distance > 0)]"
   ]
  },
  {
   "cell_type": "code",
   "execution_count": 17,
   "metadata": {},
   "outputs": [
    {
     "data": {
      "text/plain": [
       "key                           0\n",
       "fare_amount                   0\n",
       "pickup_datetime               0\n",
       "pickup_longitude              0\n",
       "pickup_latitude               0\n",
       "dropoff_longitude             0\n",
       "dropoff_latitude              0\n",
       "passenger_count               0\n",
       "weekday                       0\n",
       "year                          0\n",
       "month                         0\n",
       "day                           0\n",
       "hour                          0\n",
       "abs_diff_longitude            0\n",
       "abs_diff_latitude             0\n",
       "distance                      0\n",
       "pickup_distance_jfk           0\n",
       "pickup_distance_laguardia     0\n",
       "pickup_distance_newark        0\n",
       "dropoff_distance_jfk          0\n",
       "dropoff_distance_newark       0\n",
       "dropoff_distance_laguardia    0\n",
       "distance_log                  0\n",
       "abs_diff_latitude_log         0\n",
       "abs_diff_longitude_log        0\n",
       "dtype: int64"
      ]
     },
     "execution_count": 17,
     "metadata": {},
     "output_type": "execute_result"
    }
   ],
   "source": [
    "train.isna().sum()"
   ]
  },
  {
   "cell_type": "code",
   "execution_count": 18,
   "metadata": {},
   "outputs": [
    {
     "data": {
      "text/plain": [
       "964806"
      ]
     },
     "execution_count": 18,
     "metadata": {},
     "output_type": "execute_result"
    }
   ],
   "source": [
    "#train.dropna(inplace=True)\n",
    "train.shape[0]"
   ]
  },
  {
   "cell_type": "markdown",
   "metadata": {},
   "source": [
    "## Exploratory analysis (with data visualizations)"
   ]
  },
  {
   "cell_type": "code",
   "execution_count": null,
   "metadata": {
    "colab": {
     "base_uri": "https://localhost:8080/",
     "height": 1000
    },
    "colab_type": "code",
    "id": "V4TyLFuIiMJm",
    "outputId": "1a6422f4-0cab-4e7d-f928-a27914cdf8e6"
   },
   "outputs": [],
   "source": [
    "#check distributions of all the features\n",
    "fig = plt.figure(figsize = (15,20))\n",
    "ax = fig.gca()\n",
    "train.hist(ax = ax, bins=50)"
   ]
  },
  {
   "cell_type": "code",
   "execution_count": null,
   "metadata": {
    "colab": {},
    "colab_type": "code",
    "id": "h-RvXNKyv8Db"
   },
   "outputs": [],
   "source": [
    "corr_pearson = train.corr(method='pearson')\n",
    "mask = np.zeros_like(corr_pearson, dtype=np.bool)\n",
    "mask[np.triu_indices_from(mask)] = True"
   ]
  },
  {
   "cell_type": "code",
   "execution_count": null,
   "metadata": {
    "colab": {
     "base_uri": "https://localhost:8080/",
     "height": 676
    },
    "colab_type": "code",
    "id": "yZVa4uFLwDbb",
    "outputId": "1cbd6831-a812-47fa-965c-32a1f945c0f8"
   },
   "outputs": [],
   "source": [
    "fig4, ax4 = plt.subplots(figsize=(16, 10))\n",
    "sns.heatmap(corr_pearson, mask=mask, cmap='RdBu_r', vmax=1, center=0,\n",
    "            square=True, linewidths=.5, cbar_kws={\"shrink\": .5},vmin=-1)"
   ]
  },
  {
   "cell_type": "code",
   "execution_count": null,
   "metadata": {
    "colab": {},
    "colab_type": "code",
    "id": "gRzX-1pIznyU"
   },
   "outputs": [],
   "source": [
    "#visualizer = FeatureCorrelation( method='mutual_info-classification', feature_names=train_out.columns, sort=True)\n",
    "X = train.drop(['fare_amount','key','pickup_datetime'],axis=1, inplace=False).to_numpy()\n",
    "Y = train.fare_amount.to_numpy()\n",
    "#lab_enc = sklearn.preprocessing.LabelEncoder()\n",
    "#Y_encoded = lab_enc.fit_transform(Y)\n",
    "\n",
    "#mutual information has too expensive computationally to run for all data, so we just take \n",
    "X = X[1:100000,:]\n",
    "Y = Y[1:100000]\n",
    "\n",
    "feature_MIscores = sklearn.feature_selection.mutual_info_regression(X, Y)"
   ]
  },
  {
   "cell_type": "code",
   "execution_count": null,
   "metadata": {
    "colab": {},
    "colab_type": "code",
    "id": "bTCn7xtRxwc2"
   },
   "outputs": [],
   "source": [
    "feature_MIscores.shape\n",
    "\n",
    "#plot also the fare vs the date (year), and maybe check as hypothesis if there is a positive correlation between year and fare"
   ]
  },
  {
   "cell_type": "code",
   "execution_count": null,
   "metadata": {},
   "outputs": [],
   "source": [
    "feats_labels = train.drop(['fare_amount','key','pickup_datetime'],axis=1, inplace=False).columns\n",
    "#print(feats_labels)\n",
    "index = np.arange(len(feats_labels))\n",
    "plt.figure(figsize=(10,10))\n",
    "plt.barh(index, feature_MIscores)\n",
    "plt.xlabel('mutual information score', fontsize=20)\n",
    "plt.yticks(index, feats_labels, fontsize=10, rotation=30)"
   ]
  },
  {
   "cell_type": "code",
   "execution_count": null,
   "metadata": {},
   "outputs": [],
   "source": [
    "#sns.pairplot(train, y_vars=['fare_amount'], x_vars=['distance', 'distance_log', 'hour','day','month','year','weekday','passenger_count','dropoff_latitude','dropoff_longitude','pickup_latitude','pickup_longitude'])"
   ]
  },
  {
   "cell_type": "code",
   "execution_count": null,
   "metadata": {},
   "outputs": [],
   "source": [
    "sns.scatterplot(x=\"distance\", y=\"fare_amount\", data=train)"
   ]
  },
  {
   "cell_type": "code",
   "execution_count": null,
   "metadata": {},
   "outputs": [],
   "source": [
    "#there is also a kind of straight line, that can be explained by the flat rates used for taxi rides from airport\n",
    " #\"Taxis at JFK Airport charge a flat fare of $52 for trips between the airport and Manhattan.\" \n",
    "#https://www.jfkairport.com/to-from-airport/taxi-car-and-van-service\n",
    "sns.scatterplot(x=\"distance_log\", y=\"fare_amount\", data=train)"
   ]
  },
  {
   "cell_type": "code",
   "execution_count": null,
   "metadata": {},
   "outputs": [],
   "source": [
    "#using hex bins because regular scatter plot does not work (too many points)\n",
    "sns.jointplot(x=\"distance\", y=\"fare_amount\", data=train, kind='reg',joint_kws={'line_kws':{'color':'cyan'}})"
   ]
  },
  {
   "cell_type": "code",
   "execution_count": null,
   "metadata": {},
   "outputs": [],
   "source": [
    "#using hex bins because regular scatter plot does not work (too many points)\n",
    "#easier to see with dostance_log since the scale is shrunk\n",
    "sns.jointplot(x=\"distance\", y=\"fare_amount\", data=train, kind='hex')"
   ]
  },
  {
   "cell_type": "code",
   "execution_count": null,
   "metadata": {
    "colab": {},
    "colab_type": "code",
    "id": "_KbEzhXAzd4S"
   },
   "outputs": [],
   "source": [
    "#TODO: maybe also plot histograms grouping by day, or by hour, to see what times are more common, and see if the fair is similar for "
   ]
  },
  {
   "cell_type": "code",
   "execution_count": null,
   "metadata": {
    "colab": {},
    "colab_type": "code",
    "id": "fUX0PGFRy-OP"
   },
   "outputs": [],
   "source": [
    "#TODO:maybe a heat map of the fares would be interesting, doing a geomap, maybe use plotly?"
   ]
  },
  {
   "cell_type": "code",
   "execution_count": null,
   "metadata": {},
   "outputs": [],
   "source": [
    "#TODO: maybe employ clustering to get some extra information of the data, like outliers? "
   ]
  },
  {
   "cell_type": "markdown",
   "metadata": {},
   "source": [
    "## Preparing data for modeling (train + validation data sets)"
   ]
  },
  {
   "cell_type": "code",
   "execution_count": 19,
   "metadata": {},
   "outputs": [],
   "source": [
    "train2, val = train_test_split(train, test_size=0.3)"
   ]
  },
  {
   "cell_type": "code",
   "execution_count": 20,
   "metadata": {},
   "outputs": [
    {
     "data": {
      "text/plain": [
       "(964806, 25)"
      ]
     },
     "execution_count": 20,
     "metadata": {},
     "output_type": "execute_result"
    }
   ],
   "source": [
    "train.shape"
   ]
  },
  {
   "cell_type": "code",
   "execution_count": 21,
   "metadata": {},
   "outputs": [
    {
     "data": {
      "text/plain": [
       "(675364, 25)"
      ]
     },
     "execution_count": 21,
     "metadata": {},
     "output_type": "execute_result"
    }
   ],
   "source": [
    "train2.shape"
   ]
  },
  {
   "cell_type": "code",
   "execution_count": 22,
   "metadata": {},
   "outputs": [
    {
     "data": {
      "text/plain": [
       "(289442, 25)"
      ]
     },
     "execution_count": 22,
     "metadata": {},
     "output_type": "execute_result"
    }
   ],
   "source": [
    "val.shape"
   ]
  },
  {
   "cell_type": "markdown",
   "metadata": {},
   "source": [
    "Select the features used for modeling the regression process"
   ]
  },
  {
   "cell_type": "code",
   "execution_count": 45,
   "metadata": {},
   "outputs": [],
   "source": [
    "#dropping the log-distances features, since they do not seem to help in linear models (in which the features are \n",
    "#assumed to be normally-distributed)\n",
    "feature_set = ['pickup_longitude', 'pickup_latitude', 'dropoff_longitude', 'dropoff_latitude', \\\n",
    "                'passenger_count', 'weekday', 'year', 'month', 'day', 'hour', 'abs_diff_longitude', \\\n",
    "                'abs_diff_latitude', 'distance', 'pickup_distance_jfk', 'pickup_distance_laguardia', \\\n",
    "                'pickup_distance_newark', 'dropoff_distance_jfk', 'dropoff_distance_newark', \\\n",
    "                'dropoff_distance_laguardia' ]"
   ]
  },
  {
   "cell_type": "code",
   "execution_count": 46,
   "metadata": {},
   "outputs": [],
   "source": [
    "X_train = train2[feature_set]\n",
    "y_train = train2[['fare_amount']]\n",
    "\n",
    "X_val = val[features_set]\n",
    "y_val = val[['fare_amount']]"
   ]
  },
  {
   "cell_type": "markdown",
   "metadata": {},
   "source": [
    "Standardization of the data sets is done for the case of linear regression and linear regression with Lasso regularization. The models based on decision trees do not require it."
   ]
  },
  {
   "cell_type": "code",
   "execution_count": 29,
   "metadata": {},
   "outputs": [],
   "source": [
    "scaler = StandardScaler()\n",
    "scaler.fit(X_train)\n",
    "\n",
    "#use same scaler for both, based on X_train data\n",
    "X_trainNorm = scaler.transform(X_train)\n",
    "X_valNorm = scaler.transform(X_val)"
   ]
  },
  {
   "cell_type": "markdown",
   "metadata": {},
   "source": [
    "## Regression modeling "
   ]
  },
  {
   "cell_type": "markdown",
   "metadata": {},
   "source": [
    "Comparison of several regression models, plus a dummy model as baseline."
   ]
  },
  {
   "cell_type": "markdown",
   "metadata": {},
   "source": [
    "In evaluation two metrics are used: \n",
    "\n",
    "* R2 is the proportion of the variance in the dependent variable that is predictable from the independent variable(s).\n",
    "* Mean squared error (MSE) --> This is the main metric we care about."
   ]
  },
  {
   "cell_type": "markdown",
   "metadata": {},
   "source": [
    "In addition, the models' training times are computed."
   ]
  },
  {
   "cell_type": "markdown",
   "metadata": {},
   "source": [
    "### Dummy model"
   ]
  },
  {
   "cell_type": "markdown",
   "metadata": {},
   "source": [
    "#### Training:"
   ]
  },
  {
   "cell_type": "code",
   "execution_count": 39,
   "metadata": {},
   "outputs": [
    {
     "name": "stdout",
     "output_type": "stream",
     "text": [
      "DummyRegressor(constant=None, quantile=None, strategy='mean')\n",
      "Dummy model 'regression', training time:0.004s\n"
     ]
    }
   ],
   "source": [
    "dummy_regr = DummyRegressor(strategy=\"mean\")\n",
    "t0_dummy=time()\n",
    "dummy_regr.fit(X_train, y_train)\n",
    "print(dummy_regr)\n",
    "print(\"Dummy model 'regression', training time:\" + str(round(time()-t0_dummy, 3)) + \"s\")"
   ]
  },
  {
   "cell_type": "markdown",
   "metadata": {},
   "source": [
    "#### Prediction:"
   ]
  },
  {
   "cell_type": "code",
   "execution_count": 40,
   "metadata": {},
   "outputs": [],
   "source": [
    "y_valPred_dummy = dummy_regr.predict(X_val)\n",
    "y_trainPred_dummy = dummy_regr.predict(X_train)"
   ]
  },
  {
   "cell_type": "markdown",
   "metadata": {},
   "source": [
    "#### Evaluation:"
   ]
  },
  {
   "cell_type": "code",
   "execution_count": 41,
   "metadata": {},
   "outputs": [
    {
     "name": "stdout",
     "output_type": "stream",
     "text": [
      "Dummy model- training, R2:0.0\n",
      "Dummy model- validation, R2:-5.023382678714938e-06\n"
     ]
    }
   ],
   "source": [
    "\n",
    "\n",
    "r2_val_dummy = r2_score(y_val, y_valPred_dummy)\n",
    "r2_train_dummy = r2_score(y_train, y_trainPred_dummy)\n",
    "\n",
    "print('Dummy model- training, R2:' + str(r2_train_dummy))\n",
    "print('Dummy model- validation, R2:' + str(r2_val_dummy))\n"
   ]
  },
  {
   "cell_type": "code",
   "execution_count": 42,
   "metadata": {},
   "outputs": [
    {
     "name": "stdout",
     "output_type": "stream",
     "text": [
      "Dummy model - training, MSE:86.52048590135432\n",
      "Dummy model - validation, MSE:84.93144680304538\n"
     ]
    }
   ],
   "source": [
    "mse_val_dummy = mean_squared_error(y_val, y_valPred_dummy)\n",
    "mse_train_dummy = mean_squared_error(y_train, y_trainPred_dummy)\n",
    "\n",
    "print('Dummy model - training, MSE:' + str(mse_train_dummy))\n",
    "print('Dummy model - validation, MSE:' + str(mse_val_dummy))"
   ]
  },
  {
   "cell_type": "markdown",
   "metadata": {},
   "source": [
    "### Linear regression"
   ]
  },
  {
   "cell_type": "markdown",
   "metadata": {},
   "source": [
    "#### Training:"
   ]
  },
  {
   "cell_type": "code",
   "execution_count": 67,
   "metadata": {},
   "outputs": [
    {
     "name": "stdout",
     "output_type": "stream",
     "text": [
      "LinearRegression(copy_X=True, fit_intercept=True, n_jobs=None, normalize=False)\n",
      "Linear regression, training time:0.693s\n"
     ]
    }
   ],
   "source": [
    "linRegr = linear_model.LinearRegression()\n",
    "t0_linR=time()\n",
    "linRegr.fit(X_trainNorm, y_train)\n",
    "print(linRegr)\n",
    "print(\"Linear regression, training time:\" + str(round(time()-t0_linR, 3)) + \"s\")"
   ]
  },
  {
   "cell_type": "markdown",
   "metadata": {},
   "source": [
    "#### Prediction:"
   ]
  },
  {
   "cell_type": "code",
   "execution_count": 48,
   "metadata": {},
   "outputs": [],
   "source": [
    "y_valPred_linReg = linRegr.predict(X_valNorm) #to check validation error measures\n",
    "y_trainPred_linReg = linRegr.predict(X_trainNorm) #to check training error measures"
   ]
  },
  {
   "cell_type": "markdown",
   "metadata": {},
   "source": [
    "#### Evaluation:"
   ]
  },
  {
   "cell_type": "code",
   "execution_count": 49,
   "metadata": {},
   "outputs": [
    {
     "name": "stdout",
     "output_type": "stream",
     "text": [
      "Linear regression - training, R2:0.7940896902954567\n",
      "Linear regression - validation, R2:0.7925111242148022\n"
     ]
    }
   ],
   "source": [
    "r2_val_linReg = r2_score(y_val, y_valPred_linReg)\n",
    "r2_train_linReg = r2_score(y_train, y_trainPred_linReg)\n",
    "\n",
    "print('Linear regression - training, R2:' + str(r2_train_linReg))\n",
    "print('Linear regression - validation, R2:' + str(r2_val_linReg))\n"
   ]
  },
  {
   "cell_type": "code",
   "execution_count": 59,
   "metadata": {
    "scrolled": true
   },
   "outputs": [
    {
     "name": "stdout",
     "output_type": "stream",
     "text": [
      "Linear regression - training, MSE:17.81546004773544\n",
      "Linear regression - validation, MSE:17.622241892709535\n"
     ]
    }
   ],
   "source": [
    "mse_val_linReg = mean_squared_error(y_val, y_valPred_linReg)\n",
    "mse_train_linReg = mean_squared_error(y_train, y_trainPred_linReg)\n",
    "\n",
    "print('Linear regression - training, MSE:' + str(mse_train_linReg))\n",
    "print('Linear regression - validation, MSE:' + str(mse_val_linReg))\n"
   ]
  },
  {
   "cell_type": "code",
   "execution_count": 225,
   "metadata": {},
   "outputs": [
    {
     "data": {
      "text/plain": [
       "Text(0.5, 1.0, 'Linear regression - Feature weights')"
      ]
     },
     "execution_count": 225,
     "metadata": {},
     "output_type": "execute_result"
    },
    {
     "data": {
      "image/png": "[encoded data removed]",
      "text/plain": [
       "<Figure size 432x288 with 1 Axes>"
      ]
     },
     "metadata": {
      "needs_background": "light"
     },
     "output_type": "display_data"
    }
   ],
   "source": [
    "coeffcs_linR = pd.DataFrame(linRegr.coef_.transpose(), index=X_train.columns, columns=[\"weight\"])\n",
    "\n",
    "sns.barplot(x='weight', y=coeffcs_linR.index, data=coeffcs_linR, color='blue')\\\n",
    ".set_title('Linear regression - Feature weights')"
   ]
  },
  {
   "cell_type": "markdown",
   "metadata": {},
   "source": [
    "### Linear regression with Lasso regularization (i.e. feature selection)"
   ]
  },
  {
   "cell_type": "markdown",
   "metadata": {},
   "source": [
    "#### Training:"
   ]
  },
  {
   "cell_type": "code",
   "execution_count": 69,
   "metadata": {},
   "outputs": [
    {
     "name": "stdout",
     "output_type": "stream",
     "text": [
      "LassoCV(alphas=None, copy_X=True, cv=10, eps=0.001, fit_intercept=True,\n",
      "        max_iter=1000, n_alphas=100, n_jobs=None, normalize=False,\n",
      "        positive=False, precompute='auto', random_state=None,\n",
      "        selection='cyclic', tol=0.0001, verbose=False)\n",
      "Linear regression with Lasso reg., training time:17.214s\n"
     ]
    }
   ],
   "source": [
    "lassoReg = linear_model.LassoCV(cv=10)\n",
    "t0_linRLasso=time()\n",
    "lassoReg.fit(X_trainNorm, y_train.values.ravel())\n",
    "print(lassoReg)\n",
    "print(\"Linear regression with Lasso reg., training time:\" + str(round(time()-t0_linRLasso, 3)) + \"s\")"
   ]
  },
  {
   "cell_type": "markdown",
   "metadata": {},
   "source": [
    "#### Prediction:"
   ]
  },
  {
   "cell_type": "code",
   "execution_count": 70,
   "metadata": {},
   "outputs": [],
   "source": [
    "y_valPred_lassoReg = lassoReg.predict(X_valNorm)\n",
    "y_trainPred_lassoReg = lassoReg.predict(X_trainNorm)"
   ]
  },
  {
   "cell_type": "markdown",
   "metadata": {},
   "source": [
    "#### Evaluation:"
   ]
  },
  {
   "cell_type": "code",
   "execution_count": 71,
   "metadata": {},
   "outputs": [
    {
     "name": "stdout",
     "output_type": "stream",
     "text": [
      "Linear regression with Lasso reg. - training, R2:0.7938526686922345\n",
      "Linear regression with Lasso reg. - validation, R2:0.7925102611270162\n"
     ]
    }
   ],
   "source": [
    "r2_val_lassoReg = r2_score(y_val, y_valPred_lassoReg)\n",
    "r2_train_lassoReg = r2_score(y_train, y_trainPred_lassoReg)\n",
    "\n",
    "print('Linear regression with Lasso reg. - training, R2:' + str(r2_train_lassoReg))\n",
    "print('Linear regression with Lasso reg. - validation, R2:' + str(r2_val_lassoReg))"
   ]
  },
  {
   "cell_type": "code",
   "execution_count": 72,
   "metadata": {},
   "outputs": [
    {
     "name": "stdout",
     "output_type": "stream",
     "text": [
      "Linear regression with Lasso reg. - training, MSE:17.835967272015342\n",
      "Linear regression with Lasso reg. - validation, MSE:17.62231519563569\n"
     ]
    }
   ],
   "source": [
    "mse_val_lassoReg = mean_squared_error(y_val, y_valPred_lassoReg)\n",
    "mse_train_lassoReg = mean_squared_error(y_train, y_trainPred_lassoReg)\n",
    "\n",
    "print('Linear regression with Lasso reg. - training, MSE:' + str(mse_train_lassoReg))\n",
    "print('Linear regression with Lasso reg. - validation, MSE:' + str(mse_val_lassoReg))"
   ]
  },
  {
   "cell_type": "code",
   "execution_count": 217,
   "metadata": {},
   "outputs": [
    {
     "data": {
      "text/plain": [
       "Text(0.5, 1.0, 'Linear regression, with Lasso reg. - Feature weights')"
      ]
     },
     "execution_count": 217,
     "metadata": {},
     "output_type": "execute_result"
    },
    {
     "data": {
      "image/png": "[encoded data removed]",
      "text/plain": [
       "<Figure size 432x288 with 1 Axes>"
      ]
     },
     "metadata": {
      "needs_background": "light"
     },
     "output_type": "display_data"
    }
   ],
   "source": [
    "coeffcs_lasso = pd.DataFrame(lassoReg.coef_, index=X_train.columns, columns=[\"weight\"])\n",
    "\n",
    "sns.barplot(x='weight', y=coeffcs_lasso.index, data=coeffcs_lasso, color='blue')\\\n",
    ".set_title('Linear regression, with Lasso reg. - Feature weights')"
   ]
  },
  {
   "cell_type": "code",
   "execution_count": 111,
   "metadata": {},
   "outputs": [
    {
     "data": {
      "text/plain": [
       "(19,)"
      ]
     },
     "execution_count": 111,
     "metadata": {},
     "output_type": "execute_result"
    }
   ],
   "source": [
    "lassoReg_coefficients.shape"
   ]
  },
  {
   "cell_type": "markdown",
   "metadata": {},
   "source": [
    "### Random forest regression\n",
    "\n",
    "Decision trees can deal with non-linearity relationships between independent variables and the dependent variable (fare_amount), unlike linear regressors."
   ]
  },
  {
   "cell_type": "markdown",
   "metadata": {},
   "source": [
    "#### Training:"
   ]
  },
  {
   "cell_type": "code",
   "execution_count": 86,
   "metadata": {},
   "outputs": [
    {
     "name": "stdout",
     "output_type": "stream",
     "text": [
      "RandomForestRegressor(bootstrap=True, criterion='mse', max_depth=None,\n",
      "                      max_features='auto', max_leaf_nodes=None,\n",
      "                      min_impurity_decrease=0.0, min_impurity_split=None,\n",
      "                      min_samples_leaf=1, min_samples_split=2,\n",
      "                      min_weight_fraction_leaf=0.0, n_estimators=10,\n",
      "                      n_jobs=None, oob_score=False, random_state=None,\n",
      "                      verbose=0, warm_start=False)\n",
      "Random forest regression, training time:175.649s\n"
     ]
    }
   ],
   "source": [
    "randFor = RandomForestRegressor(n_estimators=10) #current default, future is 100, but it is too much computation\n",
    "\n",
    "#decisions trees don't need normalized data since they don't assume any distribution\n",
    "\n",
    "t0_randFor=time()\n",
    "randFor.fit(X_train, y_train.values.ravel())\n",
    "print(randFor)\n",
    "print(\"Random forest regression, training time:\" + str(round(time()-t0_randFor, 3)) + \"s\")"
   ]
  },
  {
   "cell_type": "markdown",
   "metadata": {},
   "source": [
    "#### Prediction:"
   ]
  },
  {
   "cell_type": "code",
   "execution_count": 87,
   "metadata": {},
   "outputs": [],
   "source": [
    "y_valPred_randFor = randFor.predict(X_val)\n",
    "y_trainPred_randFor = randFor.predict(X_train)"
   ]
  },
  {
   "cell_type": "markdown",
   "metadata": {},
   "source": [
    "#### Evaluation:"
   ]
  },
  {
   "cell_type": "code",
   "execution_count": 89,
   "metadata": {},
   "outputs": [
    {
     "name": "stdout",
     "output_type": "stream",
     "text": [
      "Random forest regression - training, R2:0.9771300762442262\n",
      "Random forest regression - validation, R2:0.8717921106905805\n"
     ]
    }
   ],
   "source": [
    "r2_val_randFor = r2_score(y_val, y_valPred_randFor)\n",
    "r2_train_randFor = r2_score(y_train, y_trainPred_randFor)\n",
    "\n",
    "print('Random forest regression - training, R2:' + str(r2_train_randFor))\n",
    "print('Random forest regression - validation, R2:' + str(r2_val_randFor))"
   ]
  },
  {
   "cell_type": "code",
   "execution_count": 90,
   "metadata": {},
   "outputs": [
    {
     "name": "stdout",
     "output_type": "stream",
     "text": [
      "Random forest regression - training, MSE:1.978716915876476\n",
      "Random forest regression - validation, MSE:10.888826831869595\n"
     ]
    }
   ],
   "source": [
    "mse_val_randFor = mean_squared_error(y_val, y_valPred_randFor)\n",
    "mse_train_randFor = mean_squared_error(y_train, y_trainPred_randFor)\n",
    "\n",
    "print('Random forest regression - training, MSE:' + str(mse_train_randFor))\n",
    "print('Random forest regression - validation, MSE:' + str(mse_val_randFor))"
   ]
  },
  {
   "cell_type": "markdown",
   "metadata": {},
   "source": [
    "Check also the feature importances:"
   ]
  },
  {
   "cell_type": "code",
   "execution_count": 218,
   "metadata": {},
   "outputs": [
    {
     "data": {
      "text/plain": [
       "Text(0.5, 1.0, 'Random forest - Feature importances')"
      ]
     },
     "execution_count": 218,
     "metadata": {},
     "output_type": "execute_result"
    },
    {
     "data": {
      "image/png": "[encoded data removed]",
      "text/plain": [
       "<Figure size 432x288 with 1 Axes>"
      ]
     },
     "metadata": {
      "needs_background": "light"
     },
     "output_type": "display_data"
    }
   ],
   "source": [
    "importance_rf = pd.DataFrame(randFor.feature_importances_, index=X_train.columns, columns=[\"importance\"])\n",
    "\n",
    "sns.barplot(x='importance', y=importance_rf.index, data=importance_rf, color='blue')\\\n",
    ".set_title('Random forest - Feature importances')\n",
    "#Avenues generally run north and south in NY. All streets run east and west.\n",
    "#https://becomeanewyorker.com/streets-and-avenues-there-is-a-differenc/"
   ]
  },
  {
   "cell_type": "markdown",
   "metadata": {},
   "source": [
    "### XGBoost regression (with parameter tuning)\n",
    "\n",
    "With this approach with reduce not only variance (as in random forests) but also the bias.\n",
    "It has also regularization to avoid overfitting."
   ]
  },
  {
   "cell_type": "markdown",
   "metadata": {},
   "source": [
    "### Parameter tuning through grid search with cross-validation"
   ]
  },
  {
   "cell_type": "code",
   "execution_count": null,
   "metadata": {},
   "outputs": [],
   "source": [
    "# Parameters that are going to be tuned are those given by a multi-element list (max_depth, min_child_weight, and\n",
    "#learning rate)\n",
    "\n",
    "params = {\n",
    "    'max_depth': [3,5,7,9],\n",
    "    'min_child_weight': [1,3,5],\n",
    "    'learning_rate': [0.05,0.1,0.3],\n",
    "    'subsample': [1],\n",
    "    'colsample_bytree': [1],\n",
    "    # Other parameters\n",
    "    'objective': ['reg:squarederror'],\n",
    "}\n"
   ]
  },
  {
   "cell_type": "markdown",
   "metadata": {},
   "source": [
    "#### Find optimal hyper-parameters"
   ]
  },
  {
   "cell_type": "raw",
   "metadata": {},
   "source": [
    "# initializing XGBoost and GridSearchCV\n",
    "\n",
    "k=10 #cross-validation with 10-folding\n",
    "xgb_regr_tuning = xgb.XGBRegressor() \n",
    "xgbr_grid = GridSearchCV(xgb_regr_tuning, params, cv=k, scoring='neg_mean_squared_error')"
   ]
  },
  {
   "cell_type": "raw",
   "metadata": {},
   "source": [
    "#training\n",
    "#we use just a subset of the values for training, otherwise it takes too much time \n",
    "#(also, batches will be smaller, which may be better for results in the end)\n",
    "X_train_grid = X_train.head(300_000)\n",
    "y_train_grid = y_train.head(300_000)\n",
    "\n",
    "t0_xgbrGrid=time()\n",
    "grid_result = xgbr_grid.fit(X_train_grid, y_train_grid.values.ravel())\n",
    "print(xgbr_grid)\n",
    "print(\"XGBoost grid search tuning, time:\" + str(round(time()-t0_xgbrGrid, 3)) + \"s\")\n",
    "\n",
    "#saving model\n",
    "filename_xgbGrid = 'XGBoostGrid_model.sav'\n",
    "pickle.dump(grid_result, open(filename_xgbGrid, 'wb'))"
   ]
  },
  {
   "cell_type": "code",
   "execution_count": 125,
   "metadata": {},
   "outputs": [],
   "source": [
    "#loading saved model\n",
    "filename_xgbGrid = 'XGBoostGrid_model.sav'\n",
    "xgbGrid = pickle.load(open(filename_xgbGrid, 'rb'))"
   ]
  },
  {
   "cell_type": "code",
   "execution_count": 126,
   "metadata": {},
   "outputs": [
    {
     "data": {
      "text/plain": [
       "{'colsample_bytree': 1,\n",
       " 'learning_rate': 0.1,\n",
       " 'max_depth': 9,\n",
       " 'min_child_weight': 1,\n",
       " 'objective': 'reg:squarederror',\n",
       " 'subsample': 1}"
      ]
     },
     "execution_count": 126,
     "metadata": {},
     "output_type": "execute_result"
    }
   ],
   "source": [
    "best_params = xgbGrid.best_params_\n",
    "best_params"
   ]
  },
  {
   "cell_type": "markdown",
   "metadata": {},
   "source": [
    "#### Training (with tuned hyper-parameters):"
   ]
  },
  {
   "cell_type": "raw",
   "metadata": {},
   "source": [
    "tuned_xgbr = xgb.XGBRegressor(max_depth=9,min_child_weight=1,learning_rate= 0.1,objective ='reg:squarederror')\n",
    "t0_xgbrTune=time()\n",
    "tuned_xgbr.fit(X_train, y_train.values.ravel())\n",
    "print(xgbr_grid)\n",
    "print(\"XGBoost regression with tuning, training time:\" + str(round(time()-t0_xgbrTune, 3)) + \"s\")\n",
    "\n",
    "#saving model\n",
    "filename_xgbr = 'XGBoostTuned_model.sav'\n",
    "pickle.dump(tuned_xgbr, open(filename_xgbr, 'wb'))"
   ]
  },
  {
   "cell_type": "code",
   "execution_count": 121,
   "metadata": {},
   "outputs": [],
   "source": [
    "#loading saved model\n",
    "filename_xgbr = 'XGBoostTuned_model.sav'\n",
    "tuned_xgbr = pickle.load(open(filename_xgbr, 'rb'))"
   ]
  },
  {
   "cell_type": "markdown",
   "metadata": {},
   "source": [
    "#### Prediction:"
   ]
  },
  {
   "cell_type": "code",
   "execution_count": 127,
   "metadata": {},
   "outputs": [],
   "source": [
    "y_valPred_tuned_xgbr = tuned_xgbr.predict(X_val)\n",
    "y_trainPred_tuned_xgbr = tuned_xgbr.predict(X_train)"
   ]
  },
  {
   "cell_type": "markdown",
   "metadata": {},
   "source": [
    "#### Evaluation:"
   ]
  },
  {
   "cell_type": "code",
   "execution_count": 128,
   "metadata": {},
   "outputs": [
    {
     "name": "stdout",
     "output_type": "stream",
     "text": [
      "XGBoost regression, with tuning - training, R2:0.9107262782954247\n",
      "XGBoost regression, with tuning - validation, R2:0.910689198278601\n"
     ]
    }
   ],
   "source": [
    "r2_val_tuned_xgbr = r2_score(y_val, y_valPred_tuned_xgbr)\n",
    "r2_train_tuned_xgbr = r2_score(y_train, y_trainPred_tuned_xgbr)\n",
    "\n",
    "print('XGBoost regression, with tuning - training, R2:' + str(r2_train_tuned_xgbr))\n",
    "print('XGBoost regression, with tuning - validation, R2:' + str(r2_val_tuned_xgbr))"
   ]
  },
  {
   "cell_type": "code",
   "execution_count": 129,
   "metadata": {},
   "outputs": [
    {
     "name": "stdout",
     "output_type": "stream",
     "text": [
      "XGBoost regression - training, MSE:7.72400578010213\n",
      "XGBoost forest regression - validation, MSE:7.585257501687189\n"
     ]
    }
   ],
   "source": [
    "mse_val_tuned_xgbr = mean_squared_error(y_val, y_valPred_tuned_xgbr)\n",
    "mse_train_tuned_xgbr = mean_squared_error(y_train, y_trainPred_tuned_xgbr)\n",
    "\n",
    "print('XGBoost regression - training, MSE:' + str(mse_train_tuned_xgbr))\n",
    "print('XGBoost forest regression - validation, MSE:' + str(mse_val_tuned_xgbr))"
   ]
  },
  {
   "cell_type": "markdown",
   "metadata": {},
   "source": [
    "Check also the feature importances:"
   ]
  },
  {
   "cell_type": "code",
   "execution_count": 219,
   "metadata": {},
   "outputs": [
    {
     "data": {
      "text/plain": [
       "Text(0.5, 1.0, 'XGB - Feature importances')"
      ]
     },
     "execution_count": 219,
     "metadata": {},
     "output_type": "execute_result"
    },
    {
     "data": {
      "image/png": "[encoded data removed]",
      "text/plain": [
       "<Figure size 432x288 with 1 Axes>"
      ]
     },
     "metadata": {
      "needs_background": "light"
     },
     "output_type": "display_data"
    }
   ],
   "source": [
    "importance_xgbr = pd.DataFrame(tuned_xgbr.feature_importances_, index=X_train.columns, columns=[\"importance\"])\n",
    "sns.barplot(x='importance', y=importance_xgbr.index, data=importance_xgbr, color='blue')\\\n",
    ".set_title('XGB - Feature importances')"
   ]
  },
  {
   "cell_type": "markdown",
   "metadata": {},
   "source": [
    "## Predictions on test set"
   ]
  },
  {
   "cell_type": "code",
   "execution_count": 130,
   "metadata": {},
   "outputs": [
    {
     "data": {
      "text/html": [
       "<div>\n",
       "<style scoped>\n",
       "    .dataframe tbody tr th:only-of-type {\n",
       "        vertical-align: middle;\n",
       "    }\n",
       "\n",
       "    .dataframe tbody tr th {\n",
       "        vertical-align: top;\n",
       "    }\n",
       "\n",
       "    .dataframe thead th {\n",
       "        text-align: right;\n",
       "    }\n",
       "</style>\n",
       "<table border=\"1\" class=\"dataframe\">\n",
       "  <thead>\n",
       "    <tr style=\"text-align: right;\">\n",
       "      <th></th>\n",
       "      <th>key</th>\n",
       "      <th>pickup_datetime</th>\n",
       "      <th>pickup_longitude</th>\n",
       "      <th>pickup_latitude</th>\n",
       "      <th>dropoff_longitude</th>\n",
       "      <th>dropoff_latitude</th>\n",
       "      <th>passenger_count</th>\n",
       "    </tr>\n",
       "  </thead>\n",
       "  <tbody>\n",
       "    <tr>\n",
       "      <th>0</th>\n",
       "      <td>2015-01-27 13:08:24.0000002</td>\n",
       "      <td>2015-01-27 13:08:24 UTC</td>\n",
       "      <td>-73.973320</td>\n",
       "      <td>40.763805</td>\n",
       "      <td>-73.981430</td>\n",
       "      <td>40.743835</td>\n",
       "      <td>1</td>\n",
       "    </tr>\n",
       "    <tr>\n",
       "      <th>1</th>\n",
       "      <td>2015-01-27 13:08:24.0000003</td>\n",
       "      <td>2015-01-27 13:08:24 UTC</td>\n",
       "      <td>-73.986862</td>\n",
       "      <td>40.719383</td>\n",
       "      <td>-73.998886</td>\n",
       "      <td>40.739201</td>\n",
       "      <td>1</td>\n",
       "    </tr>\n",
       "    <tr>\n",
       "      <th>2</th>\n",
       "      <td>2011-10-08 11:53:44.0000002</td>\n",
       "      <td>2011-10-08 11:53:44 UTC</td>\n",
       "      <td>-73.982524</td>\n",
       "      <td>40.751260</td>\n",
       "      <td>-73.979654</td>\n",
       "      <td>40.746139</td>\n",
       "      <td>1</td>\n",
       "    </tr>\n",
       "    <tr>\n",
       "      <th>3</th>\n",
       "      <td>2012-12-01 21:12:12.0000002</td>\n",
       "      <td>2012-12-01 21:12:12 UTC</td>\n",
       "      <td>-73.981160</td>\n",
       "      <td>40.767807</td>\n",
       "      <td>-73.990448</td>\n",
       "      <td>40.751635</td>\n",
       "      <td>1</td>\n",
       "    </tr>\n",
       "    <tr>\n",
       "      <th>4</th>\n",
       "      <td>2012-12-01 21:12:12.0000003</td>\n",
       "      <td>2012-12-01 21:12:12 UTC</td>\n",
       "      <td>-73.966046</td>\n",
       "      <td>40.789775</td>\n",
       "      <td>-73.988565</td>\n",
       "      <td>40.744427</td>\n",
       "      <td>1</td>\n",
       "    </tr>\n",
       "  </tbody>\n",
       "</table>\n",
       "</div>"
      ],
      "text/plain": [
       "                           key          pickup_datetime  pickup_longitude  \\\n",
       "0  2015-01-27 13:08:24.0000002  2015-01-27 13:08:24 UTC        -73.973320   \n",
       "1  2015-01-27 13:08:24.0000003  2015-01-27 13:08:24 UTC        -73.986862   \n",
       "2  2011-10-08 11:53:44.0000002  2011-10-08 11:53:44 UTC        -73.982524   \n",
       "3  2012-12-01 21:12:12.0000002  2012-12-01 21:12:12 UTC        -73.981160   \n",
       "4  2012-12-01 21:12:12.0000003  2012-12-01 21:12:12 UTC        -73.966046   \n",
       "\n",
       "   pickup_latitude  dropoff_longitude  dropoff_latitude  passenger_count  \n",
       "0        40.763805         -73.981430         40.743835                1  \n",
       "1        40.719383         -73.998886         40.739201                1  \n",
       "2        40.751260         -73.979654         40.746139                1  \n",
       "3        40.767807         -73.990448         40.751635                1  \n",
       "4        40.789775         -73.988565         40.744427                1  "
      ]
     },
     "execution_count": 130,
     "metadata": {},
     "output_type": "execute_result"
    }
   ],
   "source": [
    "test_path = 'test_orig.csv'\n",
    "test = pd.read_csv(test_path)\n",
    "test.head()"
   ]
  },
  {
   "cell_type": "code",
   "execution_count": 131,
   "metadata": {},
   "outputs": [
    {
     "data": {
      "text/html": [
       "<div>\n",
       "<style scoped>\n",
       "    .dataframe tbody tr th:only-of-type {\n",
       "        vertical-align: middle;\n",
       "    }\n",
       "\n",
       "    .dataframe tbody tr th {\n",
       "        vertical-align: top;\n",
       "    }\n",
       "\n",
       "    .dataframe thead th {\n",
       "        text-align: right;\n",
       "    }\n",
       "</style>\n",
       "<table border=\"1\" class=\"dataframe\">\n",
       "  <thead>\n",
       "    <tr style=\"text-align: right;\">\n",
       "      <th></th>\n",
       "      <th>pickup_longitude</th>\n",
       "      <th>pickup_latitude</th>\n",
       "      <th>dropoff_longitude</th>\n",
       "      <th>dropoff_latitude</th>\n",
       "      <th>passenger_count</th>\n",
       "    </tr>\n",
       "  </thead>\n",
       "  <tbody>\n",
       "    <tr>\n",
       "      <th>count</th>\n",
       "      <td>9914.000000</td>\n",
       "      <td>9914.000000</td>\n",
       "      <td>9914.000000</td>\n",
       "      <td>9914.000000</td>\n",
       "      <td>9914.000000</td>\n",
       "    </tr>\n",
       "    <tr>\n",
       "      <th>mean</th>\n",
       "      <td>-73.974722</td>\n",
       "      <td>40.751041</td>\n",
       "      <td>-73.973657</td>\n",
       "      <td>40.751743</td>\n",
       "      <td>1.671273</td>\n",
       "    </tr>\n",
       "    <tr>\n",
       "      <th>std</th>\n",
       "      <td>0.042774</td>\n",
       "      <td>0.033541</td>\n",
       "      <td>0.039072</td>\n",
       "      <td>0.035435</td>\n",
       "      <td>1.278747</td>\n",
       "    </tr>\n",
       "    <tr>\n",
       "      <th>min</th>\n",
       "      <td>-74.252193</td>\n",
       "      <td>40.573143</td>\n",
       "      <td>-74.263242</td>\n",
       "      <td>40.568973</td>\n",
       "      <td>1.000000</td>\n",
       "    </tr>\n",
       "    <tr>\n",
       "      <th>25%</th>\n",
       "      <td>-73.992501</td>\n",
       "      <td>40.736125</td>\n",
       "      <td>-73.991247</td>\n",
       "      <td>40.735254</td>\n",
       "      <td>1.000000</td>\n",
       "    </tr>\n",
       "    <tr>\n",
       "      <th>50%</th>\n",
       "      <td>-73.982326</td>\n",
       "      <td>40.753051</td>\n",
       "      <td>-73.980015</td>\n",
       "      <td>40.754065</td>\n",
       "      <td>1.000000</td>\n",
       "    </tr>\n",
       "    <tr>\n",
       "      <th>75%</th>\n",
       "      <td>-73.968013</td>\n",
       "      <td>40.767113</td>\n",
       "      <td>-73.964059</td>\n",
       "      <td>40.768757</td>\n",
       "      <td>2.000000</td>\n",
       "    </tr>\n",
       "    <tr>\n",
       "      <th>max</th>\n",
       "      <td>-72.986532</td>\n",
       "      <td>41.709555</td>\n",
       "      <td>-72.990963</td>\n",
       "      <td>41.696683</td>\n",
       "      <td>6.000000</td>\n",
       "    </tr>\n",
       "  </tbody>\n",
       "</table>\n",
       "</div>"
      ],
      "text/plain": [
       "       pickup_longitude  pickup_latitude  dropoff_longitude  dropoff_latitude  \\\n",
       "count       9914.000000      9914.000000        9914.000000       9914.000000   \n",
       "mean         -73.974722        40.751041         -73.973657         40.751743   \n",
       "std            0.042774         0.033541           0.039072          0.035435   \n",
       "min          -74.252193        40.573143         -74.263242         40.568973   \n",
       "25%          -73.992501        40.736125         -73.991247         40.735254   \n",
       "50%          -73.982326        40.753051         -73.980015         40.754065   \n",
       "75%          -73.968013        40.767113         -73.964059         40.768757   \n",
       "max          -72.986532        41.709555         -72.990963         41.696683   \n",
       "\n",
       "       passenger_count  \n",
       "count      9914.000000  \n",
       "mean          1.671273  \n",
       "std           1.278747  \n",
       "min           1.000000  \n",
       "25%           1.000000  \n",
       "50%           1.000000  \n",
       "75%           2.000000  \n",
       "max           6.000000  "
      ]
     },
     "execution_count": 131,
     "metadata": {},
     "output_type": "execute_result"
    }
   ],
   "source": [
    "test.describe()"
   ]
  },
  {
   "cell_type": "markdown",
   "metadata": {},
   "source": [
    "### Prepare test set before predictions (i.e. add features)"
   ]
  },
  {
   "cell_type": "code",
   "execution_count": 132,
   "metadata": {},
   "outputs": [],
   "source": [
    "test = add_newFeats(test)"
   ]
  },
  {
   "cell_type": "code",
   "execution_count": 133,
   "metadata": {},
   "outputs": [
    {
     "data": {
      "text/html": [
       "<div>\n",
       "<style scoped>\n",
       "    .dataframe tbody tr th:only-of-type {\n",
       "        vertical-align: middle;\n",
       "    }\n",
       "\n",
       "    .dataframe tbody tr th {\n",
       "        vertical-align: top;\n",
       "    }\n",
       "\n",
       "    .dataframe thead th {\n",
       "        text-align: right;\n",
       "    }\n",
       "</style>\n",
       "<table border=\"1\" class=\"dataframe\">\n",
       "  <thead>\n",
       "    <tr style=\"text-align: right;\">\n",
       "      <th></th>\n",
       "      <th>pickup_longitude</th>\n",
       "      <th>pickup_latitude</th>\n",
       "      <th>dropoff_longitude</th>\n",
       "      <th>dropoff_latitude</th>\n",
       "      <th>passenger_count</th>\n",
       "      <th>weekday</th>\n",
       "      <th>year</th>\n",
       "      <th>month</th>\n",
       "      <th>day</th>\n",
       "      <th>hour</th>\n",
       "      <th>...</th>\n",
       "      <th>distance</th>\n",
       "      <th>pickup_distance_jfk</th>\n",
       "      <th>pickup_distance_laguardia</th>\n",
       "      <th>pickup_distance_newark</th>\n",
       "      <th>dropoff_distance_jfk</th>\n",
       "      <th>dropoff_distance_newark</th>\n",
       "      <th>dropoff_distance_laguardia</th>\n",
       "      <th>distance_log</th>\n",
       "      <th>abs_diff_latitude_log</th>\n",
       "      <th>abs_diff_longitude_log</th>\n",
       "    </tr>\n",
       "  </thead>\n",
       "  <tbody>\n",
       "    <tr>\n",
       "      <th>count</th>\n",
       "      <td>9914.000000</td>\n",
       "      <td>9914.000000</td>\n",
       "      <td>9914.000000</td>\n",
       "      <td>9914.000000</td>\n",
       "      <td>9914.000000</td>\n",
       "      <td>9914.000000</td>\n",
       "      <td>9914.000000</td>\n",
       "      <td>9914.000000</td>\n",
       "      <td>9914.000000</td>\n",
       "      <td>9914.000000</td>\n",
       "      <td>...</td>\n",
       "      <td>9914.000000</td>\n",
       "      <td>9914.000000</td>\n",
       "      <td>9914.000000</td>\n",
       "      <td>9914.000000</td>\n",
       "      <td>9914.000000</td>\n",
       "      <td>9914.000000</td>\n",
       "      <td>9914.000000</td>\n",
       "      <td>9914.000000</td>\n",
       "      <td>9914.000000</td>\n",
       "      <td>9914.000000</td>\n",
       "    </tr>\n",
       "    <tr>\n",
       "      <th>mean</th>\n",
       "      <td>-73.974722</td>\n",
       "      <td>40.751041</td>\n",
       "      <td>-73.973657</td>\n",
       "      <td>40.751743</td>\n",
       "      <td>1.671273</td>\n",
       "      <td>2.852834</td>\n",
       "      <td>2011.815816</td>\n",
       "      <td>6.857979</td>\n",
       "      <td>16.194170</td>\n",
       "      <td>13.467420</td>\n",
       "      <td>...</td>\n",
       "      <td>1.243933</td>\n",
       "      <td>9.648597</td>\n",
       "      <td>5.685396</td>\n",
       "      <td>11.237838</td>\n",
       "      <td>9.570293</td>\n",
       "      <td>11.294917</td>\n",
       "      <td>5.551162</td>\n",
       "      <td>-0.761367</td>\n",
       "      <td>-4.601563</td>\n",
       "      <td>-4.702361</td>\n",
       "    </tr>\n",
       "    <tr>\n",
       "      <th>std</th>\n",
       "      <td>0.042774</td>\n",
       "      <td>0.033541</td>\n",
       "      <td>0.039072</td>\n",
       "      <td>0.035435</td>\n",
       "      <td>1.278747</td>\n",
       "      <td>1.994451</td>\n",
       "      <td>1.803347</td>\n",
       "      <td>3.353272</td>\n",
       "      <td>8.838482</td>\n",
       "      <td>6.868584</td>\n",
       "      <td>...</td>\n",
       "      <td>1.958653</td>\n",
       "      <td>1.933168</td>\n",
       "      <td>1.589563</td>\n",
       "      <td>2.283139</td>\n",
       "      <td>1.812506</td>\n",
       "      <td>2.083768</td>\n",
       "      <td>1.597437</td>\n",
       "      <td>3.531889</td>\n",
       "      <td>3.150416</td>\n",
       "      <td>3.190063</td>\n",
       "    </tr>\n",
       "    <tr>\n",
       "      <th>min</th>\n",
       "      <td>-74.252193</td>\n",
       "      <td>40.573143</td>\n",
       "      <td>-74.263242</td>\n",
       "      <td>40.568973</td>\n",
       "      <td>1.000000</td>\n",
       "      <td>0.000000</td>\n",
       "      <td>2009.000000</td>\n",
       "      <td>1.000000</td>\n",
       "      <td>1.000000</td>\n",
       "      <td>0.000000</td>\n",
       "      <td>...</td>\n",
       "      <td>0.000000</td>\n",
       "      <td>0.009949</td>\n",
       "      <td>0.005357</td>\n",
       "      <td>1.905468</td>\n",
       "      <td>0.041663</td>\n",
       "      <td>0.088896</td>\n",
       "      <td>0.000563</td>\n",
       "      <td>-36.043653</td>\n",
       "      <td>-36.043653</td>\n",
       "      <td>-36.043653</td>\n",
       "    </tr>\n",
       "    <tr>\n",
       "      <th>25%</th>\n",
       "      <td>-73.992501</td>\n",
       "      <td>40.736125</td>\n",
       "      <td>-73.991247</td>\n",
       "      <td>40.735254</td>\n",
       "      <td>1.000000</td>\n",
       "      <td>1.000000</td>\n",
       "      <td>2010.000000</td>\n",
       "      <td>4.000000</td>\n",
       "      <td>9.000000</td>\n",
       "      <td>8.000000</td>\n",
       "      <td>...</td>\n",
       "      <td>0.338505</td>\n",
       "      <td>9.220034</td>\n",
       "      <td>5.094757</td>\n",
       "      <td>10.287253</td>\n",
       "      <td>9.010791</td>\n",
       "      <td>10.354199</td>\n",
       "      <td>4.904470</td>\n",
       "      <td>-1.083217</td>\n",
       "      <td>-4.922830</td>\n",
       "      <td>-5.058749</td>\n",
       "    </tr>\n",
       "    <tr>\n",
       "      <th>50%</th>\n",
       "      <td>-73.982326</td>\n",
       "      <td>40.753051</td>\n",
       "      <td>-73.980015</td>\n",
       "      <td>40.754065</td>\n",
       "      <td>1.000000</td>\n",
       "      <td>3.000000</td>\n",
       "      <td>2012.000000</td>\n",
       "      <td>7.000000</td>\n",
       "      <td>16.000000</td>\n",
       "      <td>15.000000</td>\n",
       "      <td>...</td>\n",
       "      <td>0.699284</td>\n",
       "      <td>9.979375</td>\n",
       "      <td>5.851000</td>\n",
       "      <td>10.833266</td>\n",
       "      <td>9.855911</td>\n",
       "      <td>10.952961</td>\n",
       "      <td>5.731228</td>\n",
       "      <td>-0.357699</td>\n",
       "      <td>-4.218888</td>\n",
       "      <td>-4.333389</td>\n",
       "    </tr>\n",
       "    <tr>\n",
       "      <th>75%</th>\n",
       "      <td>-73.968013</td>\n",
       "      <td>40.767113</td>\n",
       "      <td>-73.964059</td>\n",
       "      <td>40.768757</td>\n",
       "      <td>2.000000</td>\n",
       "      <td>5.000000</td>\n",
       "      <td>2014.000000</td>\n",
       "      <td>10.000000</td>\n",
       "      <td>25.000000</td>\n",
       "      <td>19.000000</td>\n",
       "      <td>...</td>\n",
       "      <td>1.308633</td>\n",
       "      <td>10.521719</td>\n",
       "      <td>6.393444</td>\n",
       "      <td>11.599358</td>\n",
       "      <td>10.453130</td>\n",
       "      <td>11.808672</td>\n",
       "      <td>6.326527</td>\n",
       "      <td>0.268983</td>\n",
       "      <td>-3.566273</td>\n",
       "      <td>-3.706738</td>\n",
       "    </tr>\n",
       "    <tr>\n",
       "      <th>max</th>\n",
       "      <td>-72.986532</td>\n",
       "      <td>41.709555</td>\n",
       "      <td>-72.990963</td>\n",
       "      <td>41.696683</td>\n",
       "      <td>6.000000</td>\n",
       "      <td>6.000000</td>\n",
       "      <td>2015.000000</td>\n",
       "      <td>12.000000</td>\n",
       "      <td>31.000000</td>\n",
       "      <td>23.000000</td>\n",
       "      <td>...</td>\n",
       "      <td>45.645175</td>\n",
       "      <td>43.763288</td>\n",
       "      <td>47.844913</td>\n",
       "      <td>64.822849</td>\n",
       "      <td>43.515665</td>\n",
       "      <td>64.571588</td>\n",
       "      <td>47.597004</td>\n",
       "      <td>3.820898</td>\n",
       "      <td>-0.456948</td>\n",
       "      <td>-0.163498</td>\n",
       "    </tr>\n",
       "  </tbody>\n",
       "</table>\n",
       "<p>8 rows × 22 columns</p>\n",
       "</div>"
      ],
      "text/plain": [
       "       pickup_longitude  pickup_latitude  dropoff_longitude  dropoff_latitude  \\\n",
       "count       9914.000000      9914.000000        9914.000000       9914.000000   \n",
       "mean         -73.974722        40.751041         -73.973657         40.751743   \n",
       "std            0.042774         0.033541           0.039072          0.035435   \n",
       "min          -74.252193        40.573143         -74.263242         40.568973   \n",
       "25%          -73.992501        40.736125         -73.991247         40.735254   \n",
       "50%          -73.982326        40.753051         -73.980015         40.754065   \n",
       "75%          -73.968013        40.767113         -73.964059         40.768757   \n",
       "max          -72.986532        41.709555         -72.990963         41.696683   \n",
       "\n",
       "       passenger_count      weekday         year        month          day  \\\n",
       "count      9914.000000  9914.000000  9914.000000  9914.000000  9914.000000   \n",
       "mean          1.671273     2.852834  2011.815816     6.857979    16.194170   \n",
       "std           1.278747     1.994451     1.803347     3.353272     8.838482   \n",
       "min           1.000000     0.000000  2009.000000     1.000000     1.000000   \n",
       "25%           1.000000     1.000000  2010.000000     4.000000     9.000000   \n",
       "50%           1.000000     3.000000  2012.000000     7.000000    16.000000   \n",
       "75%           2.000000     5.000000  2014.000000    10.000000    25.000000   \n",
       "max           6.000000     6.000000  2015.000000    12.000000    31.000000   \n",
       "\n",
       "              hour  ...     distance  pickup_distance_jfk  \\\n",
       "count  9914.000000  ...  9914.000000          9914.000000   \n",
       "mean     13.467420  ...     1.243933             9.648597   \n",
       "std       6.868584  ...     1.958653             1.933168   \n",
       "min       0.000000  ...     0.000000             0.009949   \n",
       "25%       8.000000  ...     0.338505             9.220034   \n",
       "50%      15.000000  ...     0.699284             9.979375   \n",
       "75%      19.000000  ...     1.308633            10.521719   \n",
       "max      23.000000  ...    45.645175            43.763288   \n",
       "\n",
       "       pickup_distance_laguardia  pickup_distance_newark  \\\n",
       "count                9914.000000             9914.000000   \n",
       "mean                    5.685396               11.237838   \n",
       "std                     1.589563                2.283139   \n",
       "min                     0.005357                1.905468   \n",
       "25%                     5.094757               10.287253   \n",
       "50%                     5.851000               10.833266   \n",
       "75%                     6.393444               11.599358   \n",
       "max                    47.844913               64.822849   \n",
       "\n",
       "       dropoff_distance_jfk  dropoff_distance_newark  \\\n",
       "count           9914.000000              9914.000000   \n",
       "mean               9.570293                11.294917   \n",
       "std                1.812506                 2.083768   \n",
       "min                0.041663                 0.088896   \n",
       "25%                9.010791                10.354199   \n",
       "50%                9.855911                10.952961   \n",
       "75%               10.453130                11.808672   \n",
       "max               43.515665                64.571588   \n",
       "\n",
       "       dropoff_distance_laguardia  distance_log  abs_diff_latitude_log  \\\n",
       "count                 9914.000000   9914.000000            9914.000000   \n",
       "mean                     5.551162     -0.761367              -4.601563   \n",
       "std                      1.597437      3.531889               3.150416   \n",
       "min                      0.000563    -36.043653             -36.043653   \n",
       "25%                      4.904470     -1.083217              -4.922830   \n",
       "50%                      5.731228     -0.357699              -4.218888   \n",
       "75%                      6.326527      0.268983              -3.566273   \n",
       "max                     47.597004      3.820898              -0.456948   \n",
       "\n",
       "       abs_diff_longitude_log  \n",
       "count             9914.000000  \n",
       "mean                -4.702361  \n",
       "std                  3.190063  \n",
       "min                -36.043653  \n",
       "25%                 -5.058749  \n",
       "50%                 -4.333389  \n",
       "75%                 -3.706738  \n",
       "max                 -0.163498  \n",
       "\n",
       "[8 rows x 22 columns]"
      ]
     },
     "execution_count": 133,
     "metadata": {},
     "output_type": "execute_result"
    }
   ],
   "source": [
    "test.describe()"
   ]
  },
  {
   "cell_type": "code",
   "execution_count": 134,
   "metadata": {},
   "outputs": [
    {
     "data": {
      "text/plain": [
       "key                           0\n",
       "pickup_datetime               0\n",
       "pickup_longitude              0\n",
       "pickup_latitude               0\n",
       "dropoff_longitude             0\n",
       "dropoff_latitude              0\n",
       "passenger_count               0\n",
       "weekday                       0\n",
       "year                          0\n",
       "month                         0\n",
       "day                           0\n",
       "hour                          0\n",
       "abs_diff_longitude            0\n",
       "abs_diff_latitude             0\n",
       "distance                      0\n",
       "pickup_distance_jfk           0\n",
       "pickup_distance_laguardia     0\n",
       "pickup_distance_newark        0\n",
       "dropoff_distance_jfk          0\n",
       "dropoff_distance_newark       0\n",
       "dropoff_distance_laguardia    0\n",
       "distance_log                  0\n",
       "abs_diff_latitude_log         0\n",
       "abs_diff_longitude_log        0\n",
       "dtype: int64"
      ]
     },
     "execution_count": 134,
     "metadata": {},
     "output_type": "execute_result"
    }
   ],
   "source": [
    "#data is clean of NaNs\n",
    "test.isna().sum()"
   ]
  },
  {
   "cell_type": "code",
   "execution_count": 135,
   "metadata": {},
   "outputs": [
    {
     "data": {
      "text/html": [
       "<div>\n",
       "<style scoped>\n",
       "    .dataframe tbody tr th:only-of-type {\n",
       "        vertical-align: middle;\n",
       "    }\n",
       "\n",
       "    .dataframe tbody tr th {\n",
       "        vertical-align: top;\n",
       "    }\n",
       "\n",
       "    .dataframe thead th {\n",
       "        text-align: right;\n",
       "    }\n",
       "</style>\n",
       "<table border=\"1\" class=\"dataframe\">\n",
       "  <thead>\n",
       "    <tr style=\"text-align: right;\">\n",
       "      <th></th>\n",
       "      <th>key</th>\n",
       "      <th>pickup_datetime</th>\n",
       "      <th>pickup_longitude</th>\n",
       "      <th>pickup_latitude</th>\n",
       "      <th>dropoff_longitude</th>\n",
       "      <th>dropoff_latitude</th>\n",
       "      <th>passenger_count</th>\n",
       "      <th>weekday</th>\n",
       "      <th>year</th>\n",
       "      <th>month</th>\n",
       "      <th>...</th>\n",
       "      <th>distance</th>\n",
       "      <th>pickup_distance_jfk</th>\n",
       "      <th>pickup_distance_laguardia</th>\n",
       "      <th>pickup_distance_newark</th>\n",
       "      <th>dropoff_distance_jfk</th>\n",
       "      <th>dropoff_distance_newark</th>\n",
       "      <th>dropoff_distance_laguardia</th>\n",
       "      <th>distance_log</th>\n",
       "      <th>abs_diff_latitude_log</th>\n",
       "      <th>abs_diff_longitude_log</th>\n",
       "    </tr>\n",
       "  </thead>\n",
       "  <tbody>\n",
       "  </tbody>\n",
       "</table>\n",
       "<p>0 rows × 24 columns</p>\n",
       "</div>"
      ],
      "text/plain": [
       "Empty DataFrame\n",
       "Columns: [key, pickup_datetime, pickup_longitude, pickup_latitude, dropoff_longitude, dropoff_latitude, passenger_count, weekday, year, month, day, hour, abs_diff_longitude, abs_diff_latitude, distance, pickup_distance_jfk, pickup_distance_laguardia, pickup_distance_newark, dropoff_distance_jfk, dropoff_distance_newark, dropoff_distance_laguardia, distance_log, abs_diff_latitude_log, abs_diff_longitude_log]\n",
       "Index: []\n",
       "\n",
       "[0 rows x 24 columns]"
      ]
     },
     "execution_count": 135,
     "metadata": {},
     "output_type": "execute_result"
    }
   ],
   "source": [
    "#Check also about the coordinates\n",
    "\n",
    "test[ (test.pickup_longitude < -180) | (test.pickup_longitude > 180) | \\\n",
    "              (test.dropoff_longitude < -180) | (test.dropoff_longitude > 180) | \\\n",
    "              (test.pickup_latitude < -90) | (test.pickup_latitude > 90) | \\\n",
    "              (test.dropoff_latitude < -90) | (test.dropoff_latitude > 90) ]\n"
   ]
  },
  {
   "cell_type": "code",
   "execution_count": 136,
   "metadata": {},
   "outputs": [
    {
     "data": {
      "text/plain": [
       "86"
      ]
     },
     "execution_count": 136,
     "metadata": {},
     "output_type": "execute_result"
    }
   ],
   "source": [
    "sum(test.distance == 0)"
   ]
  },
  {
   "cell_type": "markdown",
   "metadata": {},
   "source": [
    "Select the features for prediction"
   ]
  },
  {
   "cell_type": "code",
   "execution_count": 138,
   "metadata": {},
   "outputs": [],
   "source": [
    "test_feats = test[feature_set]"
   ]
  },
  {
   "cell_type": "code",
   "execution_count": 139,
   "metadata": {},
   "outputs": [
    {
     "data": {
      "text/html": [
       "<div>\n",
       "<style scoped>\n",
       "    .dataframe tbody tr th:only-of-type {\n",
       "        vertical-align: middle;\n",
       "    }\n",
       "\n",
       "    .dataframe tbody tr th {\n",
       "        vertical-align: top;\n",
       "    }\n",
       "\n",
       "    .dataframe thead th {\n",
       "        text-align: right;\n",
       "    }\n",
       "</style>\n",
       "<table border=\"1\" class=\"dataframe\">\n",
       "  <thead>\n",
       "    <tr style=\"text-align: right;\">\n",
       "      <th></th>\n",
       "      <th>pickup_longitude</th>\n",
       "      <th>pickup_latitude</th>\n",
       "      <th>dropoff_longitude</th>\n",
       "      <th>dropoff_latitude</th>\n",
       "      <th>passenger_count</th>\n",
       "      <th>weekday</th>\n",
       "      <th>year</th>\n",
       "      <th>month</th>\n",
       "      <th>day</th>\n",
       "      <th>hour</th>\n",
       "      <th>abs_diff_longitude</th>\n",
       "      <th>abs_diff_latitude</th>\n",
       "      <th>distance</th>\n",
       "      <th>pickup_distance_jfk</th>\n",
       "      <th>pickup_distance_laguardia</th>\n",
       "      <th>pickup_distance_newark</th>\n",
       "      <th>dropoff_distance_jfk</th>\n",
       "      <th>dropoff_distance_newark</th>\n",
       "      <th>dropoff_distance_laguardia</th>\n",
       "    </tr>\n",
       "  </thead>\n",
       "  <tbody>\n",
       "    <tr>\n",
       "      <th>count</th>\n",
       "      <td>9914.000000</td>\n",
       "      <td>9914.000000</td>\n",
       "      <td>9914.000000</td>\n",
       "      <td>9914.000000</td>\n",
       "      <td>9914.000000</td>\n",
       "      <td>9914.000000</td>\n",
       "      <td>9914.000000</td>\n",
       "      <td>9914.000000</td>\n",
       "      <td>9914.000000</td>\n",
       "      <td>9914.000000</td>\n",
       "      <td>9914.000000</td>\n",
       "      <td>9914.000000</td>\n",
       "      <td>9914.000000</td>\n",
       "      <td>9914.000000</td>\n",
       "      <td>9914.000000</td>\n",
       "      <td>9914.000000</td>\n",
       "      <td>9914.000000</td>\n",
       "      <td>9914.000000</td>\n",
       "      <td>9914.000000</td>\n",
       "    </tr>\n",
       "    <tr>\n",
       "      <th>mean</th>\n",
       "      <td>-73.974722</td>\n",
       "      <td>40.751041</td>\n",
       "      <td>-73.973657</td>\n",
       "      <td>40.751743</td>\n",
       "      <td>1.671273</td>\n",
       "      <td>2.852834</td>\n",
       "      <td>2011.815816</td>\n",
       "      <td>6.857979</td>\n",
       "      <td>16.194170</td>\n",
       "      <td>13.467420</td>\n",
       "      <td>0.023348</td>\n",
       "      <td>0.022133</td>\n",
       "      <td>1.243933</td>\n",
       "      <td>9.648597</td>\n",
       "      <td>5.685396</td>\n",
       "      <td>11.237838</td>\n",
       "      <td>9.570293</td>\n",
       "      <td>11.294917</td>\n",
       "      <td>5.551162</td>\n",
       "    </tr>\n",
       "    <tr>\n",
       "      <th>std</th>\n",
       "      <td>0.042774</td>\n",
       "      <td>0.033541</td>\n",
       "      <td>0.039072</td>\n",
       "      <td>0.035435</td>\n",
       "      <td>1.278747</td>\n",
       "      <td>1.994451</td>\n",
       "      <td>1.803347</td>\n",
       "      <td>3.353272</td>\n",
       "      <td>8.838482</td>\n",
       "      <td>6.868584</td>\n",
       "      <td>0.036719</td>\n",
       "      <td>0.025589</td>\n",
       "      <td>1.958653</td>\n",
       "      <td>1.933168</td>\n",
       "      <td>1.589563</td>\n",
       "      <td>2.283139</td>\n",
       "      <td>1.812506</td>\n",
       "      <td>2.083768</td>\n",
       "      <td>1.597437</td>\n",
       "    </tr>\n",
       "    <tr>\n",
       "      <th>min</th>\n",
       "      <td>-74.252193</td>\n",
       "      <td>40.573143</td>\n",
       "      <td>-74.263242</td>\n",
       "      <td>40.568973</td>\n",
       "      <td>1.000000</td>\n",
       "      <td>0.000000</td>\n",
       "      <td>2009.000000</td>\n",
       "      <td>1.000000</td>\n",
       "      <td>1.000000</td>\n",
       "      <td>0.000000</td>\n",
       "      <td>0.000000</td>\n",
       "      <td>0.000000</td>\n",
       "      <td>0.000000</td>\n",
       "      <td>0.009949</td>\n",
       "      <td>0.005357</td>\n",
       "      <td>1.905468</td>\n",
       "      <td>0.041663</td>\n",
       "      <td>0.088896</td>\n",
       "      <td>0.000563</td>\n",
       "    </tr>\n",
       "    <tr>\n",
       "      <th>25%</th>\n",
       "      <td>-73.992501</td>\n",
       "      <td>40.736125</td>\n",
       "      <td>-73.991247</td>\n",
       "      <td>40.735254</td>\n",
       "      <td>1.000000</td>\n",
       "      <td>1.000000</td>\n",
       "      <td>2010.000000</td>\n",
       "      <td>4.000000</td>\n",
       "      <td>9.000000</td>\n",
       "      <td>8.000000</td>\n",
       "      <td>0.006354</td>\n",
       "      <td>0.007279</td>\n",
       "      <td>0.338505</td>\n",
       "      <td>9.220034</td>\n",
       "      <td>5.094757</td>\n",
       "      <td>10.287253</td>\n",
       "      <td>9.010791</td>\n",
       "      <td>10.354199</td>\n",
       "      <td>4.904470</td>\n",
       "    </tr>\n",
       "    <tr>\n",
       "      <th>50%</th>\n",
       "      <td>-73.982326</td>\n",
       "      <td>40.753051</td>\n",
       "      <td>-73.980015</td>\n",
       "      <td>40.754065</td>\n",
       "      <td>1.000000</td>\n",
       "      <td>3.000000</td>\n",
       "      <td>2012.000000</td>\n",
       "      <td>7.000000</td>\n",
       "      <td>16.000000</td>\n",
       "      <td>15.000000</td>\n",
       "      <td>0.013123</td>\n",
       "      <td>0.014715</td>\n",
       "      <td>0.699284</td>\n",
       "      <td>9.979375</td>\n",
       "      <td>5.851000</td>\n",
       "      <td>10.833266</td>\n",
       "      <td>9.855911</td>\n",
       "      <td>10.952961</td>\n",
       "      <td>5.731228</td>\n",
       "    </tr>\n",
       "    <tr>\n",
       "      <th>75%</th>\n",
       "      <td>-73.968013</td>\n",
       "      <td>40.767113</td>\n",
       "      <td>-73.964059</td>\n",
       "      <td>40.768757</td>\n",
       "      <td>2.000000</td>\n",
       "      <td>5.000000</td>\n",
       "      <td>2014.000000</td>\n",
       "      <td>10.000000</td>\n",
       "      <td>25.000000</td>\n",
       "      <td>19.000000</td>\n",
       "      <td>0.024557</td>\n",
       "      <td>0.028261</td>\n",
       "      <td>1.308633</td>\n",
       "      <td>10.521719</td>\n",
       "      <td>6.393444</td>\n",
       "      <td>11.599358</td>\n",
       "      <td>10.453130</td>\n",
       "      <td>11.808672</td>\n",
       "      <td>6.326527</td>\n",
       "    </tr>\n",
       "    <tr>\n",
       "      <th>max</th>\n",
       "      <td>-72.986532</td>\n",
       "      <td>41.709555</td>\n",
       "      <td>-72.990963</td>\n",
       "      <td>41.696683</td>\n",
       "      <td>6.000000</td>\n",
       "      <td>6.000000</td>\n",
       "      <td>2015.000000</td>\n",
       "      <td>12.000000</td>\n",
       "      <td>31.000000</td>\n",
       "      <td>23.000000</td>\n",
       "      <td>0.849168</td>\n",
       "      <td>0.633213</td>\n",
       "      <td>45.645175</td>\n",
       "      <td>43.763288</td>\n",
       "      <td>47.844913</td>\n",
       "      <td>64.822849</td>\n",
       "      <td>43.515665</td>\n",
       "      <td>64.571588</td>\n",
       "      <td>47.597004</td>\n",
       "    </tr>\n",
       "  </tbody>\n",
       "</table>\n",
       "</div>"
      ],
      "text/plain": [
       "       pickup_longitude  pickup_latitude  dropoff_longitude  dropoff_latitude  \\\n",
       "count       9914.000000      9914.000000        9914.000000       9914.000000   \n",
       "mean         -73.974722        40.751041         -73.973657         40.751743   \n",
       "std            0.042774         0.033541           0.039072          0.035435   \n",
       "min          -74.252193        40.573143         -74.263242         40.568973   \n",
       "25%          -73.992501        40.736125         -73.991247         40.735254   \n",
       "50%          -73.982326        40.753051         -73.980015         40.754065   \n",
       "75%          -73.968013        40.767113         -73.964059         40.768757   \n",
       "max          -72.986532        41.709555         -72.990963         41.696683   \n",
       "\n",
       "       passenger_count      weekday         year        month          day  \\\n",
       "count      9914.000000  9914.000000  9914.000000  9914.000000  9914.000000   \n",
       "mean          1.671273     2.852834  2011.815816     6.857979    16.194170   \n",
       "std           1.278747     1.994451     1.803347     3.353272     8.838482   \n",
       "min           1.000000     0.000000  2009.000000     1.000000     1.000000   \n",
       "25%           1.000000     1.000000  2010.000000     4.000000     9.000000   \n",
       "50%           1.000000     3.000000  2012.000000     7.000000    16.000000   \n",
       "75%           2.000000     5.000000  2014.000000    10.000000    25.000000   \n",
       "max           6.000000     6.000000  2015.000000    12.000000    31.000000   \n",
       "\n",
       "              hour  abs_diff_longitude  abs_diff_latitude     distance  \\\n",
       "count  9914.000000         9914.000000        9914.000000  9914.000000   \n",
       "mean     13.467420            0.023348           0.022133     1.243933   \n",
       "std       6.868584            0.036719           0.025589     1.958653   \n",
       "min       0.000000            0.000000           0.000000     0.000000   \n",
       "25%       8.000000            0.006354           0.007279     0.338505   \n",
       "50%      15.000000            0.013123           0.014715     0.699284   \n",
       "75%      19.000000            0.024557           0.028261     1.308633   \n",
       "max      23.000000            0.849168           0.633213    45.645175   \n",
       "\n",
       "       pickup_distance_jfk  pickup_distance_laguardia  pickup_distance_newark  \\\n",
       "count          9914.000000                9914.000000             9914.000000   \n",
       "mean              9.648597                   5.685396               11.237838   \n",
       "std               1.933168                   1.589563                2.283139   \n",
       "min               0.009949                   0.005357                1.905468   \n",
       "25%               9.220034                   5.094757               10.287253   \n",
       "50%               9.979375                   5.851000               10.833266   \n",
       "75%              10.521719                   6.393444               11.599358   \n",
       "max              43.763288                  47.844913               64.822849   \n",
       "\n",
       "       dropoff_distance_jfk  dropoff_distance_newark  \\\n",
       "count           9914.000000              9914.000000   \n",
       "mean               9.570293                11.294917   \n",
       "std                1.812506                 2.083768   \n",
       "min                0.041663                 0.088896   \n",
       "25%                9.010791                10.354199   \n",
       "50%                9.855911                10.952961   \n",
       "75%               10.453130                11.808672   \n",
       "max               43.515665                64.571588   \n",
       "\n",
       "       dropoff_distance_laguardia  \n",
       "count                 9914.000000  \n",
       "mean                     5.551162  \n",
       "std                      1.597437  \n",
       "min                      0.000563  \n",
       "25%                      4.904470  \n",
       "50%                      5.731228  \n",
       "75%                      6.326527  \n",
       "max                     47.597004  "
      ]
     },
     "execution_count": 139,
     "metadata": {},
     "output_type": "execute_result"
    }
   ],
   "source": [
    "test_feats.describe()"
   ]
  },
  {
   "cell_type": "markdown",
   "metadata": {},
   "source": [
    "### Prediction:"
   ]
  },
  {
   "cell_type": "code",
   "execution_count": 140,
   "metadata": {},
   "outputs": [],
   "source": [
    "y_testPred_tuned_xgbr = tuned_xgbr.predict(test_feats)"
   ]
  },
  {
   "cell_type": "markdown",
   "metadata": {},
   "source": [
    "### Create csv file with predictions"
   ]
  },
  {
   "cell_type": "code",
   "execution_count": 143,
   "metadata": {},
   "outputs": [],
   "source": [
    "submission = pd.read_csv('sample_submission.csv')\n",
    "submission['fare_amount'] = y_testPred_tuned_xgbr\n",
    "submission.to_csv('submission_test.csv', index=False)"
   ]
  },
  {
   "cell_type": "code",
   "execution_count": 145,
   "metadata": {},
   "outputs": [
    {
     "data": {
      "text/html": [
       "<div>\n",
       "<style scoped>\n",
       "    .dataframe tbody tr th:only-of-type {\n",
       "        vertical-align: middle;\n",
       "    }\n",
       "\n",
       "    .dataframe tbody tr th {\n",
       "        vertical-align: top;\n",
       "    }\n",
       "\n",
       "    .dataframe thead th {\n",
       "        text-align: right;\n",
       "    }\n",
       "</style>\n",
       "<table border=\"1\" class=\"dataframe\">\n",
       "  <thead>\n",
       "    <tr style=\"text-align: right;\">\n",
       "      <th></th>\n",
       "      <th>key</th>\n",
       "      <th>fare_amount</th>\n",
       "    </tr>\n",
       "  </thead>\n",
       "  <tbody>\n",
       "    <tr>\n",
       "      <th>0</th>\n",
       "      <td>2015-01-27 13:08:24.0000002</td>\n",
       "      <td>10.473106</td>\n",
       "    </tr>\n",
       "    <tr>\n",
       "      <th>1</th>\n",
       "      <td>2015-01-27 13:08:24.0000003</td>\n",
       "      <td>10.243099</td>\n",
       "    </tr>\n",
       "    <tr>\n",
       "      <th>2</th>\n",
       "      <td>2011-10-08 11:53:44.0000002</td>\n",
       "      <td>4.685626</td>\n",
       "    </tr>\n",
       "    <tr>\n",
       "      <th>3</th>\n",
       "      <td>2012-12-01 21:12:12.0000002</td>\n",
       "      <td>8.538606</td>\n",
       "    </tr>\n",
       "    <tr>\n",
       "      <th>4</th>\n",
       "      <td>2012-12-01 21:12:12.0000003</td>\n",
       "      <td>15.312421</td>\n",
       "    </tr>\n",
       "  </tbody>\n",
       "</table>\n",
       "</div>"
      ],
      "text/plain": [
       "                           key  fare_amount\n",
       "0  2015-01-27 13:08:24.0000002    10.473106\n",
       "1  2015-01-27 13:08:24.0000003    10.243099\n",
       "2  2011-10-08 11:53:44.0000002     4.685626\n",
       "3  2012-12-01 21:12:12.0000002     8.538606\n",
       "4  2012-12-01 21:12:12.0000003    15.312421"
      ]
     },
     "execution_count": 145,
     "metadata": {},
     "output_type": "execute_result"
    }
   ],
   "source": [
    "submission.head(5)"
   ]
  },
  {
   "cell_type": "code",
   "execution_count": null,
   "metadata": {},
   "outputs": [],
   "source": []
  }
 ],
 "metadata": {
  "colab": {
   "collapsed_sections": [],
   "include_colab_link": true,
   "name": "NYTaxiFare_1_ExploratoryAnalysis_&_Preprocessing.ipynb",
   "provenance": []
  },
  "kernelspec": {
   "display_name": "kernpy3",
   "language": "python",
   "name": "kernpy3"
  },
  "language_info": {
   "codemirror_mode": {
    "name": "ipython",
    "version": 3
   },
   "file_extension": ".py",
   "mimetype": "text/x-python",
   "name": "python",
   "nbconvert_exporter": "python",
   "pygments_lexer": "ipython3",
   "version": "3.6.9"
  }
 },
 "nbformat": 4,
 "nbformat_minor": 1
}
