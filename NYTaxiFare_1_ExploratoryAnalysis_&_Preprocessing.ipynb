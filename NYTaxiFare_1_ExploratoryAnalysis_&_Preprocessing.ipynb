{
  "nbformat": 4,
  "nbformat_minor": 0,
  "metadata": {
    "colab": {
      "name": "NYTaxiFare_1_ExploratoryAnalysis_&_Preprocessing.ipynb",
      "provenance": [],
      "collapsed_sections": [],
      "include_colab_link": true
    },
    "kernelspec": {
      "name": "python3",
      "display_name": "Python 3"
    }
  },
  "cells": [
    {
      "cell_type": "markdown",
      "metadata": {
        "id": "view-in-github",
        "colab_type": "text"
      },
      "source": [
        "<a href=\"https://colab.research.google.com/github/ana-rlopez/ny_taxi_fare_prediction/blob/master/NYTaxiFare_1_ExploratoryAnalysis_%26_Preprocessing.ipynb\" target=\"_parent\"><img src=\"https://colab.research.google.com/assets/colab-badge.svg\" alt=\"Open In Colab\"/></a>"
      ]
    },
    {
      "cell_type": "code",
      "metadata": {
        "id": "of4LCPeltVMG",
        "colab_type": "code",
        "colab": {}
      },
      "source": [
        "import numpy as np\n",
        "import pandas as pd\n",
        "import matplotlib.pyplot as plt\n",
        "import seaborn as sns\n",
        "import sys\n",
        "from geopy.distance import vincenty\n",
        "from yellowbrick.target import FeatureCorrelation\n",
        "import sklearn"
      ],
      "execution_count": 0,
      "outputs": []
    },
    {
      "cell_type": "code",
      "metadata": {
        "id": "31lNgv3Y2Sjk",
        "colab_type": "code",
        "outputId": "e3af7b71-5307-42f6-fb8e-1fa6f574cb6b",
        "colab": {
          "base_uri": "https://localhost:8080/",
          "height": 54
        }
      },
      "source": [
        "from google.colab import drive\n",
        "drive.mount('/content/drive')\n",
        "train_path = '/content/drive/My Drive/Colab Notebooks/train.csv'"
      ],
      "execution_count": 0,
      "outputs": [
        {
          "output_type": "stream",
          "text": [
            "Drive already mounted at /content/drive; to attempt to forcibly remount, call drive.mount(\"/content/drive\", force_remount=True).\n"
          ],
          "name": "stdout"
        }
      ]
    },
    {
      "cell_type": "code",
      "metadata": {
        "id": "fNS7UyE9FWXh",
        "colab_type": "code",
        "outputId": "e8809129-ab10-4b95-b377-94d56e3e0bb9",
        "colab": {
          "base_uri": "https://localhost:8080/",
          "height": 313
        }
      },
      "source": [
        "train = pd.read_csv(train_path, nrows=1_000_000) #we don't select all rows, since it is a big dataset\n",
        "train.head()"
      ],
      "execution_count": 0,
      "outputs": [
        {
          "output_type": "execute_result",
          "data": {
            "text/html": [
              "<div>\n",
              "<style scoped>\n",
              "    .dataframe tbody tr th:only-of-type {\n",
              "        vertical-align: middle;\n",
              "    }\n",
              "\n",
              "    .dataframe tbody tr th {\n",
              "        vertical-align: top;\n",
              "    }\n",
              "\n",
              "    .dataframe thead th {\n",
              "        text-align: right;\n",
              "    }\n",
              "</style>\n",
              "<table border=\"1\" class=\"dataframe\">\n",
              "  <thead>\n",
              "    <tr style=\"text-align: right;\">\n",
              "      <th></th>\n",
              "      <th>key</th>\n",
              "      <th>fare_amount</th>\n",
              "      <th>pickup_datetime</th>\n",
              "      <th>pickup_longitude</th>\n",
              "      <th>pickup_latitude</th>\n",
              "      <th>dropoff_longitude</th>\n",
              "      <th>dropoff_latitude</th>\n",
              "      <th>passenger_count</th>\n",
              "    </tr>\n",
              "  </thead>\n",
              "  <tbody>\n",
              "    <tr>\n",
              "      <th>0</th>\n",
              "      <td>2009-06-15 17:26:21.0000001</td>\n",
              "      <td>4.5</td>\n",
              "      <td>2009-06-15 17:26:21 UTC</td>\n",
              "      <td>-73.844311</td>\n",
              "      <td>40.721319</td>\n",
              "      <td>-73.841610</td>\n",
              "      <td>40.712278</td>\n",
              "      <td>1</td>\n",
              "    </tr>\n",
              "    <tr>\n",
              "      <th>1</th>\n",
              "      <td>2010-01-05 16:52:16.0000002</td>\n",
              "      <td>16.9</td>\n",
              "      <td>2010-01-05 16:52:16 UTC</td>\n",
              "      <td>-74.016048</td>\n",
              "      <td>40.711303</td>\n",
              "      <td>-73.979268</td>\n",
              "      <td>40.782004</td>\n",
              "      <td>1</td>\n",
              "    </tr>\n",
              "    <tr>\n",
              "      <th>2</th>\n",
              "      <td>2011-08-18 00:35:00.00000049</td>\n",
              "      <td>5.7</td>\n",
              "      <td>2011-08-18 00:35:00 UTC</td>\n",
              "      <td>-73.982738</td>\n",
              "      <td>40.761270</td>\n",
              "      <td>-73.991242</td>\n",
              "      <td>40.750562</td>\n",
              "      <td>2</td>\n",
              "    </tr>\n",
              "    <tr>\n",
              "      <th>3</th>\n",
              "      <td>2012-04-21 04:30:42.0000001</td>\n",
              "      <td>7.7</td>\n",
              "      <td>2012-04-21 04:30:42 UTC</td>\n",
              "      <td>-73.987130</td>\n",
              "      <td>40.733143</td>\n",
              "      <td>-73.991567</td>\n",
              "      <td>40.758092</td>\n",
              "      <td>1</td>\n",
              "    </tr>\n",
              "    <tr>\n",
              "      <th>4</th>\n",
              "      <td>2010-03-09 07:51:00.000000135</td>\n",
              "      <td>5.3</td>\n",
              "      <td>2010-03-09 07:51:00 UTC</td>\n",
              "      <td>-73.968095</td>\n",
              "      <td>40.768008</td>\n",
              "      <td>-73.956655</td>\n",
              "      <td>40.783762</td>\n",
              "      <td>1</td>\n",
              "    </tr>\n",
              "  </tbody>\n",
              "</table>\n",
              "</div>"
            ],
            "text/plain": [
              "                             key  ...  passenger_count\n",
              "0    2009-06-15 17:26:21.0000001  ...                1\n",
              "1    2010-01-05 16:52:16.0000002  ...                1\n",
              "2   2011-08-18 00:35:00.00000049  ...                2\n",
              "3    2012-04-21 04:30:42.0000001  ...                1\n",
              "4  2010-03-09 07:51:00.000000135  ...                1\n",
              "\n",
              "[5 rows x 8 columns]"
            ]
          },
          "metadata": {
            "tags": []
          },
          "execution_count": 3
        }
      ]
    },
    {
      "cell_type": "code",
      "metadata": {
        "id": "mmChemjEL1Yf",
        "colab_type": "code",
        "outputId": "65f69b23-40b1-48ff-9c48-27f0eeb89b56",
        "colab": {
          "base_uri": "https://localhost:8080/",
          "height": 34
        }
      },
      "source": [
        "#check if there are some NaN values\n",
        "train.columns[train.isna().any()].tolist()"
      ],
      "execution_count": 0,
      "outputs": [
        {
          "output_type": "execute_result",
          "data": {
            "text/plain": [
              "['dropoff_longitude', 'dropoff_latitude']"
            ]
          },
          "metadata": {
            "tags": []
          },
          "execution_count": 4
        }
      ]
    },
    {
      "cell_type": "code",
      "metadata": {
        "id": "IZ746OzJM2db",
        "colab_type": "code",
        "outputId": "8fd12eac-13d9-4594-984c-940d61b52be6",
        "colab": {
          "base_uri": "https://localhost:8080/",
          "height": 34
        }
      },
      "source": [
        "#we drop these values given that the data set is quite big\n",
        "#original rows: 1_000_000\n",
        "train.dropna(inplace=True)\n",
        "train.shape[0]"
      ],
      "execution_count": 0,
      "outputs": [
        {
          "output_type": "execute_result",
          "data": {
            "text/plain": [
              "999990"
            ]
          },
          "metadata": {
            "tags": []
          },
          "execution_count": 5
        }
      ]
    },
    {
      "cell_type": "code",
      "metadata": {
        "id": "RFcZ_C94W47i",
        "colab_type": "code",
        "outputId": "55e1ee8c-f677-44b8-caad-afce37a07865",
        "colab": {
          "base_uri": "https://localhost:8080/",
          "height": 34
        }
      },
      "source": [
        "#drop duplicates\n",
        "train.drop_duplicates(keep = 'first', inplace = True)\n",
        "train.shape[0]"
      ],
      "execution_count": 0,
      "outputs": [
        {
          "output_type": "execute_result",
          "data": {
            "text/plain": [
              "999990"
            ]
          },
          "metadata": {
            "tags": []
          },
          "execution_count": 6
        }
      ]
    },
    {
      "cell_type": "code",
      "metadata": {
        "id": "1btPygyu3z7y",
        "colab_type": "code",
        "outputId": "fa670d30-5020-4b0a-ebe8-1b81c4e06aa6",
        "colab": {
          "base_uri": "https://localhost:8080/",
          "height": 313
        }
      },
      "source": [
        "train.head()"
      ],
      "execution_count": 0,
      "outputs": [
        {
          "output_type": "execute_result",
          "data": {
            "text/html": [
              "<div>\n",
              "<style scoped>\n",
              "    .dataframe tbody tr th:only-of-type {\n",
              "        vertical-align: middle;\n",
              "    }\n",
              "\n",
              "    .dataframe tbody tr th {\n",
              "        vertical-align: top;\n",
              "    }\n",
              "\n",
              "    .dataframe thead th {\n",
              "        text-align: right;\n",
              "    }\n",
              "</style>\n",
              "<table border=\"1\" class=\"dataframe\">\n",
              "  <thead>\n",
              "    <tr style=\"text-align: right;\">\n",
              "      <th></th>\n",
              "      <th>key</th>\n",
              "      <th>fare_amount</th>\n",
              "      <th>pickup_datetime</th>\n",
              "      <th>pickup_longitude</th>\n",
              "      <th>pickup_latitude</th>\n",
              "      <th>dropoff_longitude</th>\n",
              "      <th>dropoff_latitude</th>\n",
              "      <th>passenger_count</th>\n",
              "    </tr>\n",
              "  </thead>\n",
              "  <tbody>\n",
              "    <tr>\n",
              "      <th>0</th>\n",
              "      <td>2009-06-15 17:26:21.0000001</td>\n",
              "      <td>4.5</td>\n",
              "      <td>2009-06-15 17:26:21 UTC</td>\n",
              "      <td>-73.844311</td>\n",
              "      <td>40.721319</td>\n",
              "      <td>-73.841610</td>\n",
              "      <td>40.712278</td>\n",
              "      <td>1</td>\n",
              "    </tr>\n",
              "    <tr>\n",
              "      <th>1</th>\n",
              "      <td>2010-01-05 16:52:16.0000002</td>\n",
              "      <td>16.9</td>\n",
              "      <td>2010-01-05 16:52:16 UTC</td>\n",
              "      <td>-74.016048</td>\n",
              "      <td>40.711303</td>\n",
              "      <td>-73.979268</td>\n",
              "      <td>40.782004</td>\n",
              "      <td>1</td>\n",
              "    </tr>\n",
              "    <tr>\n",
              "      <th>2</th>\n",
              "      <td>2011-08-18 00:35:00.00000049</td>\n",
              "      <td>5.7</td>\n",
              "      <td>2011-08-18 00:35:00 UTC</td>\n",
              "      <td>-73.982738</td>\n",
              "      <td>40.761270</td>\n",
              "      <td>-73.991242</td>\n",
              "      <td>40.750562</td>\n",
              "      <td>2</td>\n",
              "    </tr>\n",
              "    <tr>\n",
              "      <th>3</th>\n",
              "      <td>2012-04-21 04:30:42.0000001</td>\n",
              "      <td>7.7</td>\n",
              "      <td>2012-04-21 04:30:42 UTC</td>\n",
              "      <td>-73.987130</td>\n",
              "      <td>40.733143</td>\n",
              "      <td>-73.991567</td>\n",
              "      <td>40.758092</td>\n",
              "      <td>1</td>\n",
              "    </tr>\n",
              "    <tr>\n",
              "      <th>4</th>\n",
              "      <td>2010-03-09 07:51:00.000000135</td>\n",
              "      <td>5.3</td>\n",
              "      <td>2010-03-09 07:51:00 UTC</td>\n",
              "      <td>-73.968095</td>\n",
              "      <td>40.768008</td>\n",
              "      <td>-73.956655</td>\n",
              "      <td>40.783762</td>\n",
              "      <td>1</td>\n",
              "    </tr>\n",
              "  </tbody>\n",
              "</table>\n",
              "</div>"
            ],
            "text/plain": [
              "                             key  ...  passenger_count\n",
              "0    2009-06-15 17:26:21.0000001  ...                1\n",
              "1    2010-01-05 16:52:16.0000002  ...                1\n",
              "2   2011-08-18 00:35:00.00000049  ...                2\n",
              "3    2012-04-21 04:30:42.0000001  ...                1\n",
              "4  2010-03-09 07:51:00.000000135  ...                1\n",
              "\n",
              "[5 rows x 8 columns]"
            ]
          },
          "metadata": {
            "tags": []
          },
          "execution_count": 7
        }
      ]
    },
    {
      "cell_type": "code",
      "metadata": {
        "id": "8jW_Vb2zN29Q",
        "colab_type": "code",
        "outputId": "4da9e4cb-d9ef-42c7-e145-14e7925b4c99",
        "colab": {
          "base_uri": "https://localhost:8080/",
          "height": 173
        }
      },
      "source": [
        "train.dtypes"
      ],
      "execution_count": 0,
      "outputs": [
        {
          "output_type": "execute_result",
          "data": {
            "text/plain": [
              "key                   object\n",
              "fare_amount          float64\n",
              "pickup_datetime       object\n",
              "pickup_longitude     float64\n",
              "pickup_latitude      float64\n",
              "dropoff_longitude    float64\n",
              "dropoff_latitude     float64\n",
              "passenger_count        int64\n",
              "dtype: object"
            ]
          },
          "metadata": {
            "tags": []
          },
          "execution_count": 8
        }
      ]
    },
    {
      "cell_type": "code",
      "metadata": {
        "id": "lIxWk_vfN7Lw",
        "colab_type": "code",
        "outputId": "6706b4c9-ad59-4fee-d252-e59747518d89",
        "colab": {
          "base_uri": "https://localhost:8080/",
          "height": 173
        }
      },
      "source": [
        "train['key'] = pd.to_datetime(train['key'])\n",
        "train.dtypes"
      ],
      "execution_count": 0,
      "outputs": [
        {
          "output_type": "execute_result",
          "data": {
            "text/plain": [
              "key                  datetime64[ns]\n",
              "fare_amount                 float64\n",
              "pickup_datetime              object\n",
              "pickup_longitude            float64\n",
              "pickup_latitude             float64\n",
              "dropoff_longitude           float64\n",
              "dropoff_latitude            float64\n",
              "passenger_count               int64\n",
              "dtype: object"
            ]
          },
          "metadata": {
            "tags": []
          },
          "execution_count": 9
        }
      ]
    },
    {
      "cell_type": "code",
      "metadata": {
        "id": "eL5ZMp_VO7LQ",
        "colab_type": "code",
        "colab": {}
      },
      "source": [
        "#add features related with datetime\n",
        "train['weekday'] = train['key'].dt.dayofweek\n",
        "train['year']=train['key'].dt.year\n",
        "train['month']=train['key'].dt.month\n",
        "train['day']=train['key'].dt.day\n",
        "train['hour']=train['key'].dt.hour\n",
        "train['minute']=train['key'].dt.minute #needed?\n",
        "train['second']=train['key'].dt.second"
      ],
      "execution_count": 0,
      "outputs": []
    },
    {
      "cell_type": "code",
      "metadata": {
        "id": "yqBMJKJkx_uF",
        "colab_type": "code",
        "outputId": "385812cb-9f4a-4dd1-b6bf-89645d447735",
        "colab": {
          "base_uri": "https://localhost:8080/",
          "height": 320
        }
      },
      "source": [
        "train.describe()\n",
        "#check the describe to see if their values make sense"
      ],
      "execution_count": 0,
      "outputs": [
        {
          "output_type": "execute_result",
          "data": {
            "text/html": [
              "<div>\n",
              "<style scoped>\n",
              "    .dataframe tbody tr th:only-of-type {\n",
              "        vertical-align: middle;\n",
              "    }\n",
              "\n",
              "    .dataframe tbody tr th {\n",
              "        vertical-align: top;\n",
              "    }\n",
              "\n",
              "    .dataframe thead th {\n",
              "        text-align: right;\n",
              "    }\n",
              "</style>\n",
              "<table border=\"1\" class=\"dataframe\">\n",
              "  <thead>\n",
              "    <tr style=\"text-align: right;\">\n",
              "      <th></th>\n",
              "      <th>fare_amount</th>\n",
              "      <th>pickup_longitude</th>\n",
              "      <th>pickup_latitude</th>\n",
              "      <th>dropoff_longitude</th>\n",
              "      <th>dropoff_latitude</th>\n",
              "      <th>passenger_count</th>\n",
              "      <th>weekday</th>\n",
              "      <th>year</th>\n",
              "      <th>month</th>\n",
              "      <th>day</th>\n",
              "      <th>hour</th>\n",
              "      <th>minute</th>\n",
              "      <th>second</th>\n",
              "    </tr>\n",
              "  </thead>\n",
              "  <tbody>\n",
              "    <tr>\n",
              "      <th>count</th>\n",
              "      <td>999990.000000</td>\n",
              "      <td>999990.000000</td>\n",
              "      <td>999990.000000</td>\n",
              "      <td>999990.000000</td>\n",
              "      <td>999990.000000</td>\n",
              "      <td>999990.000000</td>\n",
              "      <td>999990.000000</td>\n",
              "      <td>999990.000000</td>\n",
              "      <td>999990.000000</td>\n",
              "      <td>999990.000000</td>\n",
              "      <td>999990.000000</td>\n",
              "      <td>999990.000000</td>\n",
              "      <td>999990.000000</td>\n",
              "    </tr>\n",
              "    <tr>\n",
              "      <th>mean</th>\n",
              "      <td>11.347953</td>\n",
              "      <td>-72.526699</td>\n",
              "      <td>39.929040</td>\n",
              "      <td>-72.527860</td>\n",
              "      <td>39.919954</td>\n",
              "      <td>1.684941</td>\n",
              "      <td>3.039870</td>\n",
              "      <td>2011.741103</td>\n",
              "      <td>6.267841</td>\n",
              "      <td>15.697996</td>\n",
              "      <td>13.509463</td>\n",
              "      <td>29.566313</td>\n",
              "      <td>15.868546</td>\n",
              "    </tr>\n",
              "    <tr>\n",
              "      <th>std</th>\n",
              "      <td>9.821790</td>\n",
              "      <td>12.057778</td>\n",
              "      <td>7.626087</td>\n",
              "      <td>11.324494</td>\n",
              "      <td>8.201418</td>\n",
              "      <td>1.323907</td>\n",
              "      <td>1.949966</td>\n",
              "      <td>1.860761</td>\n",
              "      <td>3.436230</td>\n",
              "      <td>8.682472</td>\n",
              "      <td>6.513855</td>\n",
              "      <td>17.322462</td>\n",
              "      <td>19.441629</td>\n",
              "    </tr>\n",
              "    <tr>\n",
              "      <th>min</th>\n",
              "      <td>-44.900000</td>\n",
              "      <td>-3377.680935</td>\n",
              "      <td>-3116.285383</td>\n",
              "      <td>-3383.296608</td>\n",
              "      <td>-3114.338567</td>\n",
              "      <td>0.000000</td>\n",
              "      <td>0.000000</td>\n",
              "      <td>2009.000000</td>\n",
              "      <td>1.000000</td>\n",
              "      <td>1.000000</td>\n",
              "      <td>0.000000</td>\n",
              "      <td>0.000000</td>\n",
              "      <td>0.000000</td>\n",
              "    </tr>\n",
              "    <tr>\n",
              "      <th>25%</th>\n",
              "      <td>6.000000</td>\n",
              "      <td>-73.992060</td>\n",
              "      <td>40.734965</td>\n",
              "      <td>-73.991385</td>\n",
              "      <td>40.734046</td>\n",
              "      <td>1.000000</td>\n",
              "      <td>1.000000</td>\n",
              "      <td>2010.000000</td>\n",
              "      <td>3.000000</td>\n",
              "      <td>8.000000</td>\n",
              "      <td>9.000000</td>\n",
              "      <td>15.000000</td>\n",
              "      <td>0.000000</td>\n",
              "    </tr>\n",
              "    <tr>\n",
              "      <th>50%</th>\n",
              "      <td>8.500000</td>\n",
              "      <td>-73.981792</td>\n",
              "      <td>40.752695</td>\n",
              "      <td>-73.980135</td>\n",
              "      <td>40.753166</td>\n",
              "      <td>1.000000</td>\n",
              "      <td>3.000000</td>\n",
              "      <td>2012.000000</td>\n",
              "      <td>6.000000</td>\n",
              "      <td>16.000000</td>\n",
              "      <td>14.000000</td>\n",
              "      <td>30.000000</td>\n",
              "      <td>4.000000</td>\n",
              "    </tr>\n",
              "    <tr>\n",
              "      <th>75%</th>\n",
              "      <td>12.500000</td>\n",
              "      <td>-73.967094</td>\n",
              "      <td>40.767154</td>\n",
              "      <td>-73.963654</td>\n",
              "      <td>40.768129</td>\n",
              "      <td>2.000000</td>\n",
              "      <td>5.000000</td>\n",
              "      <td>2013.000000</td>\n",
              "      <td>9.000000</td>\n",
              "      <td>23.000000</td>\n",
              "      <td>19.000000</td>\n",
              "      <td>45.000000</td>\n",
              "      <td>32.000000</td>\n",
              "    </tr>\n",
              "    <tr>\n",
              "      <th>max</th>\n",
              "      <td>500.000000</td>\n",
              "      <td>2522.271325</td>\n",
              "      <td>2621.628430</td>\n",
              "      <td>45.581619</td>\n",
              "      <td>1651.553433</td>\n",
              "      <td>208.000000</td>\n",
              "      <td>6.000000</td>\n",
              "      <td>2015.000000</td>\n",
              "      <td>12.000000</td>\n",
              "      <td>31.000000</td>\n",
              "      <td>23.000000</td>\n",
              "      <td>59.000000</td>\n",
              "      <td>59.000000</td>\n",
              "    </tr>\n",
              "  </tbody>\n",
              "</table>\n",
              "</div>"
            ],
            "text/plain": [
              "         fare_amount  pickup_longitude  ...         minute         second\n",
              "count  999990.000000     999990.000000  ...  999990.000000  999990.000000\n",
              "mean       11.347953        -72.526699  ...      29.566313      15.868546\n",
              "std         9.821790         12.057778  ...      17.322462      19.441629\n",
              "min       -44.900000      -3377.680935  ...       0.000000       0.000000\n",
              "25%         6.000000        -73.992060  ...      15.000000       0.000000\n",
              "50%         8.500000        -73.981792  ...      30.000000       4.000000\n",
              "75%        12.500000        -73.967094  ...      45.000000      32.000000\n",
              "max       500.000000       2522.271325  ...      59.000000      59.000000\n",
              "\n",
              "[8 rows x 13 columns]"
            ]
          },
          "metadata": {
            "tags": []
          },
          "execution_count": 11
        }
      ]
    },
    {
      "cell_type": "code",
      "metadata": {
        "id": "HG_0v9GCTMWU",
        "colab_type": "code",
        "colab": {}
      },
      "source": [
        "#based on these descriptors, we can at first sight already remove some outliers:\n",
        "#1) Latitudes range from -90 to 90. Longitudes range from -180 to 180.\n",
        "#2) passengers in a taxi, up to 6 (icnluding suvs) https://ride.guru/lounge/p/how-many-people-can-ride-in-a-cab \n",
        "#leave drives of 0 passengers in case documents are transported?\n",
        "#3) fare has to be positive value, over 2.50$ (that seems to be the initial charge) https://www1.nyc.gov/site/tlc/passengers/taxi-fare.page\n",
        "\n",
        "train = train[ (train.pickup_longitude >= -180) & (train.pickup_longitude <= 180) & \\\n",
        "              (train.dropoff_longitude >= -180) & (train.dropoff_longitude <= 180) & \\\n",
        "              (train.pickup_latitude >= -90) & (train.pickup_latitude <= 90) & \\\n",
        "              (train.dropoff_latitude >= -90) & (train.dropoff_latitude <= 90) & \\\n",
        "              (train.passenger_count<= 6) & \\\n",
        "              (train.fare_amount > 2.50) ]\n"
      ],
      "execution_count": 0,
      "outputs": []
    },
    {
      "cell_type": "code",
      "metadata": {
        "id": "3tEWqrM8CSOO",
        "colab_type": "code",
        "outputId": "fee4f7c8-1ad0-4463-9214-8a2008d0df42",
        "colab": {
          "base_uri": "https://localhost:8080/",
          "height": 320
        }
      },
      "source": [
        "train.describe()"
      ],
      "execution_count": 0,
      "outputs": [
        {
          "output_type": "execute_result",
          "data": {
            "text/html": [
              "<div>\n",
              "<style scoped>\n",
              "    .dataframe tbody tr th:only-of-type {\n",
              "        vertical-align: middle;\n",
              "    }\n",
              "\n",
              "    .dataframe tbody tr th {\n",
              "        vertical-align: top;\n",
              "    }\n",
              "\n",
              "    .dataframe thead th {\n",
              "        text-align: right;\n",
              "    }\n",
              "</style>\n",
              "<table border=\"1\" class=\"dataframe\">\n",
              "  <thead>\n",
              "    <tr style=\"text-align: right;\">\n",
              "      <th></th>\n",
              "      <th>fare_amount</th>\n",
              "      <th>pickup_longitude</th>\n",
              "      <th>pickup_latitude</th>\n",
              "      <th>dropoff_longitude</th>\n",
              "      <th>dropoff_latitude</th>\n",
              "      <th>passenger_count</th>\n",
              "      <th>weekday</th>\n",
              "      <th>year</th>\n",
              "      <th>month</th>\n",
              "      <th>day</th>\n",
              "      <th>hour</th>\n",
              "      <th>minute</th>\n",
              "      <th>second</th>\n",
              "    </tr>\n",
              "  </thead>\n",
              "  <tbody>\n",
              "    <tr>\n",
              "      <th>count</th>\n",
              "      <td>995869.000000</td>\n",
              "      <td>995869.000000</td>\n",
              "      <td>995869.000000</td>\n",
              "      <td>995869.000000</td>\n",
              "      <td>995869.000000</td>\n",
              "      <td>995869.000000</td>\n",
              "      <td>995869.000000</td>\n",
              "      <td>995869.000000</td>\n",
              "      <td>995869.000000</td>\n",
              "      <td>995869.000000</td>\n",
              "      <td>995869.000000</td>\n",
              "      <td>995869.000000</td>\n",
              "      <td>995869.000000</td>\n",
              "    </tr>\n",
              "    <tr>\n",
              "      <th>mean</th>\n",
              "      <td>11.384606</td>\n",
              "      <td>-72.538546</td>\n",
              "      <td>39.938402</td>\n",
              "      <td>-72.545370</td>\n",
              "      <td>39.942431</td>\n",
              "      <td>1.685512</td>\n",
              "      <td>3.039752</td>\n",
              "      <td>2011.741729</td>\n",
              "      <td>6.268162</td>\n",
              "      <td>15.696453</td>\n",
              "      <td>13.512886</td>\n",
              "      <td>29.567612</td>\n",
              "      <td>15.860323</td>\n",
              "    </tr>\n",
              "    <tr>\n",
              "      <th>std</th>\n",
              "      <td>9.824825</td>\n",
              "      <td>10.321153</td>\n",
              "      <td>6.052619</td>\n",
              "      <td>10.294233</td>\n",
              "      <td>6.041147</td>\n",
              "      <td>1.308085</td>\n",
              "      <td>1.949960</td>\n",
              "      <td>1.860230</td>\n",
              "      <td>3.436376</td>\n",
              "      <td>8.682534</td>\n",
              "      <td>6.513688</td>\n",
              "      <td>17.322834</td>\n",
              "      <td>19.440094</td>\n",
              "    </tr>\n",
              "    <tr>\n",
              "      <th>min</th>\n",
              "      <td>2.510000</td>\n",
              "      <td>-128.175950</td>\n",
              "      <td>-74.016587</td>\n",
              "      <td>-121.391248</td>\n",
              "      <td>-74.035197</td>\n",
              "      <td>0.000000</td>\n",
              "      <td>0.000000</td>\n",
              "      <td>2009.000000</td>\n",
              "      <td>1.000000</td>\n",
              "      <td>1.000000</td>\n",
              "      <td>0.000000</td>\n",
              "      <td>0.000000</td>\n",
              "      <td>0.000000</td>\n",
              "    </tr>\n",
              "    <tr>\n",
              "      <th>25%</th>\n",
              "      <td>6.000000</td>\n",
              "      <td>-73.992067</td>\n",
              "      <td>40.735013</td>\n",
              "      <td>-73.991391</td>\n",
              "      <td>40.734097</td>\n",
              "      <td>1.000000</td>\n",
              "      <td>1.000000</td>\n",
              "      <td>2010.000000</td>\n",
              "      <td>3.000000</td>\n",
              "      <td>8.000000</td>\n",
              "      <td>9.000000</td>\n",
              "      <td>15.000000</td>\n",
              "      <td>0.000000</td>\n",
              "    </tr>\n",
              "    <tr>\n",
              "      <th>50%</th>\n",
              "      <td>8.500000</td>\n",
              "      <td>-73.981807</td>\n",
              "      <td>40.752720</td>\n",
              "      <td>-73.980153</td>\n",
              "      <td>40.753192</td>\n",
              "      <td>1.000000</td>\n",
              "      <td>3.000000</td>\n",
              "      <td>2012.000000</td>\n",
              "      <td>6.000000</td>\n",
              "      <td>16.000000</td>\n",
              "      <td>14.000000</td>\n",
              "      <td>30.000000</td>\n",
              "      <td>4.000000</td>\n",
              "    </tr>\n",
              "    <tr>\n",
              "      <th>75%</th>\n",
              "      <td>12.500000</td>\n",
              "      <td>-73.967155</td>\n",
              "      <td>40.767174</td>\n",
              "      <td>-73.963739</td>\n",
              "      <td>40.768147</td>\n",
              "      <td>2.000000</td>\n",
              "      <td>5.000000</td>\n",
              "      <td>2013.000000</td>\n",
              "      <td>9.000000</td>\n",
              "      <td>23.000000</td>\n",
              "      <td>19.000000</td>\n",
              "      <td>45.000000</td>\n",
              "      <td>32.000000</td>\n",
              "    </tr>\n",
              "    <tr>\n",
              "      <th>max</th>\n",
              "      <td>500.000000</td>\n",
              "      <td>40.850357</td>\n",
              "      <td>69.400000</td>\n",
              "      <td>45.581619</td>\n",
              "      <td>81.510177</td>\n",
              "      <td>6.000000</td>\n",
              "      <td>6.000000</td>\n",
              "      <td>2015.000000</td>\n",
              "      <td>12.000000</td>\n",
              "      <td>31.000000</td>\n",
              "      <td>23.000000</td>\n",
              "      <td>59.000000</td>\n",
              "      <td>59.000000</td>\n",
              "    </tr>\n",
              "  </tbody>\n",
              "</table>\n",
              "</div>"
            ],
            "text/plain": [
              "         fare_amount  pickup_longitude  ...         minute         second\n",
              "count  995869.000000     995869.000000  ...  995869.000000  995869.000000\n",
              "mean       11.384606        -72.538546  ...      29.567612      15.860323\n",
              "std         9.824825         10.321153  ...      17.322834      19.440094\n",
              "min         2.510000       -128.175950  ...       0.000000       0.000000\n",
              "25%         6.000000        -73.992067  ...      15.000000       0.000000\n",
              "50%         8.500000        -73.981807  ...      30.000000       4.000000\n",
              "75%        12.500000        -73.967155  ...      45.000000      32.000000\n",
              "max       500.000000         40.850357  ...      59.000000      59.000000\n",
              "\n",
              "[8 rows x 13 columns]"
            ]
          },
          "metadata": {
            "tags": []
          },
          "execution_count": 13
        }
      ]
    },
    {
      "cell_type": "code",
      "metadata": {
        "id": "Pr5wOKBaYIdW",
        "colab_type": "code",
        "colab": {}
      },
      "source": [
        "#maybe convert time (hours and minutes) to circular, given that then the correlation may be more easily seen\n",
        "#seconds_in_day = 24*60*60\n",
        "\n",
        "#train['full_time'] = train.hour*60*60 + train.minute*60 + train.second #time of the day in seconds\n",
        "#train['sin_time'] = np.sin(2*np.pi*train.full_time/seconds_in_day)\n",
        "#train['cos_time'] = np.cos(2*np.pi*train.full_time/seconds_in_day)\n",
        "#train.drop('full_time', axis=1, inplace=True)\n",
        "\n",
        "#note: checked that these 2 feats are computed ok (proper ranges)"
      ],
      "execution_count": 0,
      "outputs": []
    },
    {
      "cell_type": "code",
      "metadata": {
        "id": "hbg0VE6P19xG",
        "colab_type": "code",
        "colab": {}
      },
      "source": [
        "#Instead of doing Harvestine distance (that assumes Earth is a sphere), here Vincenty distance is used,\n",
        "#which employs more accurate ellipsoidal models\n",
        "\n",
        "# (latitude, longitude) reminder\n",
        "train ['distance'] = train.apply(lambda x: vincenty((x['pickup_latitude'], x['pickup_longitude']), (x['dropoff_latitude'], x['dropoff_longitude'])).meters, axis = 1)\n",
        "#train['distance'] = train.apply(\n",
        "#    (lambda row: vincenty(\n",
        "#        (row['LATITUDE'], row['LONGITUDE']),\n",
        "#       (row['LAT'], row['LON'])\n",
        "#    ).miles),\n",
        "#    axis=1\n",
        "#)"
      ],
      "execution_count": 0,
      "outputs": []
    },
    {
      "cell_type": "code",
      "metadata": {
        "id": "FtPGAy8Q1Fni",
        "colab_type": "code",
        "outputId": "c9445589-2bf3-4dc7-8693-990ad038127b",
        "colab": {
          "base_uri": "https://localhost:8080/",
          "height": 225
        }
      },
      "source": [
        "train['distance']"
      ],
      "execution_count": 0,
      "outputs": [
        {
          "output_type": "execute_result",
          "data": {
            "text/plain": [
              "0         1029.600743\n",
              "1         8443.441355\n",
              "2         1389.132157\n",
              "3         2795.789657\n",
              "4         1998.337832\n",
              "             ...     \n",
              "999995    1881.757790\n",
              "999996       0.000000\n",
              "999997    1762.922520\n",
              "999998    1840.447683\n",
              "999999     758.924994\n",
              "Name: distance, Length: 995869, dtype: float64"
            ]
          },
          "metadata": {
            "tags": []
          },
          "execution_count": 16
        }
      ]
    },
    {
      "cell_type": "code",
      "metadata": {
        "id": "-GWQBybsybzm",
        "colab_type": "code",
        "outputId": "c7f993cb-e9a3-45ea-e506-adc8e0bbae77",
        "colab": {
          "base_uri": "https://localhost:8080/",
          "height": 132
        }
      },
      "source": [
        "train.describe().loc[['min','max']]"
      ],
      "execution_count": 0,
      "outputs": [
        {
          "output_type": "execute_result",
          "data": {
            "text/html": [
              "<div>\n",
              "<style scoped>\n",
              "    .dataframe tbody tr th:only-of-type {\n",
              "        vertical-align: middle;\n",
              "    }\n",
              "\n",
              "    .dataframe tbody tr th {\n",
              "        vertical-align: top;\n",
              "    }\n",
              "\n",
              "    .dataframe thead th {\n",
              "        text-align: right;\n",
              "    }\n",
              "</style>\n",
              "<table border=\"1\" class=\"dataframe\">\n",
              "  <thead>\n",
              "    <tr style=\"text-align: right;\">\n",
              "      <th></th>\n",
              "      <th>fare_amount</th>\n",
              "      <th>pickup_longitude</th>\n",
              "      <th>pickup_latitude</th>\n",
              "      <th>dropoff_longitude</th>\n",
              "      <th>dropoff_latitude</th>\n",
              "      <th>passenger_count</th>\n",
              "      <th>weekday</th>\n",
              "      <th>year</th>\n",
              "      <th>month</th>\n",
              "      <th>day</th>\n",
              "      <th>hour</th>\n",
              "      <th>minute</th>\n",
              "      <th>second</th>\n",
              "      <th>distance</th>\n",
              "    </tr>\n",
              "  </thead>\n",
              "  <tbody>\n",
              "    <tr>\n",
              "      <th>min</th>\n",
              "      <td>2.51</td>\n",
              "      <td>-128.175950</td>\n",
              "      <td>-74.016587</td>\n",
              "      <td>-121.391248</td>\n",
              "      <td>-74.035197</td>\n",
              "      <td>0.0</td>\n",
              "      <td>0.0</td>\n",
              "      <td>2009.0</td>\n",
              "      <td>1.0</td>\n",
              "      <td>1.0</td>\n",
              "      <td>0.0</td>\n",
              "      <td>0.0</td>\n",
              "      <td>0.0</td>\n",
              "      <td>0.000000e+00</td>\n",
              "    </tr>\n",
              "    <tr>\n",
              "      <th>max</th>\n",
              "      <td>500.00</td>\n",
              "      <td>40.850357</td>\n",
              "      <td>69.400000</td>\n",
              "      <td>45.581619</td>\n",
              "      <td>81.510177</td>\n",
              "      <td>6.0</td>\n",
              "      <td>6.0</td>\n",
              "      <td>2015.0</td>\n",
              "      <td>12.0</td>\n",
              "      <td>31.0</td>\n",
              "      <td>23.0</td>\n",
              "      <td>59.0</td>\n",
              "      <td>59.0</td>\n",
              "      <td>1.260287e+07</td>\n",
              "    </tr>\n",
              "  </tbody>\n",
              "</table>\n",
              "</div>"
            ],
            "text/plain": [
              "     fare_amount  pickup_longitude  ...  second      distance\n",
              "min         2.51       -128.175950  ...     0.0  0.000000e+00\n",
              "max       500.00         40.850357  ...    59.0  1.260287e+07\n",
              "\n",
              "[2 rows x 14 columns]"
            ]
          },
          "metadata": {
            "tags": []
          },
          "execution_count": 17
        }
      ]
    },
    {
      "cell_type": "code",
      "metadata": {
        "id": "V4TyLFuIiMJm",
        "colab_type": "code",
        "outputId": "1a6422f4-0cab-4e7d-f928-a27914cdf8e6",
        "colab": {
          "base_uri": "https://localhost:8080/",
          "height": 1000
        }
      },
      "source": [
        "#check distributions of all the features\n",
        "fig = plt.figure(figsize = (15,20))\n",
        "ax = fig.gca()\n",
        "train.hist(ax = ax, bins=50)\n"
      ],
      "execution_count": 0,
      "outputs": [
        {
          "output_type": "stream",
          "text": [
            "/usr/local/lib/python3.6/dist-packages/ipykernel_launcher.py:3: UserWarning: To output multiple subplots, the figure containing the passed axes is being cleared\n",
            "  This is separate from the ipykernel package so we can avoid doing imports until\n"
          ],
          "name": "stderr"
        },
        {
          "output_type": "execute_result",
          "data": {
            "text/plain": [
              "array([[<matplotlib.axes._subplots.AxesSubplot object at 0x7f083f8a4400>,\n",
              "        <matplotlib.axes._subplots.AxesSubplot object at 0x7f082d12c6d8>,\n",
              "        <matplotlib.axes._subplots.AxesSubplot object at 0x7f082d15d208>,\n",
              "        <matplotlib.axes._subplots.AxesSubplot object at 0x7f083f888ba8>],\n",
              "       [<matplotlib.axes._subplots.AxesSubplot object at 0x7f083f83e588>,\n",
              "        <matplotlib.axes._subplots.AxesSubplot object at 0x7f083f7e8f28>,\n",
              "        <matplotlib.axes._subplots.AxesSubplot object at 0x7f083f81e908>,\n",
              "        <matplotlib.axes._subplots.AxesSubplot object at 0x7f083f7d5320>],\n",
              "       [<matplotlib.axes._subplots.AxesSubplot object at 0x7f083f7d5358>,\n",
              "        <matplotlib.axes._subplots.AxesSubplot object at 0x7f083f736668>,\n",
              "        <matplotlib.axes._subplots.AxesSubplot object at 0x7f083f6f1048>,\n",
              "        <matplotlib.axes._subplots.AxesSubplot object at 0x7f083f71d9e8>],\n",
              "       [<matplotlib.axes._subplots.AxesSubplot object at 0x7f083f6d73c8>,\n",
              "        <matplotlib.axes._subplots.AxesSubplot object at 0x7f083f684d68>,\n",
              "        <matplotlib.axes._subplots.AxesSubplot object at 0x7f083f63c748>,\n",
              "        <matplotlib.axes._subplots.AxesSubplot object at 0x7f083f5f6128>]],\n",
              "      dtype=object)"
            ]
          },
          "metadata": {
            "tags": []
          },
          "execution_count": 18
        },
        {
          "output_type": "display_data",
          "data": {
            "image/png": "[encoded data removed]",
            "text/plain": [
              "<Figure size 1080x1440 with 16 Axes>"
            ]
          },
          "metadata": {
            "tags": []
          }
        }
      ]
    },
    {
      "cell_type": "code",
      "metadata": {
        "id": "yIcDTblzqVaM",
        "colab_type": "code",
        "colab": {}
      },
      "source": [
        "Q1 = train.quantile(0.25)\n",
        "Q3 = train.quantile(0.75)\n",
        "IQR = Q3 - Q1"
      ],
      "execution_count": 0,
      "outputs": []
    },
    {
      "cell_type": "code",
      "metadata": {
        "id": "-L9-PaqeiIzp",
        "colab_type": "code",
        "outputId": "aa114a9f-3fe4-4079-8818-e3b9819e696d",
        "colab": {
          "base_uri": "https://localhost:8080/",
          "height": 34
        }
      },
      "source": [
        "#automatic outlier removal, to try and get more normal distributions\n",
        "#https://towardsdatascience.com/ways-to-detect-and-remove-the-outliers-404d16608dba?gi=8548f80fce4b\n",
        "train_out = train.drop(['key','pickup_datetime'],axis=1, inplace=False)\n",
        "\n",
        "train_out = train_out[~((train_out < (Q1 - 1.5 * IQR)) |(train_out > (Q3 + 1.5 * IQR))).any(axis=1)]\n",
        "\n",
        "train.shape"
      ],
      "execution_count": 0,
      "outputs": [
        {
          "output_type": "execute_result",
          "data": {
            "text/plain": [
              "(995869, 16)"
            ]
          },
          "metadata": {
            "tags": []
          },
          "execution_count": 24
        }
      ]
    },
    {
      "cell_type": "code",
      "metadata": {
        "id": "LMaQaUEzqLnG",
        "colab_type": "code",
        "outputId": "f6324927-e862-4a1b-f515-07bcf8f2d9ac",
        "colab": {
          "base_uri": "https://localhost:8080/",
          "height": 34
        }
      },
      "source": [
        "train_out.shape"
      ],
      "execution_count": 0,
      "outputs": [
        {
          "output_type": "execute_result",
          "data": {
            "text/plain": [
              "(745294, 14)"
            ]
          },
          "metadata": {
            "tags": []
          },
          "execution_count": 25
        }
      ]
    },
    {
      "cell_type": "code",
      "metadata": {
        "id": "66LJjfdCrgTH",
        "colab_type": "code",
        "colab": {}
      },
      "source": [
        "#this doesn't help (before or after outlier removal)\n",
        "#Also did log for all feats instead of outlier removal, but it doesnt work much\n",
        "#train_out['distance'] = train_out['distance'].transform(lambda x: np.log(x+sys.float_info.epsilon))"
      ],
      "execution_count": 0,
      "outputs": []
    },
    {
      "cell_type": "code",
      "metadata": {
        "id": "_VzPqkwNq_iB",
        "colab_type": "code",
        "outputId": "79df33a6-281d-476c-a124-239cebb806fe",
        "colab": {
          "base_uri": "https://localhost:8080/",
          "height": 1000
        }
      },
      "source": [
        "#check distributions of all the features\n",
        "fig2 = plt.figure(figsize = (15,20))\n",
        "ax2 = fig2.gca()\n",
        "train_out.hist(ax = ax2, bins=50)"
      ],
      "execution_count": 0,
      "outputs": [
        {
          "output_type": "stream",
          "text": [
            "/usr/local/lib/python3.6/dist-packages/ipykernel_launcher.py:3: UserWarning: To output multiple subplots, the figure containing the passed axes is being cleared\n",
            "  This is separate from the ipykernel package so we can avoid doing imports until\n"
          ],
          "name": "stderr"
        },
        {
          "output_type": "execute_result",
          "data": {
            "text/plain": [
              "array([[<matplotlib.axes._subplots.AxesSubplot object at 0x7f083b28f358>,\n",
              "        <matplotlib.axes._subplots.AxesSubplot object at 0x7f083b06bf98>,\n",
              "        <matplotlib.axes._subplots.AxesSubplot object at 0x7f083b017978>,\n",
              "        <matplotlib.axes._subplots.AxesSubplot object at 0x7f083b045358>],\n",
              "       [<matplotlib.axes._subplots.AxesSubplot object at 0x7f083aff8278>,\n",
              "        <matplotlib.axes._subplots.AxesSubplot object at 0x7f083afa4c18>,\n",
              "        <matplotlib.axes._subplots.AxesSubplot object at 0x7f083af605f8>,\n",
              "        <matplotlib.axes._subplots.AxesSubplot object at 0x7f083af0ffd0>],\n",
              "       [<matplotlib.axes._subplots.AxesSubplot object at 0x7f083af19048>,\n",
              "        <matplotlib.axes._subplots.AxesSubplot object at 0x7f083af03358>,\n",
              "        <matplotlib.axes._subplots.AxesSubplot object at 0x7f083aeb0cf8>,\n",
              "        <matplotlib.axes._subplots.AxesSubplot object at 0x7f083ae6b6d8>],\n",
              "       [<matplotlib.axes._subplots.AxesSubplot object at 0x7f083ae260b8>,\n",
              "        <matplotlib.axes._subplots.AxesSubplot object at 0x7f083add2a58>,\n",
              "        <matplotlib.axes._subplots.AxesSubplot object at 0x7f083ae0c438>,\n",
              "        <matplotlib.axes._subplots.AxesSubplot object at 0x7f083adbcdd8>]],\n",
              "      dtype=object)"
            ]
          },
          "metadata": {
            "tags": []
          },
          "execution_count": 27
        },
        {
          "output_type": "display_data",
          "data": {
            "image/png": "[encoded data removed]",
            "text/plain": [
              "<Figure size 1080x1440 with 16 Axes>"
            ]
          },
          "metadata": {
            "tags": []
          }
        }
      ]
    },
    {
      "cell_type": "code",
      "metadata": {
        "id": "h-RvXNKyv8Db",
        "colab_type": "code",
        "colab": {}
      },
      "source": [
        "corr_pearson = train_out.corr(method='pearson')\n",
        "mask = np.zeros_like(corr_pearson, dtype=np.bool)\n",
        "mask[np.triu_indices_from(mask)] = True"
      ],
      "execution_count": 0,
      "outputs": []
    },
    {
      "cell_type": "code",
      "metadata": {
        "id": "yZVa4uFLwDbb",
        "colab_type": "code",
        "outputId": "1cbd6831-a812-47fa-965c-32a1f945c0f8",
        "colab": {
          "base_uri": "https://localhost:8080/",
          "height": 676
        }
      },
      "source": [
        "fig4, ax4 = plt.subplots(figsize=(16, 10))\n",
        "sns.heatmap(corr_pearson, mask=mask, cmap='RdBu_r', vmax=1, center=0,\n",
        "            square=True, linewidths=.5, cbar_kws={\"shrink\": .5},vmin=-1)"
      ],
      "execution_count": 0,
      "outputs": [
        {
          "output_type": "execute_result",
          "data": {
            "text/plain": [
              "<matplotlib.axes._subplots.AxesSubplot at 0x7f083b05e8d0>"
            ]
          },
          "metadata": {
            "tags": []
          },
          "execution_count": 29
        },
        {
          "output_type": "display_data",
          "data": {
            "image/png": "[encoded data removed]",
            "text/plain": [
              "<Figure size 1152x720 with 2 Axes>"
            ]
          },
          "metadata": {
            "tags": []
          }
        }
      ]
    },
    {
      "cell_type": "code",
      "metadata": {
        "id": "gRzX-1pIznyU",
        "colab_type": "code",
        "colab": {}
      },
      "source": [
        "#visualizer = FeatureCorrelation( method='mutual_info-classification', feature_names=train_out.columns, sort=True)\n",
        "X = train_out.drop('fare_amount',axis=1, inplace=False).to_numpy()\n",
        "Y = train_out.fare_amount.to_numpy()\n",
        "#lab_enc = sklearn.preprocessing.LabelEncoder()\n",
        "#Y_encoded = lab_enc.fit_transform(Y)\n",
        "\n",
        "feature_MIscores = sklearn.feature_selection.mutual_info_regression(X, Y, discrete_features='auto', n_neighbors=3, copy=True, random_state=None)[source]\n",
        "\n",
        "#visualizer.fit(X, Y)        # Fit the data to the visualizer\n",
        "#visualizer.show()              # Finalize and render the figure"
      ],
      "execution_count": 0,
      "outputs": []
    },
    {
      "cell_type": "code",
      "metadata": {
        "id": "bTCn7xtRxwc2",
        "colab_type": "code",
        "colab": {}
      },
      "source": [
        "#plot also the fare vs the date (year), and maybe check as hypothesis if there is a positive correlation between year and fare"
      ],
      "execution_count": 0,
      "outputs": []
    },
    {
      "cell_type": "code",
      "metadata": {
        "id": "wSc1OEsJ1y4I",
        "colab_type": "code",
        "outputId": "4fd96f7f-1f18-4b7e-a8c0-985d1806cb87",
        "colab": {
          "base_uri": "https://localhost:8080/",
          "height": 34
        }
      },
      "source": [
        "X.shape"
      ],
      "execution_count": 0,
      "outputs": [
        {
          "output_type": "execute_result",
          "data": {
            "text/plain": [
              "(745294, 16)"
            ]
          },
          "metadata": {
            "tags": []
          },
          "execution_count": 73
        }
      ]
    },
    {
      "cell_type": "code",
      "metadata": {
        "id": "_KbEzhXAzd4S",
        "colab_type": "code",
        "colab": {}
      },
      "source": [
        "#maybe also plot histograms grouping by day, or by hour, to see what times are more common, and see if the fair is similar for "
      ],
      "execution_count": 0,
      "outputs": []
    },
    {
      "cell_type": "code",
      "metadata": {
        "id": "fUX0PGFRy-OP",
        "colab_type": "code",
        "colab": {}
      },
      "source": [
        "#maybe a heat map of the fares would be interesting, doing a geomap, maybe use plotly?"
      ],
      "execution_count": 0,
      "outputs": []
    },
    {
      "cell_type": "code",
      "metadata": {
        "id": "vmi34QYRYbr6",
        "colab_type": "code",
        "colab": {}
      },
      "source": [
        ""
      ],
      "execution_count": 0,
      "outputs": []
    }
  ]
}