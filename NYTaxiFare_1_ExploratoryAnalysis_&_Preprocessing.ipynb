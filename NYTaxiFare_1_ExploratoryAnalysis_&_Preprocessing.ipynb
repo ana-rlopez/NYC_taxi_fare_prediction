{
 "cells": [
  {
   "cell_type": "markdown",
   "metadata": {
    "colab_type": "text",
    "id": "view-in-github"
   },
   "source": [
    "<a href=\"https://colab.research.google.com/github/ana-rlopez/ny_taxi_fare_prediction/blob/master/NYTaxiFare_1_ExploratoryAnalysis_%26_Preprocessing.ipynb\" target=\"_parent\"><img src=\"https://colab.research.google.com/assets/colab-badge.svg\" alt=\"Open In Colab\"/></a>"
   ]
  },
  {
   "cell_type": "code",
   "execution_count": 61,
   "metadata": {},
   "outputs": [
    {
     "name": "stdout",
     "output_type": "stream",
     "text": [
      "Collecting xgboost\n",
      "\u001b[?25l  Downloading https://files.pythonhosted.org/packages/c1/24/5fe7237b2eca13ee0cfb100bec8c23f4e69ce9df852a64b0493d49dae4e0/xgboost-0.90-py2.py3-none-manylinux1_x86_64.whl (142.8MB)\n",
      "\u001b[K     |████████████████████████████████| 142.8MB 129kB/s eta 0:00:01\n",
      "\u001b[?25hRequirement already satisfied: numpy in /home/a/miniconda2/envs/kernpy3/lib/python3.6/site-packages (from xgboost) (1.17.4)\n",
      "Requirement already satisfied: scipy in /home/a/miniconda2/envs/kernpy3/lib/python3.6/site-packages (from xgboost) (1.3.2)\n",
      "Installing collected packages: xgboost\n",
      "Successfully installed xgboost-0.90\n",
      "Note: you may need to restart the kernel to use updated packages.\n"
     ]
    }
   ],
   "source": [
    "pip install xgboost"
   ]
  },
  {
   "cell_type": "code",
   "execution_count": 98,
   "metadata": {
    "colab": {},
    "colab_type": "code",
    "id": "of4LCPeltVMG"
   },
   "outputs": [],
   "source": [
    "import numpy as np\n",
    "import pandas as pd\n",
    "import matplotlib.pyplot as plt\n",
    "import seaborn as sns\n",
    "import sys\n",
    "from geopy.distance import vincenty\n",
    "import sklearn.feature_selection\n",
    "from sklearn.model_selection import train_test_split\n",
    "from sklearn import linear_model\n",
    "from sklearn.dummy import DummyRegressor\n",
    "from sklearn.preprocessing import StandardScaler\n",
    "#from sklearn.preprocessing import RobustScaler\n",
    "from sklearn.metrics import r2_score\n",
    "from sklearn.metrics import mean_squared_error\n",
    "from sklearn.ensemble import RandomForestRegressor\n",
    "import xgboost as xgb\n",
    "from sklearn.model_selection import GridSearchCV"
   ]
  },
  {
   "cell_type": "code",
   "execution_count": 6,
   "metadata": {
    "colab": {
     "base_uri": "https://localhost:8080/",
     "height": 54
    },
    "colab_type": "code",
    "id": "31lNgv3Y2Sjk",
    "outputId": "e3af7b71-5307-42f6-fb8e-1fa6f574cb6b"
   },
   "outputs": [],
   "source": [
    "#from google.colab import drive\n",
    "#drive.mount('/content/drive')\n",
    "#train_path = '/content/drive/My Drive/Colab Notebooks/train.csv'\n",
    "train_path = 'train.csv'"
   ]
  },
  {
   "cell_type": "code",
   "execution_count": 7,
   "metadata": {
    "colab": {
     "base_uri": "https://localhost:8080/",
     "height": 313
    },
    "colab_type": "code",
    "id": "fNS7UyE9FWXh",
    "outputId": "e8809129-ab10-4b95-b377-94d56e3e0bb9"
   },
   "outputs": [
    {
     "data": {
      "text/html": [
       "<div>\n",
       "<style scoped>\n",
       "    .dataframe tbody tr th:only-of-type {\n",
       "        vertical-align: middle;\n",
       "    }\n",
       "\n",
       "    .dataframe tbody tr th {\n",
       "        vertical-align: top;\n",
       "    }\n",
       "\n",
       "    .dataframe thead th {\n",
       "        text-align: right;\n",
       "    }\n",
       "</style>\n",
       "<table border=\"1\" class=\"dataframe\">\n",
       "  <thead>\n",
       "    <tr style=\"text-align: right;\">\n",
       "      <th></th>\n",
       "      <th>key</th>\n",
       "      <th>fare_amount</th>\n",
       "      <th>pickup_datetime</th>\n",
       "      <th>pickup_longitude</th>\n",
       "      <th>pickup_latitude</th>\n",
       "      <th>dropoff_longitude</th>\n",
       "      <th>dropoff_latitude</th>\n",
       "      <th>passenger_count</th>\n",
       "    </tr>\n",
       "  </thead>\n",
       "  <tbody>\n",
       "    <tr>\n",
       "      <th>0</th>\n",
       "      <td>2009-06-15 17:26:21.0000001</td>\n",
       "      <td>4.5</td>\n",
       "      <td>2009-06-15 17:26:21 UTC</td>\n",
       "      <td>-73.844311</td>\n",
       "      <td>40.721319</td>\n",
       "      <td>-73.841610</td>\n",
       "      <td>40.712278</td>\n",
       "      <td>1</td>\n",
       "    </tr>\n",
       "    <tr>\n",
       "      <th>1</th>\n",
       "      <td>2010-01-05 16:52:16.0000002</td>\n",
       "      <td>16.9</td>\n",
       "      <td>2010-01-05 16:52:16 UTC</td>\n",
       "      <td>-74.016048</td>\n",
       "      <td>40.711303</td>\n",
       "      <td>-73.979268</td>\n",
       "      <td>40.782004</td>\n",
       "      <td>1</td>\n",
       "    </tr>\n",
       "    <tr>\n",
       "      <th>2</th>\n",
       "      <td>2011-08-18 00:35:00.00000049</td>\n",
       "      <td>5.7</td>\n",
       "      <td>2011-08-18 00:35:00 UTC</td>\n",
       "      <td>-73.982738</td>\n",
       "      <td>40.761270</td>\n",
       "      <td>-73.991242</td>\n",
       "      <td>40.750562</td>\n",
       "      <td>2</td>\n",
       "    </tr>\n",
       "    <tr>\n",
       "      <th>3</th>\n",
       "      <td>2012-04-21 04:30:42.0000001</td>\n",
       "      <td>7.7</td>\n",
       "      <td>2012-04-21 04:30:42 UTC</td>\n",
       "      <td>-73.987130</td>\n",
       "      <td>40.733143</td>\n",
       "      <td>-73.991567</td>\n",
       "      <td>40.758092</td>\n",
       "      <td>1</td>\n",
       "    </tr>\n",
       "    <tr>\n",
       "      <th>4</th>\n",
       "      <td>2010-03-09 07:51:00.000000135</td>\n",
       "      <td>5.3</td>\n",
       "      <td>2010-03-09 07:51:00 UTC</td>\n",
       "      <td>-73.968095</td>\n",
       "      <td>40.768008</td>\n",
       "      <td>-73.956655</td>\n",
       "      <td>40.783762</td>\n",
       "      <td>1</td>\n",
       "    </tr>\n",
       "  </tbody>\n",
       "</table>\n",
       "</div>"
      ],
      "text/plain": [
       "                             key  fare_amount          pickup_datetime  \\\n",
       "0    2009-06-15 17:26:21.0000001          4.5  2009-06-15 17:26:21 UTC   \n",
       "1    2010-01-05 16:52:16.0000002         16.9  2010-01-05 16:52:16 UTC   \n",
       "2   2011-08-18 00:35:00.00000049          5.7  2011-08-18 00:35:00 UTC   \n",
       "3    2012-04-21 04:30:42.0000001          7.7  2012-04-21 04:30:42 UTC   \n",
       "4  2010-03-09 07:51:00.000000135          5.3  2010-03-09 07:51:00 UTC   \n",
       "\n",
       "   pickup_longitude  pickup_latitude  dropoff_longitude  dropoff_latitude  \\\n",
       "0        -73.844311        40.721319         -73.841610         40.712278   \n",
       "1        -74.016048        40.711303         -73.979268         40.782004   \n",
       "2        -73.982738        40.761270         -73.991242         40.750562   \n",
       "3        -73.987130        40.733143         -73.991567         40.758092   \n",
       "4        -73.968095        40.768008         -73.956655         40.783762   \n",
       "\n",
       "   passenger_count  \n",
       "0                1  \n",
       "1                1  \n",
       "2                2  \n",
       "3                1  \n",
       "4                1  "
      ]
     },
     "execution_count": 7,
     "metadata": {},
     "output_type": "execute_result"
    }
   ],
   "source": [
    "train = pd.read_csv(train_path, nrows=1_000_000) #we don't select all rows, since it is a big dataset\n",
    "train.head()"
   ]
  },
  {
   "cell_type": "code",
   "execution_count": 8,
   "metadata": {
    "colab": {
     "base_uri": "https://localhost:8080/",
     "height": 313
    },
    "colab_type": "code",
    "id": "1btPygyu3z7y",
    "outputId": "fa670d30-5020-4b0a-ebe8-1b81c4e06aa6"
   },
   "outputs": [
    {
     "data": {
      "text/html": [
       "<div>\n",
       "<style scoped>\n",
       "    .dataframe tbody tr th:only-of-type {\n",
       "        vertical-align: middle;\n",
       "    }\n",
       "\n",
       "    .dataframe tbody tr th {\n",
       "        vertical-align: top;\n",
       "    }\n",
       "\n",
       "    .dataframe thead th {\n",
       "        text-align: right;\n",
       "    }\n",
       "</style>\n",
       "<table border=\"1\" class=\"dataframe\">\n",
       "  <thead>\n",
       "    <tr style=\"text-align: right;\">\n",
       "      <th></th>\n",
       "      <th>key</th>\n",
       "      <th>fare_amount</th>\n",
       "      <th>pickup_datetime</th>\n",
       "      <th>pickup_longitude</th>\n",
       "      <th>pickup_latitude</th>\n",
       "      <th>dropoff_longitude</th>\n",
       "      <th>dropoff_latitude</th>\n",
       "      <th>passenger_count</th>\n",
       "    </tr>\n",
       "  </thead>\n",
       "  <tbody>\n",
       "    <tr>\n",
       "      <th>0</th>\n",
       "      <td>2009-06-15 17:26:21.0000001</td>\n",
       "      <td>4.5</td>\n",
       "      <td>2009-06-15 17:26:21 UTC</td>\n",
       "      <td>-73.844311</td>\n",
       "      <td>40.721319</td>\n",
       "      <td>-73.841610</td>\n",
       "      <td>40.712278</td>\n",
       "      <td>1</td>\n",
       "    </tr>\n",
       "    <tr>\n",
       "      <th>1</th>\n",
       "      <td>2010-01-05 16:52:16.0000002</td>\n",
       "      <td>16.9</td>\n",
       "      <td>2010-01-05 16:52:16 UTC</td>\n",
       "      <td>-74.016048</td>\n",
       "      <td>40.711303</td>\n",
       "      <td>-73.979268</td>\n",
       "      <td>40.782004</td>\n",
       "      <td>1</td>\n",
       "    </tr>\n",
       "    <tr>\n",
       "      <th>2</th>\n",
       "      <td>2011-08-18 00:35:00.00000049</td>\n",
       "      <td>5.7</td>\n",
       "      <td>2011-08-18 00:35:00 UTC</td>\n",
       "      <td>-73.982738</td>\n",
       "      <td>40.761270</td>\n",
       "      <td>-73.991242</td>\n",
       "      <td>40.750562</td>\n",
       "      <td>2</td>\n",
       "    </tr>\n",
       "    <tr>\n",
       "      <th>3</th>\n",
       "      <td>2012-04-21 04:30:42.0000001</td>\n",
       "      <td>7.7</td>\n",
       "      <td>2012-04-21 04:30:42 UTC</td>\n",
       "      <td>-73.987130</td>\n",
       "      <td>40.733143</td>\n",
       "      <td>-73.991567</td>\n",
       "      <td>40.758092</td>\n",
       "      <td>1</td>\n",
       "    </tr>\n",
       "    <tr>\n",
       "      <th>4</th>\n",
       "      <td>2010-03-09 07:51:00.000000135</td>\n",
       "      <td>5.3</td>\n",
       "      <td>2010-03-09 07:51:00 UTC</td>\n",
       "      <td>-73.968095</td>\n",
       "      <td>40.768008</td>\n",
       "      <td>-73.956655</td>\n",
       "      <td>40.783762</td>\n",
       "      <td>1</td>\n",
       "    </tr>\n",
       "  </tbody>\n",
       "</table>\n",
       "</div>"
      ],
      "text/plain": [
       "                             key  fare_amount          pickup_datetime  \\\n",
       "0    2009-06-15 17:26:21.0000001          4.5  2009-06-15 17:26:21 UTC   \n",
       "1    2010-01-05 16:52:16.0000002         16.9  2010-01-05 16:52:16 UTC   \n",
       "2   2011-08-18 00:35:00.00000049          5.7  2011-08-18 00:35:00 UTC   \n",
       "3    2012-04-21 04:30:42.0000001          7.7  2012-04-21 04:30:42 UTC   \n",
       "4  2010-03-09 07:51:00.000000135          5.3  2010-03-09 07:51:00 UTC   \n",
       "\n",
       "   pickup_longitude  pickup_latitude  dropoff_longitude  dropoff_latitude  \\\n",
       "0        -73.844311        40.721319         -73.841610         40.712278   \n",
       "1        -74.016048        40.711303         -73.979268         40.782004   \n",
       "2        -73.982738        40.761270         -73.991242         40.750562   \n",
       "3        -73.987130        40.733143         -73.991567         40.758092   \n",
       "4        -73.968095        40.768008         -73.956655         40.783762   \n",
       "\n",
       "   passenger_count  \n",
       "0                1  \n",
       "1                1  \n",
       "2                2  \n",
       "3                1  \n",
       "4                1  "
      ]
     },
     "execution_count": 8,
     "metadata": {},
     "output_type": "execute_result"
    }
   ],
   "source": [
    "train.head()"
   ]
  },
  {
   "cell_type": "code",
   "execution_count": 9,
   "metadata": {
    "colab": {
     "base_uri": "https://localhost:8080/",
     "height": 173
    },
    "colab_type": "code",
    "id": "8jW_Vb2zN29Q",
    "outputId": "4da9e4cb-d9ef-42c7-e145-14e7925b4c99"
   },
   "outputs": [
    {
     "data": {
      "text/plain": [
       "key                   object\n",
       "fare_amount          float64\n",
       "pickup_datetime       object\n",
       "pickup_longitude     float64\n",
       "pickup_latitude      float64\n",
       "dropoff_longitude    float64\n",
       "dropoff_latitude     float64\n",
       "passenger_count        int64\n",
       "dtype: object"
      ]
     },
     "execution_count": 9,
     "metadata": {},
     "output_type": "execute_result"
    }
   ],
   "source": [
    "train.dtypes"
   ]
  },
  {
   "cell_type": "markdown",
   "metadata": {},
   "source": [
    "## Pre-processing (denoising data) and feature engineering"
   ]
  },
  {
   "cell_type": "code",
   "execution_count": 10,
   "metadata": {
    "colab": {
     "base_uri": "https://localhost:8080/",
     "height": 173
    },
    "colab_type": "code",
    "id": "lIxWk_vfN7Lw",
    "outputId": "6706b4c9-ad59-4fee-d252-e59747518d89"
   },
   "outputs": [
    {
     "data": {
      "text/plain": [
       "key                  datetime64[ns]\n",
       "fare_amount                 float64\n",
       "pickup_datetime              object\n",
       "pickup_longitude            float64\n",
       "pickup_latitude             float64\n",
       "dropoff_longitude           float64\n",
       "dropoff_latitude            float64\n",
       "passenger_count               int64\n",
       "dtype: object"
      ]
     },
     "execution_count": 10,
     "metadata": {},
     "output_type": "execute_result"
    }
   ],
   "source": [
    "train['key'] = pd.to_datetime(train['key'])\n",
    "train.dtypes"
   ]
  },
  {
   "cell_type": "code",
   "execution_count": 11,
   "metadata": {
    "colab": {},
    "colab_type": "code",
    "id": "eL5ZMp_VO7LQ"
   },
   "outputs": [],
   "source": [
    "#add features related with datetime\n",
    "train['weekday'] = train['key'].dt.dayofweek\n",
    "\n",
    "train['year']=train['key'].dt.year\n",
    "train['month']=train['key'].dt.month\n",
    "train['day']=train['key'].dt.day\n",
    "train['hour']=train['key'].dt.hour\n",
    "#train['minute']=train['key'].dt.minute #needed?\n",
    "#train['second']=train['key'].dt.second"
   ]
  },
  {
   "cell_type": "code",
   "execution_count": 12,
   "metadata": {
    "colab": {
     "base_uri": "https://localhost:8080/",
     "height": 34
    },
    "colab_type": "code",
    "id": "mmChemjEL1Yf",
    "outputId": "65f69b23-40b1-48ff-9c48-27f0eeb89b56"
   },
   "outputs": [
    {
     "data": {
      "text/plain": [
       "['dropoff_longitude', 'dropoff_latitude']"
      ]
     },
     "execution_count": 12,
     "metadata": {},
     "output_type": "execute_result"
    }
   ],
   "source": [
    "#check if there are some NaN values\n",
    "train.columns[train.isna().any()].tolist()"
   ]
  },
  {
   "cell_type": "code",
   "execution_count": 13,
   "metadata": {
    "colab": {
     "base_uri": "https://localhost:8080/",
     "height": 34
    },
    "colab_type": "code",
    "id": "IZ746OzJM2db",
    "outputId": "8fd12eac-13d9-4594-984c-940d61b52be6",
    "scrolled": true
   },
   "outputs": [
    {
     "data": {
      "text/plain": [
       "999990"
      ]
     },
     "execution_count": 13,
     "metadata": {},
     "output_type": "execute_result"
    }
   ],
   "source": [
    "#we drop these values given that the data set is quite big\n",
    "#original rows: 1_000_000\n",
    "train.dropna(inplace=True)\n",
    "train.shape[0]"
   ]
  },
  {
   "cell_type": "code",
   "execution_count": 14,
   "metadata": {
    "colab": {
     "base_uri": "https://localhost:8080/",
     "height": 34
    },
    "colab_type": "code",
    "id": "RFcZ_C94W47i",
    "outputId": "55e1ee8c-f677-44b8-caad-afce37a07865"
   },
   "outputs": [
    {
     "data": {
      "text/plain": [
       "999990"
      ]
     },
     "execution_count": 14,
     "metadata": {},
     "output_type": "execute_result"
    }
   ],
   "source": [
    "#drop duplicates\n",
    "train.drop_duplicates(keep = 'first', inplace = True)\n",
    "train.shape[0]"
   ]
  },
  {
   "cell_type": "code",
   "execution_count": 15,
   "metadata": {
    "colab": {
     "base_uri": "https://localhost:8080/",
     "height": 320
    },
    "colab_type": "code",
    "id": "yqBMJKJkx_uF",
    "outputId": "385812cb-9f4a-4dd1-b6bf-89645d447735"
   },
   "outputs": [
    {
     "data": {
      "text/html": [
       "<div>\n",
       "<style scoped>\n",
       "    .dataframe tbody tr th:only-of-type {\n",
       "        vertical-align: middle;\n",
       "    }\n",
       "\n",
       "    .dataframe tbody tr th {\n",
       "        vertical-align: top;\n",
       "    }\n",
       "\n",
       "    .dataframe thead th {\n",
       "        text-align: right;\n",
       "    }\n",
       "</style>\n",
       "<table border=\"1\" class=\"dataframe\">\n",
       "  <thead>\n",
       "    <tr style=\"text-align: right;\">\n",
       "      <th></th>\n",
       "      <th>fare_amount</th>\n",
       "      <th>pickup_longitude</th>\n",
       "      <th>pickup_latitude</th>\n",
       "      <th>dropoff_longitude</th>\n",
       "      <th>dropoff_latitude</th>\n",
       "      <th>passenger_count</th>\n",
       "      <th>weekday</th>\n",
       "      <th>year</th>\n",
       "      <th>month</th>\n",
       "      <th>day</th>\n",
       "      <th>hour</th>\n",
       "    </tr>\n",
       "  </thead>\n",
       "  <tbody>\n",
       "    <tr>\n",
       "      <th>count</th>\n",
       "      <td>999990.000000</td>\n",
       "      <td>999990.000000</td>\n",
       "      <td>999990.000000</td>\n",
       "      <td>999990.000000</td>\n",
       "      <td>999990.000000</td>\n",
       "      <td>999990.000000</td>\n",
       "      <td>999990.000000</td>\n",
       "      <td>999990.000000</td>\n",
       "      <td>999990.000000</td>\n",
       "      <td>999990.000000</td>\n",
       "      <td>999990.000000</td>\n",
       "    </tr>\n",
       "    <tr>\n",
       "      <th>mean</th>\n",
       "      <td>11.347953</td>\n",
       "      <td>-72.526699</td>\n",
       "      <td>39.929040</td>\n",
       "      <td>-72.527860</td>\n",
       "      <td>39.919954</td>\n",
       "      <td>1.684941</td>\n",
       "      <td>3.039870</td>\n",
       "      <td>2011.741103</td>\n",
       "      <td>6.267841</td>\n",
       "      <td>15.697996</td>\n",
       "      <td>13.509463</td>\n",
       "    </tr>\n",
       "    <tr>\n",
       "      <th>std</th>\n",
       "      <td>9.821790</td>\n",
       "      <td>12.057778</td>\n",
       "      <td>7.626087</td>\n",
       "      <td>11.324494</td>\n",
       "      <td>8.201418</td>\n",
       "      <td>1.323907</td>\n",
       "      <td>1.949966</td>\n",
       "      <td>1.860761</td>\n",
       "      <td>3.436230</td>\n",
       "      <td>8.682472</td>\n",
       "      <td>6.513855</td>\n",
       "    </tr>\n",
       "    <tr>\n",
       "      <th>min</th>\n",
       "      <td>-44.900000</td>\n",
       "      <td>-3377.680935</td>\n",
       "      <td>-3116.285383</td>\n",
       "      <td>-3383.296608</td>\n",
       "      <td>-3114.338567</td>\n",
       "      <td>0.000000</td>\n",
       "      <td>0.000000</td>\n",
       "      <td>2009.000000</td>\n",
       "      <td>1.000000</td>\n",
       "      <td>1.000000</td>\n",
       "      <td>0.000000</td>\n",
       "    </tr>\n",
       "    <tr>\n",
       "      <th>25%</th>\n",
       "      <td>6.000000</td>\n",
       "      <td>-73.992060</td>\n",
       "      <td>40.734965</td>\n",
       "      <td>-73.991385</td>\n",
       "      <td>40.734046</td>\n",
       "      <td>1.000000</td>\n",
       "      <td>1.000000</td>\n",
       "      <td>2010.000000</td>\n",
       "      <td>3.000000</td>\n",
       "      <td>8.000000</td>\n",
       "      <td>9.000000</td>\n",
       "    </tr>\n",
       "    <tr>\n",
       "      <th>50%</th>\n",
       "      <td>8.500000</td>\n",
       "      <td>-73.981792</td>\n",
       "      <td>40.752695</td>\n",
       "      <td>-73.980135</td>\n",
       "      <td>40.753166</td>\n",
       "      <td>1.000000</td>\n",
       "      <td>3.000000</td>\n",
       "      <td>2012.000000</td>\n",
       "      <td>6.000000</td>\n",
       "      <td>16.000000</td>\n",
       "      <td>14.000000</td>\n",
       "    </tr>\n",
       "    <tr>\n",
       "      <th>75%</th>\n",
       "      <td>12.500000</td>\n",
       "      <td>-73.967094</td>\n",
       "      <td>40.767154</td>\n",
       "      <td>-73.963654</td>\n",
       "      <td>40.768129</td>\n",
       "      <td>2.000000</td>\n",
       "      <td>5.000000</td>\n",
       "      <td>2013.000000</td>\n",
       "      <td>9.000000</td>\n",
       "      <td>23.000000</td>\n",
       "      <td>19.000000</td>\n",
       "    </tr>\n",
       "    <tr>\n",
       "      <th>max</th>\n",
       "      <td>500.000000</td>\n",
       "      <td>2522.271325</td>\n",
       "      <td>2621.628430</td>\n",
       "      <td>45.581619</td>\n",
       "      <td>1651.553433</td>\n",
       "      <td>208.000000</td>\n",
       "      <td>6.000000</td>\n",
       "      <td>2015.000000</td>\n",
       "      <td>12.000000</td>\n",
       "      <td>31.000000</td>\n",
       "      <td>23.000000</td>\n",
       "    </tr>\n",
       "  </tbody>\n",
       "</table>\n",
       "</div>"
      ],
      "text/plain": [
       "         fare_amount  pickup_longitude  pickup_latitude  dropoff_longitude  \\\n",
       "count  999990.000000     999990.000000    999990.000000      999990.000000   \n",
       "mean       11.347953        -72.526699        39.929040         -72.527860   \n",
       "std         9.821790         12.057778         7.626087          11.324494   \n",
       "min       -44.900000      -3377.680935     -3116.285383       -3383.296608   \n",
       "25%         6.000000        -73.992060        40.734965         -73.991385   \n",
       "50%         8.500000        -73.981792        40.752695         -73.980135   \n",
       "75%        12.500000        -73.967094        40.767154         -73.963654   \n",
       "max       500.000000       2522.271325      2621.628430          45.581619   \n",
       "\n",
       "       dropoff_latitude  passenger_count        weekday           year  \\\n",
       "count     999990.000000    999990.000000  999990.000000  999990.000000   \n",
       "mean          39.919954         1.684941       3.039870    2011.741103   \n",
       "std            8.201418         1.323907       1.949966       1.860761   \n",
       "min        -3114.338567         0.000000       0.000000    2009.000000   \n",
       "25%           40.734046         1.000000       1.000000    2010.000000   \n",
       "50%           40.753166         1.000000       3.000000    2012.000000   \n",
       "75%           40.768129         2.000000       5.000000    2013.000000   \n",
       "max         1651.553433       208.000000       6.000000    2015.000000   \n",
       "\n",
       "               month            day           hour  \n",
       "count  999990.000000  999990.000000  999990.000000  \n",
       "mean        6.267841      15.697996      13.509463  \n",
       "std         3.436230       8.682472       6.513855  \n",
       "min         1.000000       1.000000       0.000000  \n",
       "25%         3.000000       8.000000       9.000000  \n",
       "50%         6.000000      16.000000      14.000000  \n",
       "75%         9.000000      23.000000      19.000000  \n",
       "max        12.000000      31.000000      23.000000  "
      ]
     },
     "execution_count": 15,
     "metadata": {},
     "output_type": "execute_result"
    }
   ],
   "source": [
    "train.describe()\n",
    "#check the describe to see if their values make sense"
   ]
  },
  {
   "cell_type": "code",
   "execution_count": 16,
   "metadata": {
    "colab": {},
    "colab_type": "code",
    "id": "HG_0v9GCTMWU"
   },
   "outputs": [],
   "source": [
    "#based on these descriptors, we can at first sight already remove some outliers:\n",
    "#1) Latitudes range from -90 to 90. Longitudes range from -180 to 180.\n",
    "#2) passengers in a taxi, up to 6 (icnluding suvs) https://ride.guru/lounge/p/how-many-people-can-ride-in-a-cab \n",
    "#leave drives of 0 passengers in case documents are transported?\n",
    "#3) fare has to be positive value, over 2.50$? (that seems to be the initial charge) https://www1.nyc.gov/site/tlc/passengers/taxi-fare.page\n",
    "#also fare now seems too high (500) and the variance is pretty hight too. so we cut the max fare now\n",
    "\n",
    "#4) new york city actually has the following bounding box of coordinates (https://boundingbox.klokantech.com/)\n",
    "eastlimit_longitude=-73.700181\n",
    "southlimit_latitude =40.47739894\n",
    "westlimit_longitude=-74.25909\n",
    "northlimit_latitude=40.916178         \n",
    "                                                                                                               \n",
    "train = train[ (train.pickup_longitude >= westlimit_longitude) & (train.pickup_longitude <= eastlimit_longitude) & \\\n",
    "              (train.dropoff_longitude >= westlimit_longitude) & (train.dropoff_longitude <= eastlimit_longitude) & \\\n",
    "              (train.pickup_latitude >= southlimit_latitude ) & (train.pickup_latitude <= northlimit_latitude) & \\\n",
    "              (train.dropoff_latitude >= southlimit_latitude) & (train.dropoff_latitude <= northlimit_latitude) & \\\n",
    "              (train.passenger_count<= 6) & \\\n",
    "              (train.fare_amount >= 2.50) ]                                                                              \n",
    "\n",
    "#train = train[ (train.pickup_longitude >= -180) & (train.pickup_longitude <= 180) & \\\n",
    "#              (train.dropoff_longitude >= -180) & (train.dropoff_longitude <= 180) & \\\n",
    "#              (train.pickup_latitude >= -90) & (train.pickup_latitude <= 90) & \\\n",
    "#              (train.dropoff_latitude >= -90) & (train.dropoff_latitude <= 90) & \\\n",
    "#              (train.passenger_count<= 6) & \\\n",
    "#              (train.fare_amount > 2.50)  ]\n",
    "    \n"
   ]
  },
  {
   "cell_type": "code",
   "execution_count": 17,
   "metadata": {},
   "outputs": [
    {
     "data": {
      "text/plain": [
       "<matplotlib.axes._subplots.AxesSubplot at 0x7fdc17fcefd0>"
      ]
     },
     "execution_count": 17,
     "metadata": {},
     "output_type": "execute_result"
    },
    {
     "data": {
      "image/png": "[encoded data removed]",
      "text/plain": [
       "<Figure size 432x288 with 1 Axes>"
      ]
     },
     "metadata": {
      "needs_background": "light"
     },
     "output_type": "display_data"
    }
   ],
   "source": [
    "train.fare_amount.hist(bins=50)"
   ]
  },
  {
   "cell_type": "code",
   "execution_count": 18,
   "metadata": {},
   "outputs": [],
   "source": [
    "train = train[ (train.fare_amount < 100)]"
   ]
  },
  {
   "cell_type": "code",
   "execution_count": 19,
   "metadata": {
    "colab": {
     "base_uri": "https://localhost:8080/",
     "height": 320
    },
    "colab_type": "code",
    "id": "3tEWqrM8CSOO",
    "outputId": "fee4f7c8-1ad0-4463-9214-8a2008d0df42"
   },
   "outputs": [
    {
     "data": {
      "text/html": [
       "<div>\n",
       "<style scoped>\n",
       "    .dataframe tbody tr th:only-of-type {\n",
       "        vertical-align: middle;\n",
       "    }\n",
       "\n",
       "    .dataframe tbody tr th {\n",
       "        vertical-align: top;\n",
       "    }\n",
       "\n",
       "    .dataframe thead th {\n",
       "        text-align: right;\n",
       "    }\n",
       "</style>\n",
       "<table border=\"1\" class=\"dataframe\">\n",
       "  <thead>\n",
       "    <tr style=\"text-align: right;\">\n",
       "      <th></th>\n",
       "      <th>fare_amount</th>\n",
       "      <th>pickup_longitude</th>\n",
       "      <th>pickup_latitude</th>\n",
       "      <th>dropoff_longitude</th>\n",
       "      <th>dropoff_latitude</th>\n",
       "      <th>passenger_count</th>\n",
       "      <th>weekday</th>\n",
       "      <th>year</th>\n",
       "      <th>month</th>\n",
       "      <th>day</th>\n",
       "      <th>hour</th>\n",
       "    </tr>\n",
       "  </thead>\n",
       "  <tbody>\n",
       "    <tr>\n",
       "      <th>count</th>\n",
       "      <td>977645.000000</td>\n",
       "      <td>977645.000000</td>\n",
       "      <td>977645.000000</td>\n",
       "      <td>977645.000000</td>\n",
       "      <td>977645.000000</td>\n",
       "      <td>977645.000000</td>\n",
       "      <td>977645.000000</td>\n",
       "      <td>977645.000000</td>\n",
       "      <td>977645.000000</td>\n",
       "      <td>977645.000000</td>\n",
       "      <td>977645.000000</td>\n",
       "    </tr>\n",
       "    <tr>\n",
       "      <th>mean</th>\n",
       "      <td>11.266474</td>\n",
       "      <td>-73.975504</td>\n",
       "      <td>40.750870</td>\n",
       "      <td>-73.974565</td>\n",
       "      <td>40.751213</td>\n",
       "      <td>1.685273</td>\n",
       "      <td>3.039712</td>\n",
       "      <td>2011.739611</td>\n",
       "      <td>6.268954</td>\n",
       "      <td>15.692850</td>\n",
       "      <td>13.509751</td>\n",
       "    </tr>\n",
       "    <tr>\n",
       "      <th>std</th>\n",
       "      <td>9.295219</td>\n",
       "      <td>0.034370</td>\n",
       "      <td>0.026836</td>\n",
       "      <td>0.033850</td>\n",
       "      <td>0.030715</td>\n",
       "      <td>1.307981</td>\n",
       "      <td>1.949785</td>\n",
       "      <td>1.863163</td>\n",
       "      <td>3.437980</td>\n",
       "      <td>8.683036</td>\n",
       "      <td>6.510818</td>\n",
       "    </tr>\n",
       "    <tr>\n",
       "      <th>min</th>\n",
       "      <td>2.500000</td>\n",
       "      <td>-74.258821</td>\n",
       "      <td>40.482543</td>\n",
       "      <td>-74.258579</td>\n",
       "      <td>40.479537</td>\n",
       "      <td>0.000000</td>\n",
       "      <td>0.000000</td>\n",
       "      <td>2009.000000</td>\n",
       "      <td>1.000000</td>\n",
       "      <td>1.000000</td>\n",
       "      <td>0.000000</td>\n",
       "    </tr>\n",
       "    <tr>\n",
       "      <th>25%</th>\n",
       "      <td>6.000000</td>\n",
       "      <td>-73.992275</td>\n",
       "      <td>40.736587</td>\n",
       "      <td>-73.991571</td>\n",
       "      <td>40.735597</td>\n",
       "      <td>1.000000</td>\n",
       "      <td>1.000000</td>\n",
       "      <td>2010.000000</td>\n",
       "      <td>3.000000</td>\n",
       "      <td>8.000000</td>\n",
       "      <td>9.000000</td>\n",
       "    </tr>\n",
       "    <tr>\n",
       "      <th>50%</th>\n",
       "      <td>8.500000</td>\n",
       "      <td>-73.982092</td>\n",
       "      <td>40.753401</td>\n",
       "      <td>-73.980605</td>\n",
       "      <td>40.753859</td>\n",
       "      <td>1.000000</td>\n",
       "      <td>3.000000</td>\n",
       "      <td>2012.000000</td>\n",
       "      <td>6.000000</td>\n",
       "      <td>16.000000</td>\n",
       "      <td>14.000000</td>\n",
       "    </tr>\n",
       "    <tr>\n",
       "      <th>75%</th>\n",
       "      <td>12.500000</td>\n",
       "      <td>-73.968367</td>\n",
       "      <td>40.767541</td>\n",
       "      <td>-73.965390</td>\n",
       "      <td>40.768394</td>\n",
       "      <td>2.000000</td>\n",
       "      <td>5.000000</td>\n",
       "      <td>2013.000000</td>\n",
       "      <td>9.000000</td>\n",
       "      <td>23.000000</td>\n",
       "      <td>19.000000</td>\n",
       "    </tr>\n",
       "    <tr>\n",
       "      <th>max</th>\n",
       "      <td>99.750000</td>\n",
       "      <td>-73.700438</td>\n",
       "      <td>40.913110</td>\n",
       "      <td>-73.700390</td>\n",
       "      <td>40.916035</td>\n",
       "      <td>6.000000</td>\n",
       "      <td>6.000000</td>\n",
       "      <td>2015.000000</td>\n",
       "      <td>12.000000</td>\n",
       "      <td>31.000000</td>\n",
       "      <td>23.000000</td>\n",
       "    </tr>\n",
       "  </tbody>\n",
       "</table>\n",
       "</div>"
      ],
      "text/plain": [
       "         fare_amount  pickup_longitude  pickup_latitude  dropoff_longitude  \\\n",
       "count  977645.000000     977645.000000    977645.000000      977645.000000   \n",
       "mean       11.266474        -73.975504        40.750870         -73.974565   \n",
       "std         9.295219          0.034370         0.026836           0.033850   \n",
       "min         2.500000        -74.258821        40.482543         -74.258579   \n",
       "25%         6.000000        -73.992275        40.736587         -73.991571   \n",
       "50%         8.500000        -73.982092        40.753401         -73.980605   \n",
       "75%        12.500000        -73.968367        40.767541         -73.965390   \n",
       "max        99.750000        -73.700438        40.913110         -73.700390   \n",
       "\n",
       "       dropoff_latitude  passenger_count        weekday           year  \\\n",
       "count     977645.000000    977645.000000  977645.000000  977645.000000   \n",
       "mean          40.751213         1.685273       3.039712    2011.739611   \n",
       "std            0.030715         1.307981       1.949785       1.863163   \n",
       "min           40.479537         0.000000       0.000000    2009.000000   \n",
       "25%           40.735597         1.000000       1.000000    2010.000000   \n",
       "50%           40.753859         1.000000       3.000000    2012.000000   \n",
       "75%           40.768394         2.000000       5.000000    2013.000000   \n",
       "max           40.916035         6.000000       6.000000    2015.000000   \n",
       "\n",
       "               month            day           hour  \n",
       "count  977645.000000  977645.000000  977645.000000  \n",
       "mean        6.268954      15.692850      13.509751  \n",
       "std         3.437980       8.683036       6.510818  \n",
       "min         1.000000       1.000000       0.000000  \n",
       "25%         3.000000       8.000000       9.000000  \n",
       "50%         6.000000      16.000000      14.000000  \n",
       "75%         9.000000      23.000000      19.000000  \n",
       "max        12.000000      31.000000      23.000000  "
      ]
     },
     "execution_count": 19,
     "metadata": {},
     "output_type": "execute_result"
    }
   ],
   "source": [
    "train.describe()"
   ]
  },
  {
   "cell_type": "code",
   "execution_count": 20,
   "metadata": {
    "colab": {},
    "colab_type": "code",
    "id": "Pr5wOKBaYIdW"
   },
   "outputs": [],
   "source": [
    "#maybe convert time (hours and minutes) to circular, given that then the correlation may be more easily seen\n",
    "#seconds_in_day = 24*60*60\n",
    "\n",
    "#train['full_time'] = train.hour*60*60 + train.minute*60 + train.second #time of the day in seconds\n",
    "#train['sin_time'] = np.sin(2*np.pi*train.full_time/seconds_in_day)\n",
    "#train['cos_time'] = np.cos(2*np.pi*train.full_time/seconds_in_day)\n",
    "#train.drop('full_time', axis=1, inplace=True)\n",
    "\n",
    "#note: checked that these 2 feats are computed ok (proper ranges)"
   ]
  },
  {
   "cell_type": "code",
   "execution_count": 21,
   "metadata": {
    "colab": {},
    "colab_type": "code",
    "id": "hbg0VE6P19xG"
   },
   "outputs": [
    {
     "name": "stderr",
     "output_type": "stream",
     "text": [
      "/home/a/miniconda2/envs/kernpy3/lib/python3.6/site-packages/ipykernel_launcher.py:5: DeprecationWarning: Vincenty is deprecated and is going to be removed in geopy 2.0. Use `geopy.distance.geodesic` (or the default `geopy.distance.distance`) instead, which is more accurate and always converges.\n",
      "  \"\"\"\n"
     ]
    }
   ],
   "source": [
    "#Instead of doing Harvestine distance (that assumes Earth is a sphere), here Vincenty distance is used,\n",
    "#which employs more accurate ellipsoidal models\n",
    "\n",
    "# (latitude, longitude) reminder\n",
    "train ['distance'] = train.apply(lambda x: vincenty((x['pickup_latitude'], x['pickup_longitude']), (x['dropoff_latitude'], x['dropoff_longitude'])).kilometers, axis = 1)"
   ]
  },
  {
   "cell_type": "code",
   "execution_count": 22,
   "metadata": {
    "colab": {
     "base_uri": "https://localhost:8080/",
     "height": 225
    },
    "colab_type": "code",
    "id": "FtPGAy8Q1Fni",
    "outputId": "c9445589-2bf3-4dc7-8693-990ad038127b"
   },
   "outputs": [
    {
     "data": {
      "text/plain": [
       "count    977645.000000\n",
       "mean          3.303950\n",
       "std           3.539452\n",
       "min           0.000000\n",
       "25%           1.255057\n",
       "50%           2.152355\n",
       "75%           3.911568\n",
       "max          43.621927\n",
       "Name: distance, dtype: float64"
      ]
     },
     "execution_count": 22,
     "metadata": {},
     "output_type": "execute_result"
    }
   ],
   "source": [
    "train['distance'].describe()"
   ]
  },
  {
   "cell_type": "code",
   "execution_count": 23,
   "metadata": {
    "colab": {
     "base_uri": "https://localhost:8080/",
     "height": 132
    },
    "colab_type": "code",
    "id": "-GWQBybsybzm",
    "outputId": "c7f993cb-e9a3-45ea-e506-adc8e0bbae77"
   },
   "outputs": [
    {
     "data": {
      "text/html": [
       "<div>\n",
       "<style scoped>\n",
       "    .dataframe tbody tr th:only-of-type {\n",
       "        vertical-align: middle;\n",
       "    }\n",
       "\n",
       "    .dataframe tbody tr th {\n",
       "        vertical-align: top;\n",
       "    }\n",
       "\n",
       "    .dataframe thead th {\n",
       "        text-align: right;\n",
       "    }\n",
       "</style>\n",
       "<table border=\"1\" class=\"dataframe\">\n",
       "  <thead>\n",
       "    <tr style=\"text-align: right;\">\n",
       "      <th></th>\n",
       "      <th>fare_amount</th>\n",
       "      <th>pickup_longitude</th>\n",
       "      <th>pickup_latitude</th>\n",
       "      <th>dropoff_longitude</th>\n",
       "      <th>dropoff_latitude</th>\n",
       "      <th>passenger_count</th>\n",
       "      <th>weekday</th>\n",
       "      <th>year</th>\n",
       "      <th>month</th>\n",
       "      <th>day</th>\n",
       "      <th>hour</th>\n",
       "      <th>distance</th>\n",
       "    </tr>\n",
       "  </thead>\n",
       "  <tbody>\n",
       "    <tr>\n",
       "      <th>min</th>\n",
       "      <td>2.50</td>\n",
       "      <td>-74.258821</td>\n",
       "      <td>40.482543</td>\n",
       "      <td>-74.258579</td>\n",
       "      <td>40.479537</td>\n",
       "      <td>0.0</td>\n",
       "      <td>0.0</td>\n",
       "      <td>2009.0</td>\n",
       "      <td>1.0</td>\n",
       "      <td>1.0</td>\n",
       "      <td>0.0</td>\n",
       "      <td>0.000000</td>\n",
       "    </tr>\n",
       "    <tr>\n",
       "      <th>max</th>\n",
       "      <td>99.75</td>\n",
       "      <td>-73.700438</td>\n",
       "      <td>40.913110</td>\n",
       "      <td>-73.700390</td>\n",
       "      <td>40.916035</td>\n",
       "      <td>6.0</td>\n",
       "      <td>6.0</td>\n",
       "      <td>2015.0</td>\n",
       "      <td>12.0</td>\n",
       "      <td>31.0</td>\n",
       "      <td>23.0</td>\n",
       "      <td>43.621927</td>\n",
       "    </tr>\n",
       "  </tbody>\n",
       "</table>\n",
       "</div>"
      ],
      "text/plain": [
       "     fare_amount  pickup_longitude  pickup_latitude  dropoff_longitude  \\\n",
       "min         2.50        -74.258821        40.482543         -74.258579   \n",
       "max        99.75        -73.700438        40.913110         -73.700390   \n",
       "\n",
       "     dropoff_latitude  passenger_count  weekday    year  month   day  hour  \\\n",
       "min         40.479537              0.0      0.0  2009.0    1.0   1.0   0.0   \n",
       "max         40.916035              6.0      6.0  2015.0   12.0  31.0  23.0   \n",
       "\n",
       "      distance  \n",
       "min   0.000000  \n",
       "max  43.621927  "
      ]
     },
     "execution_count": 23,
     "metadata": {},
     "output_type": "execute_result"
    }
   ],
   "source": [
    "train.describe().loc[['min','max']]"
   ]
  },
  {
   "cell_type": "code",
   "execution_count": 24,
   "metadata": {},
   "outputs": [],
   "source": [
    "#there shouldn't be any distance equal to 0:\n",
    "train = train[ (train.distance > 0)]\n",
    "#log transform for distance helps\n",
    "train['distance_log'] = train['distance'].transform(lambda x: np.log(x+sys.float_info.epsilon))"
   ]
  },
  {
   "cell_type": "code",
   "execution_count": 25,
   "metadata": {},
   "outputs": [
    {
     "data": {
      "text/plain": [
       "(967489, 15)"
      ]
     },
     "execution_count": 25,
     "metadata": {},
     "output_type": "execute_result"
    }
   ],
   "source": [
    "train.shape"
   ]
  },
  {
   "cell_type": "markdown",
   "metadata": {},
   "source": [
    "## Data visualization (exploratory analysis)"
   ]
  },
  {
   "cell_type": "code",
   "execution_count": 22,
   "metadata": {
    "colab": {
     "base_uri": "https://localhost:8080/",
     "height": 1000
    },
    "colab_type": "code",
    "id": "V4TyLFuIiMJm",
    "outputId": "1a6422f4-0cab-4e7d-f928-a27914cdf8e6"
   },
   "outputs": [
    {
     "name": "stderr",
     "output_type": "stream",
     "text": [
      "/home/a/miniconda2/envs/kernpy3/lib/python3.6/site-packages/ipykernel_launcher.py:4: UserWarning: To output multiple subplots, the figure containing the passed axes is being cleared\n",
      "  after removing the cwd from sys.path.\n"
     ]
    },
    {
     "data": {
      "text/plain": [
       "array([[<matplotlib.axes._subplots.AxesSubplot object at 0x7f741e0dec18>,\n",
       "        <matplotlib.axes._subplots.AxesSubplot object at 0x7f741e0bc748>,\n",
       "        <matplotlib.axes._subplots.AxesSubplot object at 0x7f73ed42ecf8>,\n",
       "        <matplotlib.axes._subplots.AxesSubplot object at 0x7f73e1a152e8>],\n",
       "       [<matplotlib.axes._subplots.AxesSubplot object at 0x7f7410d03898>,\n",
       "        <matplotlib.axes._subplots.AxesSubplot object at 0x7f73e8b0a3c8>,\n",
       "        <matplotlib.axes._subplots.AxesSubplot object at 0x7f73e8b3a978>,\n",
       "        <matplotlib.axes._subplots.AxesSubplot object at 0x7f741e06ef60>],\n",
       "       [<matplotlib.axes._subplots.AxesSubplot object at 0x7f741e06ef98>,\n",
       "        <matplotlib.axes._subplots.AxesSubplot object at 0x7f741dfd5ac8>,\n",
       "        <matplotlib.axes._subplots.AxesSubplot object at 0x7f741df950b8>,\n",
       "        <matplotlib.axes._subplots.AxesSubplot object at 0x7f741df44668>],\n",
       "       [<matplotlib.axes._subplots.AxesSubplot object at 0x7f741df77c18>,\n",
       "        <matplotlib.axes._subplots.AxesSubplot object at 0x7f741df36208>,\n",
       "        <matplotlib.axes._subplots.AxesSubplot object at 0x7f741dee67b8>,\n",
       "        <matplotlib.axes._subplots.AxesSubplot object at 0x7f741de96d68>]],\n",
       "      dtype=object)"
      ]
     },
     "execution_count": 22,
     "metadata": {},
     "output_type": "execute_result"
    },
    {
     "data": {
      "image/png": "[encoded data removed]",
      "text/plain": [
       "<Figure size 1080x1440 with 16 Axes>"
      ]
     },
     "metadata": {
      "needs_background": "light"
     },
     "output_type": "display_data"
    }
   ],
   "source": [
    "#check distributions of all the features\n",
    "fig = plt.figure(figsize = (15,20))\n",
    "ax = fig.gca()\n",
    "train.hist(ax = ax, bins=50)\n"
   ]
  },
  {
   "cell_type": "code",
   "execution_count": 23,
   "metadata": {
    "colab": {},
    "colab_type": "code",
    "id": "yIcDTblzqVaM"
   },
   "outputs": [],
   "source": [
    "#Outlier removal, probably not needed\n",
    "\n",
    "#Q1 = train.quantile(0.25)\n",
    "#Q3 = train.quantile(0.75)\n",
    "#IQR = Q3 - Q1\n",
    "\n",
    "##automatic outlier removal, to try and get more normal distributions\n",
    "##https://towardsdatascience.com/ways-to-detect-and-remove-the-outliers-404d16608dba?gi=8548f80fce4b\n",
    "#train_out = train.drop(['key','pickup_datetime'],axis=1, inplace=False)\n",
    "#\n",
    "#train_out = train_out[~((train_out < (Q1 - 1.5 * IQR)) |(train_out > (Q3 + 1.5 * IQR))).any(axis=1)]"
   ]
  },
  {
   "cell_type": "code",
   "execution_count": 24,
   "metadata": {
    "colab": {},
    "colab_type": "code",
    "id": "h-RvXNKyv8Db"
   },
   "outputs": [],
   "source": [
    "corr_pearson = train.corr(method='pearson')\n",
    "mask = np.zeros_like(corr_pearson, dtype=np.bool)\n",
    "mask[np.triu_indices_from(mask)] = True"
   ]
  },
  {
   "cell_type": "code",
   "execution_count": 25,
   "metadata": {
    "colab": {
     "base_uri": "https://localhost:8080/",
     "height": 676
    },
    "colab_type": "code",
    "id": "yZVa4uFLwDbb",
    "outputId": "1cbd6831-a812-47fa-965c-32a1f945c0f8"
   },
   "outputs": [
    {
     "data": {
      "text/plain": [
       "<matplotlib.axes._subplots.AxesSubplot at 0x7f8a40bdcdd8>"
      ]
     },
     "execution_count": 25,
     "metadata": {},
     "output_type": "execute_result"
    },
    {
     "data": {
      "image/png": "[encoded data removed]",
      "text/plain": [
       "<Figure size 1152x720 with 2 Axes>"
      ]
     },
     "metadata": {
      "needs_background": "light"
     },
     "output_type": "display_data"
    }
   ],
   "source": [
    "fig4, ax4 = plt.subplots(figsize=(16, 10))\n",
    "sns.heatmap(corr_pearson, mask=mask, cmap='RdBu_r', vmax=1, center=0,\n",
    "            square=True, linewidths=.5, cbar_kws={\"shrink\": .5},vmin=-1)"
   ]
  },
  {
   "cell_type": "code",
   "execution_count": 26,
   "metadata": {
    "colab": {},
    "colab_type": "code",
    "id": "gRzX-1pIznyU"
   },
   "outputs": [],
   "source": [
    "#visualizer = FeatureCorrelation( method='mutual_info-classification', feature_names=train_out.columns, sort=True)\n",
    "X = train.drop(['fare_amount','key','pickup_datetime'],axis=1, inplace=False).to_numpy()\n",
    "Y = train.fare_amount.to_numpy()\n",
    "#lab_enc = sklearn.preprocessing.LabelEncoder()\n",
    "#Y_encoded = lab_enc.fit_transform(Y)\n",
    "\n",
    "#mutual information has too expensive computationally to run for all data, so we just take \n",
    "X = X[1:100000,:]\n",
    "Y = Y[1:100000]\n",
    "\n",
    "feature_MIscores = sklearn.feature_selection.mutual_info_regression(X, Y)\n",
    "\n",
    "#visualizer.fit(X, Y)        # Fit the data to the visualizer\n",
    "#visualizer.show()              # Finalize and render the figure"
   ]
  },
  {
   "cell_type": "code",
   "execution_count": 27,
   "metadata": {
    "colab": {},
    "colab_type": "code",
    "id": "bTCn7xtRxwc2"
   },
   "outputs": [
    {
     "data": {
      "text/plain": [
       "(12,)"
      ]
     },
     "execution_count": 27,
     "metadata": {},
     "output_type": "execute_result"
    }
   ],
   "source": [
    "feature_MIscores.shape\n",
    "\n",
    "#plot also the fare vs the date (year), and maybe check as hypothesis if there is a positive correlation between year and fare"
   ]
  },
  {
   "cell_type": "code",
   "execution_count": 28,
   "metadata": {},
   "outputs": [
    {
     "data": {
      "text/plain": [
       "([<matplotlib.axis.YTick at 0x7f8a34491f98>,\n",
       "  <matplotlib.axis.YTick at 0x7f8a40a4e438>,\n",
       "  <matplotlib.axis.YTick at 0x7f8a34496320>,\n",
       "  <matplotlib.axis.YTick at 0x7f8a344fd898>,\n",
       "  <matplotlib.axis.YTick at 0x7f8a344fd860>,\n",
       "  <matplotlib.axis.YTick at 0x7f8a344f1160>,\n",
       "  <matplotlib.axis.YTick at 0x7f8a344f16a0>,\n",
       "  <matplotlib.axis.YTick at 0x7f8a344f1c18>,\n",
       "  <matplotlib.axis.YTick at 0x7f8a344ea1d0>,\n",
       "  <matplotlib.axis.YTick at 0x7f8a344ea748>,\n",
       "  <matplotlib.axis.YTick at 0x7f8a344eacc0>,\n",
       "  <matplotlib.axis.YTick at 0x7f8a344e5278>],\n",
       " <a list of 12 Text yticklabel objects>)"
      ]
     },
     "execution_count": 28,
     "metadata": {},
     "output_type": "execute_result"
    },
    {
     "data": {
      "image/png": "[encoded data removed]",
      "text/plain": [
       "<Figure size 720x720 with 1 Axes>"
      ]
     },
     "metadata": {
      "needs_background": "light"
     },
     "output_type": "display_data"
    }
   ],
   "source": [
    "feats_labels = train.drop(['fare_amount','key','pickup_datetime'],axis=1, inplace=False).columns\n",
    "#print(feats_labels)\n",
    "index = np.arange(len(feats_labels))\n",
    "plt.figure(figsize=(10,10))\n",
    "plt.barh(index, feature_MIscores)\n",
    "plt.xlabel('mutual information score', fontsize=20)\n",
    "plt.yticks(index, feats_labels, fontsize=10, rotation=30)"
   ]
  },
  {
   "cell_type": "code",
   "execution_count": 29,
   "metadata": {},
   "outputs": [],
   "source": [
    "#sns.pairplot(train, y_vars=['fare_amount'], x_vars=['distance', 'distance_log', 'hour','day','month','year','weekday','passenger_count','dropoff_latitude','dropoff_longitude','pickup_latitude','pickup_longitude'])"
   ]
  },
  {
   "cell_type": "code",
   "execution_count": 30,
   "metadata": {},
   "outputs": [
    {
     "data": {
      "text/plain": [
       "<matplotlib.axes._subplots.AxesSubplot at 0x7f8a34487da0>"
      ]
     },
     "execution_count": 30,
     "metadata": {},
     "output_type": "execute_result"
    },
    {
     "data": {
      "image/png": "[encoded data removed]",
      "text/plain": [
       "<Figure size 432x288 with 1 Axes>"
      ]
     },
     "metadata": {
      "needs_background": "light"
     },
     "output_type": "display_data"
    }
   ],
   "source": [
    "sns.scatterplot(x=\"distance\", y=\"fare_amount\", data=train)"
   ]
  },
  {
   "cell_type": "code",
   "execution_count": 31,
   "metadata": {},
   "outputs": [
    {
     "data": {
      "text/plain": [
       "<matplotlib.axes._subplots.AxesSubplot at 0x7f8a344d2860>"
      ]
     },
     "execution_count": 31,
     "metadata": {},
     "output_type": "execute_result"
    },
    {
     "data": {
      "image/png": "[encoded data removed]",
      "text/plain": [
       "<Figure size 432x288 with 1 Axes>"
      ]
     },
     "metadata": {
      "needs_background": "light"
     },
     "output_type": "display_data"
    }
   ],
   "source": [
    "#there is also a kind of straight line, that can be explained by the flat rates used for taxi rides from airport\n",
    " #\"Taxis at JFK Airport charge a flat fare of $52 for trips between the airport and Manhattan.\" \n",
    "#https://www.jfkairport.com/to-from-airport/taxi-car-and-van-service\n",
    "sns.scatterplot(x=\"distance_log\", y=\"fare_amount\", data=train)"
   ]
  },
  {
   "cell_type": "code",
   "execution_count": 32,
   "metadata": {},
   "outputs": [
    {
     "data": {
      "text/plain": [
       "<seaborn.axisgrid.JointGrid at 0x7f8a409b4e80>"
      ]
     },
     "execution_count": 32,
     "metadata": {},
     "output_type": "execute_result"
    },
    {
     "data": {
      "image/png": "[encoded data removed]",
      "text/plain": [
       "<Figure size 432x432 with 3 Axes>"
      ]
     },
     "metadata": {
      "needs_background": "light"
     },
     "output_type": "display_data"
    }
   ],
   "source": [
    "#using hex bins because regular scatter plot does not work (too many points)\n",
    "sns.jointplot(x=\"distance\", y=\"fare_amount\", data=train, kind='reg',joint_kws={'line_kws':{'color':'cyan'}})"
   ]
  },
  {
   "cell_type": "code",
   "execution_count": 33,
   "metadata": {},
   "outputs": [
    {
     "data": {
      "text/plain": [
       "<seaborn.axisgrid.JointGrid at 0x7f8a407c6f28>"
      ]
     },
     "execution_count": 33,
     "metadata": {},
     "output_type": "execute_result"
    },
    {
     "data": {
      "image/png": "[encoded data removed]",
      "text/plain": [
       "<Figure size 432x432 with 3 Axes>"
      ]
     },
     "metadata": {
      "needs_background": "light"
     },
     "output_type": "display_data"
    }
   ],
   "source": [
    "#using hex bins because regular scatter plot does not work (too many points)\n",
    "#easier to see with dostance_log since the scale is shrunk\n",
    "sns.jointplot(x=\"distance\", y=\"fare_amount\", data=train, kind='hex')"
   ]
  },
  {
   "cell_type": "code",
   "execution_count": 34,
   "metadata": {
    "colab": {},
    "colab_type": "code",
    "id": "_KbEzhXAzd4S"
   },
   "outputs": [],
   "source": [
    "#TODO: maybe also plot histograms grouping by day, or by hour, to see what times are more common, and see if the fair is similar for "
   ]
  },
  {
   "cell_type": "code",
   "execution_count": 35,
   "metadata": {
    "colab": {},
    "colab_type": "code",
    "id": "fUX0PGFRy-OP"
   },
   "outputs": [],
   "source": [
    "#TODO:maybe a heat map of the fares would be interesting, doing a geomap, maybe use plotly?"
   ]
  },
  {
   "cell_type": "code",
   "execution_count": 36,
   "metadata": {},
   "outputs": [],
   "source": [
    "#TODO: maybe employ clustering to get some extra information of the data, like outliers? "
   ]
  },
  {
   "cell_type": "markdown",
   "metadata": {},
   "source": [
    "## Split of training data (train + validation)"
   ]
  },
  {
   "cell_type": "code",
   "execution_count": 29,
   "metadata": {},
   "outputs": [],
   "source": [
    "train2, val = train_test_split(train, test_size=0.3)"
   ]
  },
  {
   "cell_type": "code",
   "execution_count": 24,
   "metadata": {},
   "outputs": [
    {
     "data": {
      "text/plain": [
       "(967489, 15)"
      ]
     },
     "execution_count": 24,
     "metadata": {},
     "output_type": "execute_result"
    }
   ],
   "source": [
    "train.shape"
   ]
  },
  {
   "cell_type": "code",
   "execution_count": 25,
   "metadata": {},
   "outputs": [
    {
     "data": {
      "text/plain": [
       "(677242, 15)"
      ]
     },
     "execution_count": 25,
     "metadata": {},
     "output_type": "execute_result"
    }
   ],
   "source": [
    "train2.shape"
   ]
  },
  {
   "cell_type": "code",
   "execution_count": 26,
   "metadata": {},
   "outputs": [
    {
     "data": {
      "text/plain": [
       "Index(['key', 'fare_amount', 'pickup_datetime', 'pickup_longitude',\n",
       "       'pickup_latitude', 'dropoff_longitude', 'dropoff_latitude',\n",
       "       'passenger_count', 'weekday', 'year', 'month', 'day', 'hour',\n",
       "       'distance', 'distance_log'],\n",
       "      dtype='object')"
      ]
     },
     "execution_count": 26,
     "metadata": {},
     "output_type": "execute_result"
    }
   ],
   "source": [
    "train.columns"
   ]
  },
  {
   "cell_type": "code",
   "execution_count": 27,
   "metadata": {},
   "outputs": [
    {
     "data": {
      "text/plain": [
       "(290247, 15)"
      ]
     },
     "execution_count": 27,
     "metadata": {},
     "output_type": "execute_result"
    }
   ],
   "source": [
    "val.shape"
   ]
  },
  {
   "cell_type": "code",
   "execution_count": 28,
   "metadata": {
    "colab": {},
    "colab_type": "code",
    "id": "vmi34QYRYbr6"
   },
   "outputs": [],
   "source": [
    "#val = pd.read_csv(train_path, skiprows=[2, 1_000_000], nrows=400_000)\n",
    "#val.head()"
   ]
  },
  {
   "cell_type": "code",
   "execution_count": 29,
   "metadata": {},
   "outputs": [],
   "source": [
    "#val.columns[val.isna().any()].tolist()"
   ]
  },
  {
   "cell_type": "code",
   "execution_count": 30,
   "metadata": {},
   "outputs": [],
   "source": [
    "##now we add the same features that we did previously:\n",
    "#val['key'] = pd.to_datetime(val['key'])\n",
    "#val['weekday'] = val['key'].dt.dayofweek\n",
    "#val['year']=val['key'].dt.year\n",
    "#val['month']=val['key'].dt.month\n",
    "#val['day']=val['key'].dt.day\n",
    "#val['hour']=val['key'].dt.hour\n",
    "#\n",
    "##drop other\n",
    "#val.drop(['key','pickup_datetime'],axis=1, inplace=True)"
   ]
  },
  {
   "cell_type": "code",
   "execution_count": 31,
   "metadata": {},
   "outputs": [],
   "source": [
    "#val.columns[val.isna().any()].tolist()"
   ]
  },
  {
   "cell_type": "code",
   "execution_count": 32,
   "metadata": {},
   "outputs": [],
   "source": [
    "#we don't remove NaN observations in the valiation test, because we want to be able to check how good it is \n",
    "#with all entries\n",
    "#we use median rather than mean since it is more robust against outliers\n",
    "#val.dropoff_longitude.fillna(val.dropoff_longitude.median(),inplace=True)\n",
    "#val.dropoff_latitude.fillna(val.dropoff_latitude.median(),inplace=True)"
   ]
  },
  {
   "cell_type": "code",
   "execution_count": 33,
   "metadata": {},
   "outputs": [],
   "source": [
    "#bounding the wrong coordinates (for distance computation)\n",
    "#val.loc[val['pickup_longitude'] > 180, 'pickup_longitude'] = 180\n",
    "#val.loc[val['pickup_longitude'] < -180, 'pickup_longitude'] = -180\n",
    "#val.loc[val['dropoff_longitude'] > 180, 'dropoff_longitude'] = 180\n",
    "#val.loc[val['dropoff_longitude'] < -180, 'dropoff_longitude'] = -180\n",
    "\n",
    "#val.loc[val['pickup_latitude'] > 90, 'pickup_latitude'] = 90\n",
    "#val.loc[val['pickup_latitude'] < -90, 'pickup_latitude'] = -90\n",
    "#val.loc[val['dropoff_latitude'] > 90, 'dropoff_latitude'] = 90\n",
    "#val.loc[val['dropoff_latitude'] < -90, 'dropoff_latitude'] = -90\n",
    "\n"
   ]
  },
  {
   "cell_type": "code",
   "execution_count": 34,
   "metadata": {},
   "outputs": [],
   "source": [
    "#Instead of doing Harvestine distance (that assumes Earth is a sphere), here Vincenty distance is used,\n",
    "#which employs more accurate ellipsoidal models\n",
    "\n",
    "# (latitude, longitude) reminder\n",
    "#val ['distance'] = val.apply(lambda y: vincenty((y['pickup_latitude'], y['pickup_longitude']), (y['dropoff_latitude'], y['dropoff_longitude'])).meters, axis = 1)"
   ]
  },
  {
   "cell_type": "markdown",
   "metadata": {},
   "source": [
    "## Modeling \n",
    "### (Comparison of two regression models, plus a dummy model as baseline)"
   ]
  },
  {
   "cell_type": "code",
   "execution_count": 35,
   "metadata": {},
   "outputs": [],
   "source": []
  },
  {
   "cell_type": "code",
   "execution_count": 36,
   "metadata": {},
   "outputs": [],
   "source": [
    "X_train = train2[['year','distance_log']]\n",
    "y_train = train2[['fare_amount']]\n",
    "\n",
    "X_val = val[['year','distance_log']]\n",
    "y_val = val[['fare_amount']]"
   ]
  },
  {
   "cell_type": "markdown",
   "metadata": {},
   "source": [
    "### Dummy model"
   ]
  },
  {
   "cell_type": "code",
   "execution_count": 57,
   "metadata": {},
   "outputs": [],
   "source": [
    "dummy_regr = DummyRegressor(strategy=\"mean\")\n",
    "dummy_regr.fit(X_train, y_train)\n",
    "y_valPred_dummy = dummy_regr.predict(X_val)\n",
    "y_trainPred_dummy = dummy_regr.predict(X_train)"
   ]
  },
  {
   "cell_type": "code",
   "execution_count": 66,
   "metadata": {},
   "outputs": [
    {
     "name": "stdout",
     "output_type": "stream",
     "text": [
      "Dummy model- training, R2:0.0\n",
      "Dummy model- validation, R2:-1.911048189251474e-06\n"
     ]
    }
   ],
   "source": [
    "#R2 is the proportion of the variance in the dependent variable that is predictable from the independent\n",
    "#variable(s).\n",
    "\n",
    "r2_val_dummy = r2_score(y_val, y_valPred_dummy)\n",
    "r2_train_dummy = r2_score(y_train, y_trainPred_dummy)\n",
    "\n",
    "print('Dummy model- training, R2:' + str(r2_train_dummy))\n",
    "print('Dummy model- validation, R2:' + str(r2_val_dummy))\n"
   ]
  },
  {
   "cell_type": "code",
   "execution_count": 67,
   "metadata": {},
   "outputs": [
    {
     "name": "stdout",
     "output_type": "stream",
     "text": [
      "Linear regression - training, MSE:86.04865110545889\n",
      "Linear regression - validation, MSE:85.45814674852882\n"
     ]
    }
   ],
   "source": [
    "mse_val_dummy = mean_squared_error(y_val, y_valPred_dummy)\n",
    "mse_train_dummy = mean_squared_error(y_train, y_trainPred_dummy)\n",
    "\n",
    "print('Linear regression - training, MSE:' + str(mse_train_dummy))\n",
    "print('Linear regression - validation, MSE:' + str(mse_val_dummy))"
   ]
  },
  {
   "cell_type": "markdown",
   "metadata": {},
   "source": [
    "### Linear regression"
   ]
  },
  {
   "cell_type": "code",
   "execution_count": 37,
   "metadata": {},
   "outputs": [],
   "source": [
    "scaler = StandardScaler()\n",
    "scaler.fit(X_train)\n",
    "\n",
    "#use same scaler for both, based on X_train data\n",
    "X_trainNorm = scaler.transform(X_train)\n",
    "X_valNorm = scaler.transform(X_val)"
   ]
  },
  {
   "cell_type": "code",
   "execution_count": 77,
   "metadata": {},
   "outputs": [],
   "source": [
    "#to normalize we use a robust scaler against outliers (same results as with standardScaler, but maybe for test is better\n",
    "#robustScaler = RobustScaler()\n",
    "#robustScaler.fit(X_train)\n",
    "#X_trainNorm = robustScaler.transform(X_train)\n",
    "#X_valNorm = robustScaler.transform(X_val)"
   ]
  },
  {
   "cell_type": "code",
   "execution_count": 68,
   "metadata": {},
   "outputs": [
    {
     "name": "stdout",
     "output_type": "stream",
     "text": [
      "LinearRegression(copy_X=True, fit_intercept=True, n_jobs=None, normalize=False)\n"
     ]
    }
   ],
   "source": [
    "# create linear regression model\n",
    "linRegr = linear_model.LinearRegression()\n",
    "print(linRegr)"
   ]
  },
  {
   "cell_type": "code",
   "execution_count": 80,
   "metadata": {},
   "outputs": [
    {
     "data": {
      "text/plain": [
       "LinearRegression(copy_X=True, fit_intercept=True, n_jobs=None, normalize=False)"
      ]
     },
     "execution_count": 80,
     "metadata": {},
     "output_type": "execute_result"
    }
   ],
   "source": [
    "# train the model with training data\n",
    "linRegr.fit(X_trainNorm, y_train)"
   ]
  },
  {
   "cell_type": "code",
   "execution_count": 81,
   "metadata": {},
   "outputs": [],
   "source": [
    "y_valPred_linReg = linRegr.predict(X_valNorm) #to check validation error measures\n",
    "y_trainPred_linReg = linRegr.predict(X_trainNorm) #to check training error measures"
   ]
  },
  {
   "cell_type": "code",
   "execution_count": 82,
   "metadata": {},
   "outputs": [
    {
     "name": "stdout",
     "output_type": "stream",
     "text": [
      "Linear regression - training, R2:0.4410582069249571\n",
      "Linear regression - validation, R2:0.4461237684571465\n"
     ]
    }
   ],
   "source": [
    "r2_val_linReg = r2_score(y_val, y_valPred_linReg)\n",
    "r2_train_linReg = r2_score(y_train, y_trainPred_linReg)\n",
    "\n",
    "print('Linear regression - training, R2:' + str(r2_train_linReg))\n",
    "print('Linear regression - validation, R2:' + str(r2_val_linReg))\n"
   ]
  },
  {
   "cell_type": "code",
   "execution_count": 83,
   "metadata": {},
   "outputs": [
    {
     "name": "stdout",
     "output_type": "stream",
     "text": [
      "Linear regression - training, MSE:48.09618734057396\n",
      "Linear regression - validation, MSE:47.33314581978869\n"
     ]
    }
   ],
   "source": [
    "mse_val_linReg = mean_squared_error(y_val, y_valPred_linReg)\n",
    "mse_train_linReg = mean_squared_error(y_train, y_trainPred_linReg)\n",
    "\n",
    "print('Linear regression - training, MSE:' + str(mse_train_linReg))\n",
    "print('Linear regression - validation, MSE:' + str(mse_val_linReg))\n"
   ]
  },
  {
   "cell_type": "markdown",
   "metadata": {},
   "source": [
    "### Linear regression with Lasso regularization (i.e. feature selection)"
   ]
  },
  {
   "cell_type": "code",
   "execution_count": 30,
   "metadata": {},
   "outputs": [
    {
     "data": {
      "text/plain": [
       "Index(['key', 'fare_amount', 'pickup_datetime', 'pickup_longitude',\n",
       "       'pickup_latitude', 'dropoff_longitude', 'dropoff_latitude',\n",
       "       'passenger_count', 'weekday', 'year', 'month', 'day', 'hour',\n",
       "       'distance', 'distance_log'],\n",
       "      dtype='object')"
      ]
     },
     "execution_count": 30,
     "metadata": {},
     "output_type": "execute_result"
    }
   ],
   "source": [
    "train2.columns"
   ]
  },
  {
   "cell_type": "code",
   "execution_count": 32,
   "metadata": {},
   "outputs": [],
   "source": [
    "X_train_lasso = train2.drop(['fare_amount','key','pickup_datetime','distance'],axis=1, inplace=False)\n",
    "y_train_lasso = train2[['fare_amount']]\n",
    "\n",
    "X_val_lasso = val.drop(['fare_amount','key','pickup_datetime','distance'],axis=1, inplace=False)\n",
    "y_val_lasso = val[['fare_amount']]"
   ]
  },
  {
   "cell_type": "code",
   "execution_count": 35,
   "metadata": {},
   "outputs": [
    {
     "data": {
      "text/plain": [
       "(677242, 11)"
      ]
     },
     "execution_count": 35,
     "metadata": {},
     "output_type": "execute_result"
    }
   ],
   "source": [
    "X_train_lasso.shape"
   ]
  },
  {
   "cell_type": "code",
   "execution_count": 36,
   "metadata": {},
   "outputs": [
    {
     "data": {
      "text/plain": [
       "(677242, 1)"
      ]
     },
     "execution_count": 36,
     "metadata": {},
     "output_type": "execute_result"
    }
   ],
   "source": [
    "y_train_lasso.shape"
   ]
  },
  {
   "cell_type": "code",
   "execution_count": 39,
   "metadata": {},
   "outputs": [],
   "source": [
    "scaler_lasso = StandardScaler()\n",
    "scaler_lasso.fit(X_train_lasso)\n",
    "\n",
    "#use same scaler for both, based on X_train_lasso data\n",
    "X_trainLassoNorm = scaler_lasso.transform(X_train_lasso)\n",
    "X_valLassoNorm = scaler_lasso.transform(X_val_lasso)"
   ]
  },
  {
   "cell_type": "code",
   "execution_count": 40,
   "metadata": {},
   "outputs": [
    {
     "name": "stderr",
     "output_type": "stream",
     "text": [
      "/home/a/miniconda2/envs/kernpy3/lib/python3.6/site-packages/sklearn/model_selection/_split.py:1978: FutureWarning: The default value of cv will change from 3 to 5 in version 0.22. Specify it explicitly to silence this warning.\n",
      "  warnings.warn(CV_WARNING, FutureWarning)\n"
     ]
    },
    {
     "data": {
      "text/plain": [
       "LassoCV(alphas=None, copy_X=True, cv='warn', eps=0.001, fit_intercept=True,\n",
       "        max_iter=1000, n_alphas=100, n_jobs=None, normalize=False,\n",
       "        positive=False, precompute='auto', random_state=None,\n",
       "        selection='cyclic', tol=0.0001, verbose=False)"
      ]
     },
     "execution_count": 40,
     "metadata": {},
     "output_type": "execute_result"
    }
   ],
   "source": [
    "lassoReg = linear_model.LassoCV()\n",
    "lassoReg.fit(X_trainLassoNorm, y_train_lasso.values.ravel())"
   ]
  },
  {
   "cell_type": "code",
   "execution_count": 42,
   "metadata": {},
   "outputs": [],
   "source": [
    "y_valPred_lassoReg = lassoReg.predict(X_valLassoNorm)\n",
    "y_trainPred_lassoReg = lassoReg.predict(X_trainLassoNorm)"
   ]
  },
  {
   "cell_type": "code",
   "execution_count": 46,
   "metadata": {},
   "outputs": [
    {
     "name": "stdout",
     "output_type": "stream",
     "text": [
      "Linear regression with Lasso reg. - training, R2:0.5719662853910872\n",
      "Linear regression with Lasso reg. - validation, R2:0.5746397898289701\n"
     ]
    }
   ],
   "source": [
    "r2_val_lassoReg = r2_score(y_val_lasso, y_valPred_lassoReg)\n",
    "r2_train_lassoReg = r2_score(y_train_lasso, y_trainPred_lassoReg)\n",
    "\n",
    "print('Linear regression with Lasso reg. - training, R2:' + str(r2_train_lassoReg))\n",
    "print('Linear regression with Lasso reg. - validation, R2:' + str(r2_val_lassoReg))"
   ]
  },
  {
   "cell_type": "code",
   "execution_count": 47,
   "metadata": {},
   "outputs": [
    {
     "name": "stdout",
     "output_type": "stream",
     "text": [
      "Linear regression with Lasso reg. - training, MSE:36.659284901011354\n",
      "Linear regression with Lasso reg. - validation, MSE:36.75007388604558\n"
     ]
    }
   ],
   "source": [
    "mse_val_lassoReg = mean_squared_error(y_val_lasso, y_valPred_lassoReg)\n",
    "mse_train_lassoReg = mean_squared_error(y_train_lasso, y_trainPred_lassoReg)\n",
    "\n",
    "print('Linear regression with Lasso reg. - training, MSE:' + str(mse_train_lassoReg))\n",
    "print('Linear regression with Lasso reg. - validation, MSE:' + str(mse_val_lassoReg))"
   ]
  },
  {
   "cell_type": "markdown",
   "metadata": {},
   "source": [
    "### Random forest regression\n",
    "\n",
    "Decision trees can deal with non-linearity relationships between independent variables and the dependent variable (fare_amount), unlike linear regressors."
   ]
  },
  {
   "cell_type": "code",
   "execution_count": 56,
   "metadata": {},
   "outputs": [
    {
     "name": "stderr",
     "output_type": "stream",
     "text": [
      "/home/a/miniconda2/envs/kernpy3/lib/python3.6/site-packages/sklearn/ensemble/forest.py:245: FutureWarning: The default value of n_estimators will change from 10 in version 0.20 to 100 in 0.22.\n",
      "  \"10 in version 0.20 to 100 in 0.22.\", FutureWarning)\n"
     ]
    },
    {
     "data": {
      "text/plain": [
       "RandomForestRegressor(bootstrap=True, criterion='mse', max_depth=None,\n",
       "                      max_features='auto', max_leaf_nodes=None,\n",
       "                      min_impurity_decrease=0.0, min_impurity_split=None,\n",
       "                      min_samples_leaf=1, min_samples_split=2,\n",
       "                      min_weight_fraction_leaf=0.0, n_estimators=10,\n",
       "                      n_jobs=None, oob_score=False, random_state=None,\n",
       "                      verbose=0, warm_start=False)"
      ]
     },
     "execution_count": 56,
     "metadata": {},
     "output_type": "execute_result"
    }
   ],
   "source": [
    "randFor = RandomForestRegressor()\n",
    "\n",
    "#decisions trees don't need normalized data since they don't assume any distribution\n",
    "randFor.fit(X_train_lasso, y_train_lasso.values.ravel())"
   ]
  },
  {
   "cell_type": "code",
   "execution_count": 57,
   "metadata": {},
   "outputs": [],
   "source": [
    "y_valPred_randFor = randFor.predict(X_val_lasso)\n",
    "y_trainPred_randFor = randFor.predict(X_train_lasso)"
   ]
  },
  {
   "cell_type": "code",
   "execution_count": 58,
   "metadata": {},
   "outputs": [
    {
     "name": "stdout",
     "output_type": "stream",
     "text": [
      "Random forest regression - training, R2:0.9757256066926794\n",
      "Random forest regression - validation, R2:0.8645826429201648\n"
     ]
    }
   ],
   "source": [
    "r2_val_randFor = r2_score(y_val_lasso, y_valPred_randFor)\n",
    "r2_train_randFor = r2_score(y_train_lasso, y_trainPred_randFor)\n",
    "\n",
    "print('Random forest regression - training, R2:' + str(r2_train_randFor))\n",
    "print('Random forest regression - validation, R2:' + str(r2_val_randFor))"
   ]
  },
  {
   "cell_type": "code",
   "execution_count": 59,
   "metadata": {},
   "outputs": [
    {
     "name": "stdout",
     "output_type": "stream",
     "text": [
      "Random forest regression - training, MSE:2.0789995499895175\n",
      "Random forest regression - validation, MSE:11.6997259243782\n"
     ]
    }
   ],
   "source": [
    "mse_val_randFor = mean_squared_error(y_val_lasso, y_valPred_randFor)\n",
    "mse_train_randFor = mean_squared_error(y_train_lasso, y_trainPred_randFor)\n",
    "\n",
    "print('Random forest regression - training, MSE:' + str(mse_train_randFor))\n",
    "print('Random forest regression - validation, MSE:' + str(mse_val_randFor))"
   ]
  },
  {
   "cell_type": "markdown",
   "metadata": {},
   "source": [
    "### XGBoost regression\n",
    "\n",
    "With this approach with reduce not only variance (as in random forests) but also the bias.\n",
    "It has also regularization to avoid overfitting."
   ]
  },
  {
   "cell_type": "code",
   "execution_count": 90,
   "metadata": {},
   "outputs": [
    {
     "name": "stdout",
     "output_type": "stream",
     "text": [
      "XGBRegressor(base_score=0.5, booster='gbtree', colsample_bylevel=1,\n",
      "             colsample_bynode=1, colsample_bytree=1, gamma=0,\n",
      "             importance_type='gain', learning_rate=0.1, max_delta_step=0,\n",
      "             max_depth=3, min_child_weight=1, missing=None, n_estimators=100,\n",
      "             n_jobs=1, nthread=None, objective='reg:squarederror',\n",
      "             random_state=0, reg_alpha=0, reg_lambda=1, scale_pos_weight=1,\n",
      "             seed=None, silent=None, subsample=1, verbosity=1)\n"
     ]
    }
   ],
   "source": [
    "# https://datascience.stackexchange.com/questions/23789/why-do-we-need-xgboost-and-random-forest\n",
    "xgbr = xgb.XGBRegressor(objective ='reg:squarederror')  #objective changed based on warning: \"reg:linear is now deprecated in favor of reg:squarederror.\"\n",
    "print(xgbr)"
   ]
  },
  {
   "cell_type": "code",
   "execution_count": 92,
   "metadata": {},
   "outputs": [
    {
     "data": {
      "text/plain": [
       "XGBRegressor(base_score=0.5, booster='gbtree', colsample_bylevel=1,\n",
       "             colsample_bynode=1, colsample_bytree=1, gamma=0,\n",
       "             importance_type='gain', learning_rate=0.1, max_delta_step=0,\n",
       "             max_depth=3, min_child_weight=1, missing=None, n_estimators=100,\n",
       "             n_jobs=1, nthread=None, objective='reg:squarederror',\n",
       "             random_state=0, reg_alpha=0, reg_lambda=1, scale_pos_weight=1,\n",
       "             seed=None, silent=None, subsample=1, verbosity=1)"
      ]
     },
     "execution_count": 92,
     "metadata": {},
     "output_type": "execute_result"
    }
   ],
   "source": [
    "#again here, using decision trees, so no need \n",
    "xgbr.fit(X_train_lasso, y_train_lasso.values.ravel())"
   ]
  },
  {
   "cell_type": "code",
   "execution_count": 76,
   "metadata": {},
   "outputs": [],
   "source": [
    "y_valPred_xgbr = xgbr.predict(X_val_lasso)\n",
    "y_trainPred_xgbr = xgbr.predict(X_train_lasso)"
   ]
  },
  {
   "cell_type": "code",
   "execution_count": 78,
   "metadata": {},
   "outputs": [
    {
     "name": "stdout",
     "output_type": "stream",
     "text": [
      "XBoost regression - training, R2:0.8637202291088693\n",
      "XBoost regression - validation, R2:0.8617769193325253\n"
     ]
    }
   ],
   "source": [
    "r2_val_xgbr = r2_score(y_val_lasso, y_valPred_xgbr)\n",
    "r2_train_xgbr = r2_score(y_train_lasso, y_trainPred_xgbr)\n",
    "\n",
    "print('XGBoost regression - training, R2:' + str(r2_train_xgbr))\n",
    "print('XGBoost regression - validation, R2:' + str(r2_val_xgbr))"
   ]
  },
  {
   "cell_type": "code",
   "execution_count": 79,
   "metadata": {},
   "outputs": [
    {
     "name": "stdout",
     "output_type": "stream",
     "text": [
      "XBoost regression - training, MSE:11.671788405516615\n",
      "XBoost forest regression - validation, MSE:11.94213352782591\n"
     ]
    }
   ],
   "source": [
    "mse_val_xgbr = mean_squared_error(y_val_lasso, y_valPred_xgbr)\n",
    "mse_train_xgbr = mean_squared_error(y_train_lasso, y_trainPred_xgbr)\n",
    "\n",
    "print('XGBoost regression - training, MSE:' + str(mse_train_xgbr))\n",
    "print('XGBoost forest regression - validation, MSE:' + str(mse_val_xgbr))"
   ]
  },
  {
   "cell_type": "markdown",
   "metadata": {},
   "source": [
    "- #### XGBoost with parameter tuning"
   ]
  },
  {
   "cell_type": "code",
   "execution_count": 82,
   "metadata": {},
   "outputs": [],
   "source": [
    "# Parameters that are going to be tuned:\n",
    "params = {\n",
    "    'max_depth':3,\n",
    "    'min_child_weight': 1,\n",
    "    'learning_rate': 0.1,\n",
    "    'subsample': 1,\n",
    "    'colsample_bytree': 1,\n",
    "    # Other parameters\n",
    "    'objective':'reg:squarederror',\n",
    "}\n",
    "params['eval_metric'] = \"mse\"\n",
    "num_boost_round = 999"
   ]
  },
  {
   "cell_type": "code",
   "execution_count": 93,
   "metadata": {},
   "outputs": [],
   "source": [
    "#rather than panda daframes or numpy arrays, XGBoost uses DMatrices for train part\n",
    "xgtrain = xgb.DMatrix(X_train_lasso, y_train_lasso.values)\n",
    "xgtest = xgb.DMatrix(X_val_lasso)"
   ]
  },
  {
   "cell_type": "code",
   "execution_count": 94,
   "metadata": {},
   "outputs": [],
   "source": [
    "#First we tune max_depth and min_child_weight (related with train data under/overfitting)\n",
    "param_set1 = {\n",
    " 'max_depth':range(3,10,2),\n",
    " 'min_child_weight':range(1,6,2)\n",
    "}\n",
    "\n",
    "gsearch1 = GridSearchCV(estimator = XGBClassifier( learning_rate =0.1, n_estimators=140, max_depth=5,\n",
    " min_child_weight=1, gamma=0, subsample=0.8, colsample_bytree=0.8,\n",
    " objective= 'binary:logistic', nthread=4, scale_pos_weight=1, seed=27), \n",
    " param_grid = param_test1, scoring='roc_auc',n_jobs=4,iid=False, cv=5)"
   ]
  },
  {
   "cell_type": "code",
   "execution_count": null,
   "metadata": {},
   "outputs": [],
   "source": []
  }
 ],
 "metadata": {
  "colab": {
   "collapsed_sections": [],
   "include_colab_link": true,
   "name": "NYTaxiFare_1_ExploratoryAnalysis_&_Preprocessing.ipynb",
   "provenance": []
  },
  "kernelspec": {
   "display_name": "kernpy3",
   "language": "python",
   "name": "kernpy3"
  },
  "language_info": {
   "codemirror_mode": {
    "name": "ipython",
    "version": 3
   },
   "file_extension": ".py",
   "mimetype": "text/x-python",
   "name": "python",
   "nbconvert_exporter": "python",
   "pygments_lexer": "ipython3",
   "version": "3.6.9"
  }
 },
 "nbformat": 4,
 "nbformat_minor": 1
}
